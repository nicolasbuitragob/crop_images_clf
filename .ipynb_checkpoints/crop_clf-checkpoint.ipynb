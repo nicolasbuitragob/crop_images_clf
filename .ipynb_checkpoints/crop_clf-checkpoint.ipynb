{
 "cells": [
  {
   "cell_type": "code",
   "execution_count": 1,
   "id": "affecting-duplicate",
   "metadata": {},
   "outputs": [],
   "source": [
    "import os\n",
    "import numpy as np\n",
    "import zipfile\n",
    "import tensorflow as tf\n",
    "import matplotlib.pyplot as plt\n",
    "import pandas as pd\n",
    "from tensorflow import keras\n",
    "from tensorflow.keras import layers\n",
    "from tensorflow.keras.models import Sequential\n"
   ]
  },
  {
   "cell_type": "code",
   "execution_count": 2,
   "id": "ordinary-version",
   "metadata": {},
   "outputs": [],
   "source": [
    "with zipfile.ZipFile('archive.zip','r') as f:\n",
    "    f.extractall('archive')"
   ]
  },
  {
   "cell_type": "code",
   "execution_count": 3,
   "id": "right-berkeley",
   "metadata": {},
   "outputs": [],
   "source": [
    "crops = ['jute','maize','rice','sugarcane','wheat']\n",
    "paths = ['archive/crop_images','archive/kag2','archive/test_crop_image']"
   ]
  },
  {
   "cell_type": "code",
   "execution_count": 4,
   "id": "timely-midwest",
   "metadata": {},
   "outputs": [],
   "source": [
    "img_height = 128 \n",
    "img_width = 128\n",
    "batch_size = 16\n",
    "def load_data(path):\n",
    "    data = tf.keras.preprocessing.image_dataset_from_directory(\n",
    "        path,\n",
    "        batch_size=batch_size, \n",
    "        image_size=(img_height,img_width),\n",
    "        shuffle=True, seed=0\n",
    "    )\n",
    "    return data\n"
   ]
  },
  {
   "cell_type": "code",
   "execution_count": 5,
   "id": "similar-equality",
   "metadata": {},
   "outputs": [
    {
     "name": "stdout",
     "output_type": "stream",
     "text": [
      "Found 804 files belonging to 5 classes.\n",
      "Found 201 files belonging to 5 classes.\n"
     ]
    }
   ],
   "source": [
    "train = load_data(paths[1])\n",
    "dev = load_data(paths[0])\n",
    "class_names = train.class_names"
   ]
  },
  {
   "cell_type": "code",
   "execution_count": 6,
   "id": "paperback-ethnic",
   "metadata": {},
   "outputs": [],
   "source": [
    "AUTOTUNE = tf.data.AUTOTUNE\n",
    "train = train.cache().shuffle(1000).prefetch(buffer_size=AUTOTUNE)\n",
    "dev = dev.cache().prefetch(buffer_size=AUTOTUNE)\n"
   ]
  },
  {
   "cell_type": "code",
   "execution_count": 7,
   "id": "distributed-thomas",
   "metadata": {},
   "outputs": [],
   "source": [
    "num_classes = 5\n",
    "\n",
    "model = Sequential([\n",
    "  layers.experimental.preprocessing.Rescaling(1./255, input_shape=(img_height, img_width, 3)),\n",
    "  layers.Conv2D(16, 3, padding='same', activation='relu'),\n",
    "  layers.MaxPooling2D(),\n",
    "  layers.Conv2D(32, 3, padding='same', activation='relu'),\n",
    "  layers.MaxPooling2D(),\n",
    "  layers.Conv2D(64, 3, padding='same', activation='relu'),\n",
    "  layers.MaxPooling2D(),\n",
    "  layers.Conv2D(128, 3, padding='same', activation='relu'),\n",
    "  layers.MaxPooling2D(),\n",
    "  layers.Flatten(),\n",
    "  layers.Dense(128, activation='relu'),\n",
    "  layers.Dense(num_classes)\n",
    "])\n"
   ]
  },
  {
   "cell_type": "code",
   "execution_count": 8,
   "id": "noted-disorder",
   "metadata": {},
   "outputs": [],
   "source": [
    "model.compile(optimizer = 'adam',\n",
    "              loss = tf.keras.losses.SparseCategoricalCrossentropy(from_logits=True),\n",
    "              metrics = ['accuracy'])\n"
   ]
  },
  {
   "cell_type": "code",
   "execution_count": 9,
   "id": "unexpected-strategy",
   "metadata": {},
   "outputs": [
    {
     "name": "stdout",
     "output_type": "stream",
     "text": [
      "Model: \"sequential\"\n",
      "_________________________________________________________________\n",
      "Layer (type)                 Output Shape              Param #   \n",
      "=================================================================\n",
      "rescaling (Rescaling)        (None, 128, 128, 3)       0         \n",
      "_________________________________________________________________\n",
      "conv2d (Conv2D)              (None, 128, 128, 16)      448       \n",
      "_________________________________________________________________\n",
      "max_pooling2d (MaxPooling2D) (None, 64, 64, 16)        0         \n",
      "_________________________________________________________________\n",
      "conv2d_1 (Conv2D)            (None, 64, 64, 32)        4640      \n",
      "_________________________________________________________________\n",
      "max_pooling2d_1 (MaxPooling2 (None, 32, 32, 32)        0         \n",
      "_________________________________________________________________\n",
      "conv2d_2 (Conv2D)            (None, 32, 32, 64)        18496     \n",
      "_________________________________________________________________\n",
      "max_pooling2d_2 (MaxPooling2 (None, 16, 16, 64)        0         \n",
      "_________________________________________________________________\n",
      "conv2d_3 (Conv2D)            (None, 16, 16, 128)       73856     \n",
      "_________________________________________________________________\n",
      "max_pooling2d_3 (MaxPooling2 (None, 8, 8, 128)         0         \n",
      "_________________________________________________________________\n",
      "flatten (Flatten)            (None, 8192)              0         \n",
      "_________________________________________________________________\n",
      "dense (Dense)                (None, 128)               1048704   \n",
      "_________________________________________________________________\n",
      "dense_1 (Dense)              (None, 5)                 645       \n",
      "=================================================================\n",
      "Total params: 1,146,789\n",
      "Trainable params: 1,146,789\n",
      "Non-trainable params: 0\n",
      "_________________________________________________________________\n"
     ]
    }
   ],
   "source": [
    "model.summary()\n"
   ]
  },
  {
   "cell_type": "code",
   "execution_count": 10,
   "id": "dense-globe",
   "metadata": {},
   "outputs": [
    {
     "name": "stdout",
     "output_type": "stream",
     "text": [
      "Epoch 1/30\n",
      "51/51 [==============================] - 3s 24ms/step - loss: 1.6048 - accuracy: 0.2489 - val_loss: 1.2663 - val_accuracy: 0.4876\n",
      "Epoch 2/30\n",
      "51/51 [==============================] - 1s 12ms/step - loss: 1.3353 - accuracy: 0.4644 - val_loss: 1.1675 - val_accuracy: 0.5473\n",
      "Epoch 3/30\n",
      "51/51 [==============================] - 1s 12ms/step - loss: 1.2151 - accuracy: 0.5027 - val_loss: 0.9730 - val_accuracy: 0.6219\n",
      "Epoch 4/30\n",
      "51/51 [==============================] - 1s 12ms/step - loss: 0.9299 - accuracy: 0.6505 - val_loss: 0.6822 - val_accuracy: 0.7711\n",
      "Epoch 5/30\n",
      "51/51 [==============================] - 1s 12ms/step - loss: 0.7647 - accuracy: 0.7300 - val_loss: 0.4948 - val_accuracy: 0.8159\n",
      "Epoch 6/30\n",
      "51/51 [==============================] - 1s 12ms/step - loss: 0.5160 - accuracy: 0.8387 - val_loss: 0.2615 - val_accuracy: 0.9353\n",
      "Epoch 7/30\n",
      "51/51 [==============================] - 1s 12ms/step - loss: 0.2701 - accuracy: 0.9116 - val_loss: 0.2093 - val_accuracy: 0.9204\n",
      "Epoch 8/30\n",
      "51/51 [==============================] - 1s 12ms/step - loss: 0.2829 - accuracy: 0.9011 - val_loss: 0.2109 - val_accuracy: 0.9502\n",
      "Epoch 9/30\n",
      "51/51 [==============================] - 1s 13ms/step - loss: 0.2085 - accuracy: 0.9362 - val_loss: 0.1848 - val_accuracy: 0.9453\n",
      "Epoch 10/30\n",
      "51/51 [==============================] - 1s 12ms/step - loss: 0.1603 - accuracy: 0.9597 - val_loss: 0.0373 - val_accuracy: 0.9900\n",
      "Epoch 11/30\n",
      "51/51 [==============================] - 1s 12ms/step - loss: 0.0493 - accuracy: 0.9872 - val_loss: 0.0136 - val_accuracy: 0.9950\n",
      "Epoch 12/30\n",
      "51/51 [==============================] - 1s 12ms/step - loss: 0.0447 - accuracy: 0.9837 - val_loss: 0.0132 - val_accuracy: 1.0000\n",
      "Epoch 13/30\n",
      "51/51 [==============================] - 1s 12ms/step - loss: 0.0531 - accuracy: 0.9862 - val_loss: 0.1021 - val_accuracy: 0.9751\n",
      "Epoch 14/30\n",
      "51/51 [==============================] - 1s 12ms/step - loss: 0.1259 - accuracy: 0.9608 - val_loss: 0.0585 - val_accuracy: 0.9900\n",
      "Epoch 15/30\n",
      "51/51 [==============================] - 1s 12ms/step - loss: 0.0482 - accuracy: 0.9872 - val_loss: 0.0044 - val_accuracy: 1.0000\n",
      "Epoch 16/30\n",
      "51/51 [==============================] - 1s 12ms/step - loss: 0.0045 - accuracy: 1.0000 - val_loss: 0.0018 - val_accuracy: 1.0000\n",
      "Epoch 17/30\n",
      "51/51 [==============================] - 1s 12ms/step - loss: 0.0035 - accuracy: 1.0000 - val_loss: 9.8139e-04 - val_accuracy: 1.0000\n",
      "Epoch 18/30\n",
      "51/51 [==============================] - 1s 12ms/step - loss: 0.0014 - accuracy: 1.0000 - val_loss: 7.4950e-04 - val_accuracy: 1.0000\n",
      "Epoch 19/30\n",
      "51/51 [==============================] - 1s 12ms/step - loss: 8.8222e-04 - accuracy: 1.0000 - val_loss: 5.0688e-04 - val_accuracy: 1.0000\n",
      "Epoch 20/30\n",
      "51/51 [==============================] - 1s 13ms/step - loss: 7.5162e-04 - accuracy: 1.0000 - val_loss: 4.1290e-04 - val_accuracy: 1.0000\n",
      "Epoch 21/30\n",
      "51/51 [==============================] - 1s 12ms/step - loss: 5.6676e-04 - accuracy: 1.0000 - val_loss: 3.2714e-04 - val_accuracy: 1.0000\n",
      "Epoch 22/30\n",
      "51/51 [==============================] - 1s 12ms/step - loss: 5.2035e-04 - accuracy: 1.0000 - val_loss: 2.7591e-04 - val_accuracy: 1.0000\n",
      "Epoch 23/30\n",
      "51/51 [==============================] - 1s 12ms/step - loss: 3.5337e-04 - accuracy: 1.0000 - val_loss: 2.3377e-04 - val_accuracy: 1.0000\n",
      "Epoch 24/30\n",
      "51/51 [==============================] - 1s 12ms/step - loss: 4.3854e-04 - accuracy: 1.0000 - val_loss: 2.2477e-04 - val_accuracy: 1.0000\n",
      "Epoch 25/30\n",
      "51/51 [==============================] - 1s 12ms/step - loss: 2.6877e-04 - accuracy: 1.0000 - val_loss: 1.7595e-04 - val_accuracy: 1.0000\n",
      "Epoch 26/30\n",
      "51/51 [==============================] - 1s 13ms/step - loss: 3.0543e-04 - accuracy: 1.0000 - val_loss: 1.5047e-04 - val_accuracy: 1.0000\n",
      "Epoch 27/30\n",
      "51/51 [==============================] - 1s 12ms/step - loss: 1.6440e-04 - accuracy: 1.0000 - val_loss: 1.3882e-04 - val_accuracy: 1.0000\n",
      "Epoch 28/30\n",
      "51/51 [==============================] - 1s 12ms/step - loss: 2.5809e-04 - accuracy: 1.0000 - val_loss: 1.2027e-04 - val_accuracy: 1.0000\n",
      "Epoch 29/30\n",
      "51/51 [==============================] - 1s 13ms/step - loss: 1.7878e-04 - accuracy: 1.0000 - val_loss: 1.1127e-04 - val_accuracy: 1.0000\n",
      "Epoch 30/30\n",
      "51/51 [==============================] - 1s 12ms/step - loss: 1.5087e-04 - accuracy: 1.0000 - val_loss: 9.8697e-05 - val_accuracy: 1.0000\n"
     ]
    }
   ],
   "source": [
    "epochs = 30\n",
    "history = model.fit(\n",
    "    train,\n",
    "    validation_data = dev,\n",
    "    epochs = epochs\n",
    ")"
   ]
  },
  {
   "cell_type": "code",
   "execution_count": 16,
   "id": "aggressive-apache",
   "metadata": {},
   "outputs": [],
   "source": [
    "acc = history.history['accuracy']\n",
    "dev_acc = history.history['val_accuracy']\n",
    "loss = history.history['loss']\n",
    "dev_loss = history.history['val_loss']\n",
    "epochs_range = range(epochs)\n"
   ]
  },
  {
   "cell_type": "code",
   "execution_count": 17,
   "id": "dietary-cornwall",
   "metadata": {},
   "outputs": [
    {
     "data": {
      "image/png": "[encoded data removed]",
      "text/plain": [
       "<Figure size 576x576 with 2 Axes>"
      ]
     },
     "metadata": {
      "needs_background": "light"
     },
     "output_type": "display_data"
    }
   ],
   "source": [
    "plt.figure(figsize=(8, 8))\n",
    "plt.subplot(1, 2, 1)\n",
    "plt.plot(epochs_range, acc, label='Training Accuracy')\n",
    "plt.plot(epochs_range, dev_acc, label='Validation Accuracy')\n",
    "plt.legend(loc='lower right')\n",
    "plt.title('Training and Validation Accuracy')\n",
    "\n",
    "plt.subplot(1, 2, 2)\n",
    "plt.plot(epochs_range, loss, label='Training Loss')\n",
    "plt.plot(epochs_range, dev_loss, label='Validation Loss')\n",
    "plt.legend(loc='upper right')\n",
    "plt.title('Training and Validation Loss')\n",
    "plt.show()\n"
   ]
  },
  {
   "cell_type": "code",
   "execution_count": 18,
   "id": "happy-switch",
   "metadata": {},
   "outputs": [],
   "source": [
    "def test_model(image_path):\n",
    "    img = tf.keras.preprocessing.image.load_img(\n",
    "            image_path,\n",
    "            target_size = (img_height,img_width)\n",
    "    )\n",
    "    img_array = keras.preprocessing.image.img_to_array(img)\n",
    "    img_tensor = tf.expand_dims(img_array, 0)\n",
    "    pred = model.predict(img_tensor)\n",
    "    score = tf.nn.softmax(pred)\n",
    "    class_name = class_names[np.argmax(score)]\n",
    "    percentage = 100*np.max(score)\n",
    "    return class_name,percentage"
   ]
  },
  {
   "cell_type": "code",
   "execution_count": 19,
   "id": "seven-desert",
   "metadata": {},
   "outputs": [],
   "source": [
    "test_list = []\n",
    "for test_file in os.listdir(paths[2]):\n",
    "    class_name,percentage = test_model(os.path.join(paths[2],test_file))\n",
    "    test_list.append([class_name,percentage,test_file])"
   ]
  },
  {
   "cell_type": "code",
   "execution_count": 20,
   "id": "younger-conflict",
   "metadata": {},
   "outputs": [
    {
     "data": {
      "text/plain": [
       "[['rice', 52.199071645736694, 'sugarcanefield02.jpg'],\n",
       " ['wheat', 99.37835931777954, 'wheatcropfield04.jpg'],\n",
       " ['maize', 84.0968370437622, 'sugarcane-field.jpg'],\n",
       " ['rice', 99.99949932098389, 'jute03.jpg'],\n",
       " ['maize', 99.99680519104004, 'maize02.jfif'],\n",
       " ['maize', 99.883371591568, 'juteplant.jpg'],\n",
       " ['rice', 54.023557901382446, 'rice-field01.jpg'],\n",
       " ['maize',\n",
       "  98.98936152458191,\n",
       "  'sugarcane-farm-in-the-mountain-countryside-of-thailand.jpg'],\n",
       " ['jute', 97.3305881023407, 'rice-field02.jpg'],\n",
       " ['maize', 99.81809854507446, 'maize corn set2.jpg'],\n",
       " ['rice', 99.99964237213135, 'maize-field01.jpg'],\n",
       " ['sugarcane', 99.96376037597656, 'maize plant set.jpg'],\n",
       " ['maize', 99.99902248382568, 'maize-field.jpg'],\n",
       " ['rice', 99.29940104484558, 'juteimg.jpg'],\n",
       " ['maize', 99.94615912437439, 'rice-4967164_1280.jpg'],\n",
       " ['maize', 99.99996423721313, 'wheatcrops.jpg'],\n",
       " ['rice', 40.34348428249359, 'rice-828540_1280.jpg'],\n",
       " ['maize', 99.77437257766724, 'wheat.jpg'],\n",
       " ['maize', 99.37663078308105, 'maize_fieldmexico.jpeg'],\n",
       " ['wheat', 100.0, 'wheat-crop.jpg'],\n",
       " ['maize', 99.99998807907104, 'sugarcane fields.jpg'],\n",
       " ['sugarcane', 96.5276837348938, 'jute002.jpg'],\n",
       " ['wheat', 96.11535668373108, 'wheat-field02.jpg'],\n",
       " ['sugarcane', 57.35519528388977, 'sugarcaneplants.jpg'],\n",
       " ['maize', 99.99990463256836, 'wheat-field01.jpg'],\n",
       " ['jute', 99.99998807907104, 'juteplants.jpg'],\n",
       " ['jute', 99.99997615814209, 'maize000.jfif'],\n",
       " ['sugarcane', 96.15539312362671, 'jutefield.jpg'],\n",
       " ['wheat', 98.74883890151978, 'wheat-field.jfif'],\n",
       " ['wheat', 100.0, 'wheatarialview.jfif'],\n",
       " ['maize', 99.8633325099945, 'maize-Field-Corn.jpg'],\n",
       " ['rice', 77.08142399787903, 'rice-5174887_1280.jpg'],\n",
       " ['maize', 97.41129875183105, 'sugarcane-field8.jpg'],\n",
       " ['jute', 99.51692223548889, 'maize images.jfif'],\n",
       " ['maize', 99.99995231628418, 'maizecornleaves.jfif'],\n",
       " ['jute', 99.99971389770508, 'juteleaves.jpg'],\n",
       " ['maize', 99.7395396232605, 'wheat-field-395545_960_720.jpg'],\n",
       " ['rice', 98.58148097991943, 'rice-field.jpg'],\n",
       " ['rice', 99.9997615814209, 'rice-fields-204128_1280.jpg'],\n",
       " ['jute', 100.0, 'jute-field.jpg'],\n",
       " ['wheat', 100.0, 'wheatcrop01.jpg'],\n",
       " ['wheat',\n",
       "  99.99890327453613,\n",
       "  'wheat-field-artificial-irrigation-rural-electrification-to-harvest-166395991.jpg'],\n",
       " ['maize', 89.88543152809143, 'rice8122f869e3f.jpg'],\n",
       " ['jute', 99.99938011169434, 'jute003.jpg'],\n",
       " ['maize', 99.99998807907104, 'maize00corn-fields.jpg'],\n",
       " ['maize', 99.7687578201294, 'wheat-field03.jpg'],\n",
       " ['rice', 99.98190999031067, 'wheatcropfield.jpg'],\n",
       " ['maize', 99.97969269752502, 'wheatarial02.jpg'],\n",
       " ['wheat', 99.99949932098389, 'wheatss.jpg'],\n",
       " ['maize', 99.99983310699463, 'sugarcaneplant.jpg'],\n",
       " ['maize', 99.9995470046997, 'sugarcanefield.jpg']]"
      ]
     },
     "execution_count": 20,
     "metadata": {},
     "output_type": "execute_result"
    }
   ],
   "source": [
    "test_list"
   ]
  },
  {
   "cell_type": "code",
   "execution_count": null,
   "id": "unlimited-logging",
   "metadata": {},
   "outputs": [],
   "source": []
  },
  {
   "cell_type": "code",
   "execution_count": null,
   "id": "sized-thomas",
   "metadata": {},
   "outputs": [],
   "source": []
  },
  {
   "cell_type": "code",
   "execution_count": null,
   "id": "isolated-northeast",
   "metadata": {},
   "outputs": [],
   "source": []
  },
  {
   "cell_type": "code",
   "execution_count": null,
   "id": "colored-dispute",
   "metadata": {},
   "outputs": [],
   "source": []
  },
  {
   "cell_type": "code",
   "execution_count": null,
   "id": "muslim-beauty",
   "metadata": {},
   "outputs": [],
   "source": []
  },
  {
   "cell_type": "code",
   "execution_count": null,
   "id": "sitting-functionality",
   "metadata": {},
   "outputs": [],
   "source": []
  }
 ],
 "metadata": {
  "kernelspec": {
   "display_name": "Python 3",
   "language": "python",
   "name": "python3"
  },
  "language_info": {
   "codemirror_mode": {
    "name": "ipython",
    "version": 3
   },
   "file_extension": ".py",
   "mimetype": "text/x-python",
   "name": "python",
   "nbconvert_exporter": "python",
   "pygments_lexer": "ipython3",
   "version": "3.8.5"
  }
 },
 "nbformat": 4,
 "nbformat_minor": 5
}

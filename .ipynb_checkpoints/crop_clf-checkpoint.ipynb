{
 "cells": [
  {
   "cell_type": "code",
   "execution_count": 1,
   "id": "seasonal-tablet",
   "metadata": {},
   "outputs": [],
   "source": [
    "import os\n",
    "import numpy as np\n",
    "import zipfile\n",
    "import tensorflow as tf\n",
    "import matplotlib.pyplot as plt\n",
    "import pandas as pd\n",
    "from tensorflow import keras\n",
    "from tensorflow.keras import layers\n",
    "from tensorflow.keras.models import Sequential\n",
    "from sklearn.metrics import accuracy_score"
   ]
  },
  {
   "cell_type": "code",
   "execution_count": 2,
   "id": "extended-international",
   "metadata": {},
   "outputs": [],
   "source": [
    "#Extract data\n",
    "with zipfile.ZipFile('archive.zip','r') as f:\n",
    "    f.extractall('archive')\n",
    "with zipfile.ZipFile('archive_test.zip','r') as f_t:\n",
    "        f_t.extractall('archive_test')\n",
    "    "
   ]
  },
  {
   "cell_type": "code",
   "execution_count": 3,
   "id": "dated-ordinary",
   "metadata": {},
   "outputs": [],
   "source": [
    "crops = ['jute','maize','rice','sugarcane','wheat']\n",
    "path = 'archive/kag2' #Path to training data\n",
    "test_path = 'archive_test/test_crop_image' #Path to test data"
   ]
  },
  {
   "cell_type": "markdown",
   "id": "proud-fluid",
   "metadata": {},
   "source": [
    "#### Load Data\n",
    "Data is loaded using tensorflow keras: 'preprocessing.image_dataset_from_directory' class since the training examples are divided by directories.\n",
    "\n",
    "Data is split into 80/20 ratio for traning and validation set\n",
    "\n",
    "Data is downloaded from [Kaggle](https://www.kaggle.com/aman2000jaiswal/agriculture-crop-images). 'Agriculture crop images'\n"
   ]
  },
  {
   "cell_type": "code",
   "execution_count": 4,
   "id": "massive-pleasure",
   "metadata": {},
   "outputs": [],
   "source": [
    "img_height = 256 \n",
    "img_width = 256\n",
    "batch_size = 16\n",
    "num_classes = 5\n",
    "\n",
    "def load_data(path,dataset):\n",
    "    data = tf.keras.preprocessing.image_dataset_from_directory(\n",
    "        path,\n",
    "        validation_split = 0.2,\n",
    "        subset = dataset,\n",
    "        batch_size=batch_size, \n",
    "        image_size=(img_height,img_width),\n",
    "        shuffle=True, seed=0\n",
    "    )\n",
    "    return data\n"
   ]
  },
  {
   "cell_type": "code",
   "execution_count": 5,
   "id": "changing-palestine",
   "metadata": {},
   "outputs": [
    {
     "name": "stdout",
     "output_type": "stream",
     "text": [
      "Found 854 files belonging to 5 classes.\n",
      "Using 684 files for training.\n"
     ]
    }
   ],
   "source": [
    "#Load train data\n",
    "train = load_data(path,'training')"
   ]
  },
  {
   "cell_type": "code",
   "execution_count": 6,
   "id": "criminal-resident",
   "metadata": {},
   "outputs": [
    {
     "name": "stdout",
     "output_type": "stream",
     "text": [
      "Found 854 files belonging to 5 classes.\n",
      "Using 170 files for validation.\n"
     ]
    }
   ],
   "source": [
    "#Load validation data\n",
    "dev = load_data(path,'validation')"
   ]
  },
  {
   "cell_type": "code",
   "execution_count": 7,
   "id": "broad-representative",
   "metadata": {},
   "outputs": [
    {
     "data": {
      "text/plain": [
       "['jute', 'maize', 'rice', 'sugarcane', 'wheat']"
      ]
     },
     "execution_count": 7,
     "metadata": {},
     "output_type": "execute_result"
    }
   ],
   "source": [
    "#'tf.keras.preprocessing.image_dataset_from_directory' makes a class from each directory in the main folder \n",
    "class_names = train.class_names\n",
    "class_names"
   ]
  },
  {
   "cell_type": "code",
   "execution_count": 8,
   "id": "orange-warrant",
   "metadata": {},
   "outputs": [
    {
     "data": {
      "text/plain": [
       "{'jute': 0, 'maize': 1, 'rice': 2, 'sugarcane': 3, 'wheat': 4}"
      ]
     },
     "execution_count": 8,
     "metadata": {},
     "output_type": "execute_result"
    }
   ],
   "source": [
    "#We are giving a number label to each class \n",
    "\n",
    "label_class = {}\n",
    "for i,label in enumerate(class_names):\n",
    "    label_class[label] = i\n",
    "label_class"
   ]
  },
  {
   "cell_type": "code",
   "execution_count": 9,
   "id": "whole-reservation",
   "metadata": {},
   "outputs": [],
   "source": [
    "AUTOTUNE = tf.data.AUTOTUNE\n",
    "train = train.cache().shuffle(1000).prefetch(buffer_size=AUTOTUNE)\n",
    "dev = dev.cache().prefetch(buffer_size=AUTOTUNE)"
   ]
  },
  {
   "cell_type": "code",
   "execution_count": 10,
   "id": "pharmaceutical-decision",
   "metadata": {},
   "outputs": [],
   "source": [
    "#Function to compile de the model\n",
    "def compile_model(model,opt):\n",
    "    model.compile(optimizer = opt,\n",
    "                  loss = tf.keras.losses.SparseCategoricalCrossentropy(from_logits=True),\n",
    "                  metrics = ['accuracy'])"
   ]
  },
  {
   "cell_type": "code",
   "execution_count": 11,
   "id": "cardiovascular-evening",
   "metadata": {},
   "outputs": [],
   "source": [
    "#Function to train the model\n",
    "def train_model(model,epochs):\n",
    "    history = model.fit(\n",
    "            train,\n",
    "            validation_data = dev,\n",
    "            epochs = epochs\n",
    "        )\n",
    "    model.summary()\n",
    "    return history"
   ]
  },
  {
   "cell_type": "code",
   "execution_count": 12,
   "id": "grand-norwegian",
   "metadata": {},
   "outputs": [],
   "source": [
    "#Function to plot accuracy and lose curves\n",
    "def plot_curves(history,epochs):\n",
    "    acc = history.history['accuracy']\n",
    "    dev_acc = history.history['val_accuracy']\n",
    "    loss = history.history['loss']\n",
    "    dev_loss = history.history['val_loss']\n",
    "    epochs_range = range(epochs)\n",
    "    plt.figure(figsize=(8, 8))\n",
    "    plt.subplot(1, 2, 1)\n",
    "    plt.plot(epochs_range, acc, label='Training Accuracy')\n",
    "    plt.plot(epochs_range, dev_acc, label='Validation Accuracy')\n",
    "    plt.legend(loc='lower right')\n",
    "    plt.title('Training and Validation Accuracy')\n",
    "    plt.subplot(1, 2, 2)\n",
    "    plt.plot(epochs_range, loss, label='Training Loss')\n",
    "    plt.plot(epochs_range, dev_loss, label='Validation Loss')\n",
    "    plt.legend(loc='upper right')\n",
    "    plt.title('Training and Validation Loss')\n",
    "    plt.show()"
   ]
  },
  {
   "cell_type": "code",
   "execution_count": 13,
   "id": "western-investment",
   "metadata": {},
   "outputs": [],
   "source": [
    "#Function to load thest data\n",
    "def load_test_data():\n",
    "    test_data = pd.read_csv('archive_test/testdata.csv').iloc[:,1:]\n",
    "    path_kaggle = '/kaggle/input/testssss/test_crop_image/'\n",
    "    path_test_data = []\n",
    "    for i in test_data['testpath']:\n",
    "        path_test_data.append(os.path.relpath(i,path_kaggle))\n",
    "    test_data['image'] = path_test_data\n",
    "    return path_test_data,test_data"
   ]
  },
  {
   "cell_type": "code",
   "execution_count": 14,
   "id": "sunset-slovak",
   "metadata": {},
   "outputs": [],
   "source": [
    "#Function to test model\n",
    "\n",
    "def test_model(image_path,model):\n",
    "    img = tf.keras.preprocessing.image.load_img( #Load one image at time.\n",
    "            image_path,\n",
    "            target_size = (img_height,img_width)\n",
    "    )\n",
    "    img_array = keras.preprocessing.image.img_to_array(img) #converts image to array\n",
    "    img_tensor = tf.expand_dims(img_array, 0) #converts array to tensor by adding a batch\n",
    "    pred = model.predict(img_tensor) #use model to predict\n",
    "    score = tf.nn.softmax(pred) # Apply softmax to the prediction\n",
    "    class_name = class_names[np.argmax(score)] #Get the class name with the highest score\n",
    "    confidence = 100*np.max(score) #Get probability for the class name\n",
    "    pred_label = label_class[class_name]# Get label for the prediction\n",
    "    return class_name,confidence,pred_label"
   ]
  },
  {
   "cell_type": "code",
   "execution_count": 15,
   "id": "varying-weapon",
   "metadata": {},
   "outputs": [],
   "source": [
    "#Function to test model using accuracy\n",
    "def acc_score(path_test_data,test_data,model):  \n",
    "    test_list = []\n",
    "    for test_file in path_test_data: #Loop to iterate over each image in the directory\n",
    "        class_name,percentage,label = test_model(os.path.join(test_path,test_file),model) #apply prediction to one image\n",
    "        test_list.append(label)#append label to the list\n",
    "    test_data['pred'] = test_list # create a column in data frame with the list of labels predicted\n",
    "    y_true = test_data['croplabel'] #From test data file frome kaggle get the true label\n",
    "    y_pred = test_data['pred']   # get the pred label \n",
    "    acc = accuracy_score(y_true,y_pred) #get accuracy score for the whole test set \n",
    "    return acc*100 # get the percentage"
   ]
  },
  {
   "cell_type": "code",
   "execution_count": 16,
   "id": "extended-internet",
   "metadata": {},
   "outputs": [],
   "source": [
    "#Pipeline function to automate the compiling,train, plot curves and test data\n",
    "def pipeline(epochs,model,opt):\n",
    "    compile_model(model,opt)\n",
    "    history = train_model(model,epochs)\n",
    "    plot_curves(history,epochs)\n",
    "    path_test_data,test_data = load_test_data()\n",
    "    acc = acc_score(path_test_data,test_data,model)\n",
    "    return print('Accuracy score in the test set: ',acc)"
   ]
  },
  {
   "cell_type": "markdown",
   "id": "leading-paintball",
   "metadata": {},
   "source": [
    "## Model building\n",
    "\n",
    "We define an optimization algorithm: Adam in the first place and default hyperparameters\n",
    "\n",
    "Model architecture following [tensorflow](https://www.tensorflow.org/tutorials/images/classification) guide to image classification :\n",
    "\n",
    "1.Re escale data by dividing pixels by 255.\n",
    "\n",
    "2.Convolutional layer of 16 filters and 3x3 size, followed by a Max pooling layer\n",
    "\n",
    "3.Convolutional layer of 32 filters and 3x3 size followed by a Max pooling layer\n",
    "\n",
    "4.Flatten the output from the convolutional layer and apply dropout regularization of 0.2 \n",
    "\n",
    "5.Two fully connected layers of 512 and 128 neurons\n",
    "\n",
    "6.Output layer with number of neurons as the number of classes"
   ]
  },
  {
   "cell_type": "code",
   "execution_count": 17,
   "id": "light-terror",
   "metadata": {},
   "outputs": [],
   "source": [
    "opt = tf.keras.optimizers.Adam(learning_rate=0.001, beta_1=0.9, beta_2=0.999, epsilon=1e-07, amsgrad=False,\n",
    "    name='Adam')"
   ]
  },
  {
   "cell_type": "code",
   "execution_count": 17,
   "id": "enhanced-system",
   "metadata": {},
   "outputs": [],
   "source": [
    "\n",
    "initial_model = Sequential([\n",
    "  layers.experimental.preprocessing.Rescaling(1./255, input_shape=(img_height, img_width, 3)),\n",
    "  layers.Conv2D(16, 3, padding='same', activation='relu'),\n",
    "  layers.MaxPooling2D(),\n",
    "  layers.Conv2D(32, 3, padding='same', activation='relu'),\n",
    "  layers.MaxPooling2D(),\n",
    "  layers.Flatten(),\n",
    "  layers.Dropout(0.2),\n",
    "  layers.Dense(512, activation='relu'),\n",
    "  layers.Dense(128, activation='relu'),\n",
    "  layers.Dense(num_classes),\n",
    "  \n",
    "])"
   ]
  },
  {
   "cell_type": "code",
   "execution_count": 18,
   "id": "decimal-ready",
   "metadata": {},
   "outputs": [
    {
     "name": "stdout",
     "output_type": "stream",
     "text": [
      "Epoch 1/30\n",
      "43/43 [==============================] - 6s 83ms/step - loss: 7.5186 - accuracy: 0.2203 - val_loss: 1.4617 - val_accuracy: 0.4471\n",
      "Epoch 2/30\n",
      "43/43 [==============================] - 3s 62ms/step - loss: 1.3661 - accuracy: 0.4745 - val_loss: 0.8985 - val_accuracy: 0.7176\n",
      "Epoch 3/30\n",
      "43/43 [==============================] - 3s 63ms/step - loss: 0.6484 - accuracy: 0.7866 - val_loss: 0.7368 - val_accuracy: 0.7647\n",
      "Epoch 4/30\n",
      "43/43 [==============================] - 3s 63ms/step - loss: 0.3188 - accuracy: 0.9120 - val_loss: 0.6656 - val_accuracy: 0.8176\n",
      "Epoch 5/30\n",
      "43/43 [==============================] - 3s 63ms/step - loss: 0.1683 - accuracy: 0.9613 - val_loss: 0.6801 - val_accuracy: 0.8000\n",
      "Epoch 6/30\n",
      "43/43 [==============================] - 3s 63ms/step - loss: 0.0927 - accuracy: 0.9781 - val_loss: 0.7151 - val_accuracy: 0.7941\n",
      "Epoch 7/30\n",
      "43/43 [==============================] - 3s 63ms/step - loss: 0.0581 - accuracy: 0.9882 - val_loss: 0.5833 - val_accuracy: 0.8118\n",
      "Epoch 8/30\n",
      "43/43 [==============================] - 3s 63ms/step - loss: 0.0214 - accuracy: 1.0000 - val_loss: 0.5233 - val_accuracy: 0.8412\n",
      "Epoch 9/30\n",
      "43/43 [==============================] - 3s 63ms/step - loss: 0.0045 - accuracy: 1.0000 - val_loss: 0.5736 - val_accuracy: 0.8588\n",
      "Epoch 10/30\n",
      "43/43 [==============================] - 3s 63ms/step - loss: 0.0011 - accuracy: 1.0000 - val_loss: 0.5897 - val_accuracy: 0.8412\n",
      "Epoch 11/30\n",
      "43/43 [==============================] - 3s 63ms/step - loss: 7.4447e-04 - accuracy: 1.0000 - val_loss: 0.6095 - val_accuracy: 0.8529\n",
      "Epoch 12/30\n",
      "43/43 [==============================] - 3s 63ms/step - loss: 5.0664e-04 - accuracy: 1.0000 - val_loss: 0.6116 - val_accuracy: 0.8471\n",
      "Epoch 13/30\n",
      "43/43 [==============================] - 3s 63ms/step - loss: 4.2440e-04 - accuracy: 1.0000 - val_loss: 0.6317 - val_accuracy: 0.8529\n",
      "Epoch 14/30\n",
      "43/43 [==============================] - 3s 63ms/step - loss: 2.9720e-04 - accuracy: 1.0000 - val_loss: 0.6413 - val_accuracy: 0.8471\n",
      "Epoch 15/30\n",
      "43/43 [==============================] - 3s 63ms/step - loss: 2.7872e-04 - accuracy: 1.0000 - val_loss: 0.6474 - val_accuracy: 0.8529\n",
      "Epoch 16/30\n",
      "43/43 [==============================] - 3s 63ms/step - loss: 2.7279e-04 - accuracy: 1.0000 - val_loss: 0.6500 - val_accuracy: 0.8471\n",
      "Epoch 17/30\n",
      "43/43 [==============================] - 3s 63ms/step - loss: 2.5583e-04 - accuracy: 1.0000 - val_loss: 0.6599 - val_accuracy: 0.8471\n",
      "Epoch 18/30\n",
      "43/43 [==============================] - 3s 63ms/step - loss: 1.6123e-04 - accuracy: 1.0000 - val_loss: 0.6613 - val_accuracy: 0.8471\n",
      "Epoch 19/30\n",
      "43/43 [==============================] - 3s 63ms/step - loss: 1.4380e-04 - accuracy: 1.0000 - val_loss: 0.6667 - val_accuracy: 0.8529\n",
      "Epoch 20/30\n",
      "43/43 [==============================] - 3s 63ms/step - loss: 1.7387e-04 - accuracy: 1.0000 - val_loss: 0.6736 - val_accuracy: 0.8529\n",
      "Epoch 21/30\n",
      "43/43 [==============================] - 3s 63ms/step - loss: 1.3496e-04 - accuracy: 1.0000 - val_loss: 0.6781 - val_accuracy: 0.8471\n",
      "Epoch 22/30\n",
      "43/43 [==============================] - 3s 63ms/step - loss: 1.2496e-04 - accuracy: 1.0000 - val_loss: 0.6781 - val_accuracy: 0.8529\n",
      "Epoch 23/30\n",
      "43/43 [==============================] - 3s 63ms/step - loss: 1.0076e-04 - accuracy: 1.0000 - val_loss: 0.6860 - val_accuracy: 0.8529\n",
      "Epoch 24/30\n",
      "43/43 [==============================] - 3s 63ms/step - loss: 1.2304e-04 - accuracy: 1.0000 - val_loss: 0.6946 - val_accuracy: 0.8529\n",
      "Epoch 25/30\n",
      "43/43 [==============================] - 3s 63ms/step - loss: 1.1649e-04 - accuracy: 1.0000 - val_loss: 0.6944 - val_accuracy: 0.8529\n",
      "Epoch 26/30\n",
      "43/43 [==============================] - 3s 63ms/step - loss: 7.7933e-05 - accuracy: 1.0000 - val_loss: 0.7033 - val_accuracy: 0.8471\n",
      "Epoch 27/30\n",
      "43/43 [==============================] - 3s 63ms/step - loss: 8.1454e-05 - accuracy: 1.0000 - val_loss: 0.7047 - val_accuracy: 0.8529\n",
      "Epoch 28/30\n",
      "43/43 [==============================] - 3s 63ms/step - loss: 7.5233e-05 - accuracy: 1.0000 - val_loss: 0.7077 - val_accuracy: 0.8529\n",
      "Epoch 29/30\n",
      "43/43 [==============================] - 3s 63ms/step - loss: 6.0956e-05 - accuracy: 1.0000 - val_loss: 0.7065 - val_accuracy: 0.8588\n",
      "Epoch 30/30\n",
      "43/43 [==============================] - 3s 63ms/step - loss: 6.3853e-05 - accuracy: 1.0000 - val_loss: 0.7081 - val_accuracy: 0.8529\n",
      "Model: \"sequential\"\n",
      "_________________________________________________________________\n",
      "Layer (type)                 Output Shape              Param #   \n",
      "=================================================================\n",
      "rescaling (Rescaling)        (None, 256, 256, 3)       0         \n",
      "_________________________________________________________________\n",
      "conv2d (Conv2D)              (None, 256, 256, 16)      448       \n",
      "_________________________________________________________________\n",
      "max_pooling2d (MaxPooling2D) (None, 128, 128, 16)      0         \n",
      "_________________________________________________________________\n",
      "conv2d_1 (Conv2D)            (None, 128, 128, 32)      4640      \n",
      "_________________________________________________________________\n",
      "max_pooling2d_1 (MaxPooling2 (None, 64, 64, 32)        0         \n",
      "_________________________________________________________________\n",
      "flatten (Flatten)            (None, 131072)            0         \n",
      "_________________________________________________________________\n",
      "dropout (Dropout)            (None, 131072)            0         \n",
      "_________________________________________________________________\n",
      "dense (Dense)                (None, 512)               67109376  \n",
      "_________________________________________________________________\n",
      "dense_1 (Dense)              (None, 128)               65664     \n",
      "_________________________________________________________________\n",
      "dense_2 (Dense)              (None, 5)                 645       \n",
      "=================================================================\n",
      "Total params: 67,180,773\n",
      "Trainable params: 67,180,773\n",
      "Non-trainable params: 0\n",
      "_________________________________________________________________\n"
     ]
    },
    {
     "data": {
      "image/png": "[encoded data removed]",
      "text/plain": [
       "<Figure size 576x576 with 2 Axes>"
      ]
     },
     "metadata": {
      "needs_background": "light"
     },
     "output_type": "display_data"
    },
    {
     "name": "stdout",
     "output_type": "stream",
     "text": [
      "Accuracy score in the test set:  52.94117647058824\n"
     ]
    }
   ],
   "source": [
    "pipeline(30,initial_model,opt)"
   ]
  },
  {
   "cell_type": "raw",
   "id": "swedish-vatican",
   "metadata": {},
   "source": []
  },
  {
   "cell_type": "code",
   "execution_count": null,
   "id": "atmospheric-vanilla",
   "metadata": {},
   "outputs": [],
   "source": []
  },
  {
   "cell_type": "markdown",
   "id": "bright-brook",
   "metadata": {},
   "source": [
    "The model performs well on the traning set and validation set but poorly on test set. Let's see if some regularization helps"
   ]
  },
  {
   "cell_type": "code",
   "execution_count": 19,
   "id": "hispanic-print",
   "metadata": {},
   "outputs": [],
   "source": [
    "# Regularized Model\n",
    "regularized_model = Sequential([\n",
    "  layers.experimental.preprocessing.Rescaling(1./255, input_shape=(img_height, img_width, 3)),\n",
    "  layers.Conv2D(16, 3, padding='same', activation='relu'),\n",
    "  layers.MaxPooling2D(),\n",
    "  layers.Conv2D(32, 3, padding='same', activation='relu'),\n",
    "  layers.MaxPooling2D(),\n",
    "  layers.Flatten(),\n",
    "  layers.Dropout(0.2),\n",
    "  layers.Dense(512, activation='relu'),\n",
    "  layers.Dropout(0.2),\n",
    "  layers.Dense(128, activation='relu'),\n",
    "  layers.Dense(num_classes,kernel_regularizer = tf.keras.regularizers.L2(0.1)),\n",
    "  \n",
    "])"
   ]
  },
  {
   "cell_type": "code",
   "execution_count": 20,
   "id": "pressed-persian",
   "metadata": {},
   "outputs": [
    {
     "name": "stdout",
     "output_type": "stream",
     "text": [
      "Epoch 1/30\n",
      "43/43 [==============================] - 6s 80ms/step - loss: 6.3478 - accuracy: 0.2305 - val_loss: 2.0654 - val_accuracy: 0.4824\n",
      "Epoch 2/30\n",
      "43/43 [==============================] - 3s 62ms/step - loss: 1.9119 - accuracy: 0.5721 - val_loss: 1.5699 - val_accuracy: 0.6824\n",
      "Epoch 3/30\n",
      "43/43 [==============================] - 3s 62ms/step - loss: 1.2915 - accuracy: 0.7802 - val_loss: 1.2037 - val_accuracy: 0.7294\n",
      "Epoch 4/30\n",
      "43/43 [==============================] - 3s 63ms/step - loss: 0.8408 - accuracy: 0.9260 - val_loss: 1.0233 - val_accuracy: 0.8000\n",
      "Epoch 5/30\n",
      "43/43 [==============================] - 3s 63ms/step - loss: 0.7059 - accuracy: 0.9436 - val_loss: 0.8849 - val_accuracy: 0.8588\n",
      "Epoch 6/30\n",
      "43/43 [==============================] - 3s 63ms/step - loss: 0.5217 - accuracy: 0.9783 - val_loss: 0.8470 - val_accuracy: 0.8588\n",
      "Epoch 7/30\n",
      "43/43 [==============================] - 3s 63ms/step - loss: 0.4422 - accuracy: 0.9859 - val_loss: 0.8420 - val_accuracy: 0.8412\n",
      "Epoch 8/30\n",
      "43/43 [==============================] - 3s 63ms/step - loss: 0.3745 - accuracy: 0.9988 - val_loss: 0.7335 - val_accuracy: 0.9000\n",
      "Epoch 9/30\n",
      "43/43 [==============================] - 3s 64ms/step - loss: 0.3296 - accuracy: 0.9973 - val_loss: 0.7255 - val_accuracy: 0.8706\n",
      "Epoch 10/30\n",
      "43/43 [==============================] - 3s 63ms/step - loss: 0.2961 - accuracy: 0.9988 - val_loss: 1.1264 - val_accuracy: 0.7647\n",
      "Epoch 11/30\n",
      "43/43 [==============================] - 3s 63ms/step - loss: 0.3084 - accuracy: 0.9897 - val_loss: 0.7450 - val_accuracy: 0.8882\n",
      "Epoch 12/30\n",
      "43/43 [==============================] - 3s 64ms/step - loss: 0.2403 - accuracy: 1.0000 - val_loss: 0.6475 - val_accuracy: 0.8647\n",
      "Epoch 13/30\n",
      "43/43 [==============================] - 3s 63ms/step - loss: 0.2121 - accuracy: 1.0000 - val_loss: 0.5761 - val_accuracy: 0.8941\n",
      "Epoch 14/30\n",
      "43/43 [==============================] - 3s 64ms/step - loss: 0.1887 - accuracy: 1.0000 - val_loss: 0.5782 - val_accuracy: 0.9118\n",
      "Epoch 15/30\n",
      "43/43 [==============================] - 3s 64ms/step - loss: 0.1674 - accuracy: 1.0000 - val_loss: 0.5621 - val_accuracy: 0.8941\n",
      "Epoch 16/30\n",
      "43/43 [==============================] - 3s 64ms/step - loss: 0.1508 - accuracy: 1.0000 - val_loss: 0.5191 - val_accuracy: 0.8941\n",
      "Epoch 17/30\n",
      "43/43 [==============================] - 3s 63ms/step - loss: 0.1346 - accuracy: 1.0000 - val_loss: 0.5088 - val_accuracy: 0.9000\n",
      "Epoch 18/30\n",
      "43/43 [==============================] - 3s 64ms/step - loss: 0.1212 - accuracy: 1.0000 - val_loss: 0.5246 - val_accuracy: 0.8824\n",
      "Epoch 19/30\n",
      "43/43 [==============================] - 3s 64ms/step - loss: 0.1100 - accuracy: 1.0000 - val_loss: 0.4723 - val_accuracy: 0.8941\n",
      "Epoch 20/30\n",
      "43/43 [==============================] - 3s 64ms/step - loss: 0.0999 - accuracy: 1.0000 - val_loss: 0.4819 - val_accuracy: 0.9000\n",
      "Epoch 21/30\n",
      "43/43 [==============================] - 3s 63ms/step - loss: 0.0887 - accuracy: 1.0000 - val_loss: 0.4751 - val_accuracy: 0.8882\n",
      "Epoch 22/30\n",
      "43/43 [==============================] - 3s 63ms/step - loss: 0.0806 - accuracy: 1.0000 - val_loss: 0.4756 - val_accuracy: 0.8882\n",
      "Epoch 23/30\n",
      "43/43 [==============================] - 3s 64ms/step - loss: 0.0734 - accuracy: 1.0000 - val_loss: 0.4627 - val_accuracy: 0.8941\n",
      "Epoch 24/30\n",
      "43/43 [==============================] - 3s 64ms/step - loss: 0.0655 - accuracy: 1.0000 - val_loss: 0.4423 - val_accuracy: 0.9000\n",
      "Epoch 25/30\n",
      "43/43 [==============================] - 3s 64ms/step - loss: 0.0594 - accuracy: 1.0000 - val_loss: 0.4618 - val_accuracy: 0.9000\n",
      "Epoch 26/30\n",
      "43/43 [==============================] - 3s 64ms/step - loss: 0.0547 - accuracy: 1.0000 - val_loss: 0.4975 - val_accuracy: 0.8824\n",
      "Epoch 27/30\n",
      "43/43 [==============================] - 3s 64ms/step - loss: 0.0496 - accuracy: 1.0000 - val_loss: 0.4301 - val_accuracy: 0.9118\n",
      "Epoch 28/30\n",
      "43/43 [==============================] - 3s 64ms/step - loss: 0.0442 - accuracy: 1.0000 - val_loss: 0.4171 - val_accuracy: 0.8941\n",
      "Epoch 29/30\n",
      "43/43 [==============================] - 3s 64ms/step - loss: 0.0399 - accuracy: 1.0000 - val_loss: 0.4498 - val_accuracy: 0.9059\n",
      "Epoch 30/30\n",
      "43/43 [==============================] - 3s 64ms/step - loss: 0.0365 - accuracy: 1.0000 - val_loss: 0.4170 - val_accuracy: 0.8941\n",
      "Model: \"sequential_1\"\n",
      "_________________________________________________________________\n",
      "Layer (type)                 Output Shape              Param #   \n",
      "=================================================================\n",
      "rescaling_1 (Rescaling)      (None, 256, 256, 3)       0         \n",
      "_________________________________________________________________\n",
      "conv2d_2 (Conv2D)            (None, 256, 256, 16)      448       \n",
      "_________________________________________________________________\n",
      "max_pooling2d_2 (MaxPooling2 (None, 128, 128, 16)      0         \n",
      "_________________________________________________________________\n",
      "conv2d_3 (Conv2D)            (None, 128, 128, 32)      4640      \n",
      "_________________________________________________________________\n",
      "max_pooling2d_3 (MaxPooling2 (None, 64, 64, 32)        0         \n",
      "_________________________________________________________________\n",
      "flatten_1 (Flatten)          (None, 131072)            0         \n",
      "_________________________________________________________________\n",
      "dropout_2 (Dropout)          (None, 131072)            0         \n",
      "_________________________________________________________________\n",
      "dense_3 (Dense)              (None, 512)               67109376  \n",
      "_________________________________________________________________\n",
      "dropout_3 (Dropout)          (None, 512)               0         \n",
      "_________________________________________________________________\n",
      "dense_4 (Dense)              (None, 128)               65664     \n",
      "_________________________________________________________________\n",
      "dense_5 (Dense)              (None, 5)                 645       \n",
      "=================================================================\n",
      "Total params: 67,180,773\n",
      "Trainable params: 67,180,773\n",
      "Non-trainable params: 0\n",
      "_________________________________________________________________\n"
     ]
    },
    {
     "data": {
      "image/png": "[encoded data removed]",
      "text/plain": [
       "<Figure size 576x576 with 2 Axes>"
      ]
     },
     "metadata": {
      "needs_background": "light"
     },
     "output_type": "display_data"
    },
    {
     "name": "stdout",
     "output_type": "stream",
     "text": [
      "Accuracy score in the test set:  58.82352941176471\n"
     ]
    }
   ],
   "source": [
    "pipeline(30,regularized_model,opt)\n",
    "\n",
    "     "
   ]
  },
  {
   "cell_type": "code",
   "execution_count": null,
   "id": "least-warner",
   "metadata": {},
   "outputs": [],
   "source": []
  },
  {
   "cell_type": "markdown",
   "id": "radical-facial",
   "metadata": {},
   "source": [
    "\n",
    "\n"
   ]
  },
  {
   "cell_type": "markdown",
   "id": "orange-cologne",
   "metadata": {},
   "source": [
    "### Data Augmentation"
   ]
  },
  {
   "cell_type": "code",
   "execution_count": null,
   "id": "organic-character",
   "metadata": {},
   "outputs": [],
   "source": []
  },
  {
   "cell_type": "code",
   "execution_count": 18,
   "id": "theoretical-creator",
   "metadata": {},
   "outputs": [],
   "source": [
    "model_ag_data = Sequential([\n",
    "    layers.experimental.preprocessing.RandomRotation(0.2),\n",
    "    layers.experimental.preprocessing.Rescaling(1./255, input_shape=(img_height, img_width, 3)),\n",
    "    layers.Conv2D(16, 3, padding='same', activation='relu'),\n",
    "    layers.MaxPooling2D(),\n",
    "    layers.Conv2D(32, 3, padding='same', activation='relu'),\n",
    "    layers.MaxPooling2D(),\n",
    "    layers.Flatten(),\n",
    "    layers.Dropout(0.2),\n",
    "    layers.Dense(512, activation='relu'),\n",
    "    layers.Dropout(0.2),\n",
    "    layers.Dense(128, activation='relu'),\n",
    "    layers.Dense(num_classes),\n",
    "])\n"
   ]
  },
  {
   "cell_type": "code",
   "execution_count": 19,
   "id": "sonic-criminal",
   "metadata": {},
   "outputs": [
    {
     "name": "stdout",
     "output_type": "stream",
     "text": [
      "Epoch 1/30\n",
      "43/43 [==============================] - 6s 84ms/step - loss: 6.7992 - accuracy: 0.2775 - val_loss: 1.5287 - val_accuracy: 0.1941\n",
      "Epoch 2/30\n",
      "43/43 [==============================] - 3s 64ms/step - loss: 1.4219 - accuracy: 0.3631 - val_loss: 1.2867 - val_accuracy: 0.5118\n",
      "Epoch 3/30\n",
      "43/43 [==============================] - 3s 63ms/step - loss: 1.3306 - accuracy: 0.4337 - val_loss: 1.3083 - val_accuracy: 0.5118\n",
      "Epoch 4/30\n",
      "43/43 [==============================] - 3s 62ms/step - loss: 1.3296 - accuracy: 0.4760 - val_loss: 1.1553 - val_accuracy: 0.6176\n",
      "Epoch 5/30\n",
      "43/43 [==============================] - 3s 63ms/step - loss: 1.2187 - accuracy: 0.5533 - val_loss: 1.1627 - val_accuracy: 0.5941\n",
      "Epoch 6/30\n",
      "43/43 [==============================] - 3s 65ms/step - loss: 1.1949 - accuracy: 0.5102 - val_loss: 1.1548 - val_accuracy: 0.5588\n",
      "Epoch 7/30\n",
      "43/43 [==============================] - 3s 63ms/step - loss: 1.1774 - accuracy: 0.4916 - val_loss: 1.0671 - val_accuracy: 0.6353\n",
      "Epoch 8/30\n",
      "43/43 [==============================] - 3s 64ms/step - loss: 1.0402 - accuracy: 0.5855 - val_loss: 0.9766 - val_accuracy: 0.6294\n",
      "Epoch 9/30\n",
      "43/43 [==============================] - 3s 63ms/step - loss: 0.9671 - accuracy: 0.6082 - val_loss: 1.0101 - val_accuracy: 0.6471\n",
      "Epoch 10/30\n",
      "43/43 [==============================] - 3s 63ms/step - loss: 0.9370 - accuracy: 0.6155 - val_loss: 0.8594 - val_accuracy: 0.7176\n",
      "Epoch 11/30\n",
      "43/43 [==============================] - 3s 63ms/step - loss: 0.8385 - accuracy: 0.6777 - val_loss: 0.8193 - val_accuracy: 0.7118\n",
      "Epoch 12/30\n",
      "43/43 [==============================] - 3s 65ms/step - loss: 0.9134 - accuracy: 0.6482 - val_loss: 0.8675 - val_accuracy: 0.7412\n",
      "Epoch 13/30\n",
      "43/43 [==============================] - 3s 63ms/step - loss: 0.8753 - accuracy: 0.6569 - val_loss: 0.9172 - val_accuracy: 0.6882\n",
      "Epoch 14/30\n",
      "43/43 [==============================] - 3s 62ms/step - loss: 0.8975 - accuracy: 0.6364 - val_loss: 0.9051 - val_accuracy: 0.7059\n",
      "Epoch 15/30\n",
      "43/43 [==============================] - 3s 64ms/step - loss: 0.8118 - accuracy: 0.6958 - val_loss: 0.6380 - val_accuracy: 0.8000\n",
      "Epoch 16/30\n",
      "43/43 [==============================] - 3s 62ms/step - loss: 0.7450 - accuracy: 0.7240 - val_loss: 0.6423 - val_accuracy: 0.8588\n",
      "Epoch 17/30\n",
      "43/43 [==============================] - 3s 62ms/step - loss: 0.6006 - accuracy: 0.7763 - val_loss: 0.6050 - val_accuracy: 0.8529\n",
      "Epoch 18/30\n",
      "43/43 [==============================] - 3s 62ms/step - loss: 0.6049 - accuracy: 0.7903 - val_loss: 0.6915 - val_accuracy: 0.7588\n",
      "Epoch 19/30\n",
      "43/43 [==============================] - 3s 62ms/step - loss: 0.5320 - accuracy: 0.7858 - val_loss: 0.6168 - val_accuracy: 0.8235\n",
      "Epoch 20/30\n",
      "43/43 [==============================] - 3s 62ms/step - loss: 0.5877 - accuracy: 0.7612 - val_loss: 0.6226 - val_accuracy: 0.7824\n",
      "Epoch 21/30\n",
      "43/43 [==============================] - 3s 62ms/step - loss: 0.5724 - accuracy: 0.7939 - val_loss: 0.6242 - val_accuracy: 0.7706\n",
      "Epoch 22/30\n",
      "43/43 [==============================] - 3s 66ms/step - loss: 0.4791 - accuracy: 0.8191 - val_loss: 0.6286 - val_accuracy: 0.7882\n",
      "Epoch 23/30\n",
      "43/43 [==============================] - 3s 65ms/step - loss: 0.4873 - accuracy: 0.8014 - val_loss: 0.5558 - val_accuracy: 0.8235\n",
      "Epoch 24/30\n",
      "43/43 [==============================] - 3s 63ms/step - loss: 0.4717 - accuracy: 0.8190 - val_loss: 0.9750 - val_accuracy: 0.7235\n",
      "Epoch 25/30\n",
      "43/43 [==============================] - 3s 64ms/step - loss: 0.5785 - accuracy: 0.8237 - val_loss: 0.4151 - val_accuracy: 0.9176\n",
      "Epoch 26/30\n",
      "43/43 [==============================] - 3s 65ms/step - loss: 0.3699 - accuracy: 0.8858 - val_loss: 0.5952 - val_accuracy: 0.8353\n",
      "Epoch 27/30\n",
      "43/43 [==============================] - 3s 65ms/step - loss: 0.4329 - accuracy: 0.8294 - val_loss: 0.3907 - val_accuracy: 0.8941\n",
      "Epoch 28/30\n",
      "43/43 [==============================] - 3s 65ms/step - loss: 0.3799 - accuracy: 0.8624 - val_loss: 0.4648 - val_accuracy: 0.8824\n",
      "Epoch 29/30\n",
      "43/43 [==============================] - 3s 65ms/step - loss: 0.4180 - accuracy: 0.8419 - val_loss: 0.4959 - val_accuracy: 0.8882\n",
      "Epoch 30/30\n",
      "43/43 [==============================] - 3s 65ms/step - loss: 0.4009 - accuracy: 0.8523 - val_loss: 0.5471 - val_accuracy: 0.8353\n",
      "Model: \"sequential\"\n",
      "_________________________________________________________________\n",
      "Layer (type)                 Output Shape              Param #   \n",
      "=================================================================\n",
      "random_rotation (RandomRotat (None, 256, 256, 3)       0         \n",
      "_________________________________________________________________\n",
      "rescaling (Rescaling)        (None, 256, 256, 3)       0         \n",
      "_________________________________________________________________\n",
      "conv2d (Conv2D)              (None, 256, 256, 16)      448       \n",
      "_________________________________________________________________\n",
      "max_pooling2d (MaxPooling2D) (None, 128, 128, 16)      0         \n",
      "_________________________________________________________________\n",
      "conv2d_1 (Conv2D)            (None, 128, 128, 32)      4640      \n",
      "_________________________________________________________________\n",
      "max_pooling2d_1 (MaxPooling2 (None, 64, 64, 32)        0         \n",
      "_________________________________________________________________\n",
      "flatten (Flatten)            (None, 131072)            0         \n",
      "_________________________________________________________________\n",
      "dropout (Dropout)            (None, 131072)            0         \n",
      "_________________________________________________________________\n",
      "dense (Dense)                (None, 512)               67109376  \n",
      "_________________________________________________________________\n",
      "dropout_1 (Dropout)          (None, 512)               0         \n",
      "_________________________________________________________________\n",
      "dense_1 (Dense)              (None, 128)               65664     \n",
      "_________________________________________________________________\n",
      "dense_2 (Dense)              (None, 5)                 645       \n",
      "=================================================================\n",
      "Total params: 67,180,773\n",
      "Trainable params: 67,180,773\n",
      "Non-trainable params: 0\n",
      "_________________________________________________________________\n"
     ]
    },
    {
     "data": {
      "image/png": "[encoded data removed]",
      "text/plain": [
       "<Figure size 576x576 with 2 Axes>"
      ]
     },
     "metadata": {
      "needs_background": "light"
     },
     "output_type": "display_data"
    },
    {
     "name": "stdout",
     "output_type": "stream",
     "text": [
      "Accuracy score in the test set:  56.86274509803921\n"
     ]
    }
   ],
   "source": [
    "pipeline(30,model_ag_data,opt)"
   ]
  },
  {
   "cell_type": "markdown",
   "id": "black-official",
   "metadata": {},
   "source": [
    "Data augmentation has helped to fix the problem of variance, but now we have a problem with avoidable bias. That could be a problem of developement and test set distributions. Les't see validation and test data"
   ]
  },
  {
   "cell_type": "code",
   "execution_count": null,
   "id": "concerned-salon",
   "metadata": {},
   "outputs": [],
   "source": []
  },
  {
   "cell_type": "code",
   "execution_count": 35,
   "id": "found-sword",
   "metadata": {},
   "outputs": [
    {
     "ename": "NameError",
     "evalue": "name 'tfds' is not defined",
     "output_type": "error",
     "traceback": [
      "\u001b[0;31m---------------------------------------------------------------------------\u001b[0m",
      "\u001b[0;31mNameError\u001b[0m                                 Traceback (most recent call last)",
      "\u001b[0;32m<ipython-input-35-f357b9d8a993>\u001b[0m in \u001b[0;36m<module>\u001b[0;34m\u001b[0m\n\u001b[0;32m----> 1\u001b[0;31m \u001b[0mtrain_num\u001b[0m \u001b[0;34m=\u001b[0m \u001b[0mtfds\u001b[0m\u001b[0;34m.\u001b[0m\u001b[0mas_numpy\u001b[0m\u001b[0;34m(\u001b[0m\u001b[0mtrain\u001b[0m\u001b[0;34m)\u001b[0m\u001b[0;34m\u001b[0m\u001b[0;34m\u001b[0m\u001b[0m\n\u001b[0m",
      "\u001b[0;31mNameError\u001b[0m: name 'tfds' is not defined"
     ]
    }
   ],
   "source": [
    "train_num = tfds.as_numpy(train)"
   ]
  },
  {
   "cell_type": "code",
   "execution_count": null,
   "id": "logical-topic",
   "metadata": {},
   "outputs": [],
   "source": []
  },
  {
   "cell_type": "code",
   "execution_count": null,
   "id": "grand-baghdad",
   "metadata": {},
   "outputs": [],
   "source": []
  },
  {
   "cell_type": "code",
   "execution_count": null,
   "id": "sorted-missouri",
   "metadata": {},
   "outputs": [],
   "source": []
  },
  {
   "cell_type": "code",
   "execution_count": null,
   "id": "simple-novelty",
   "metadata": {},
   "outputs": [],
   "source": []
  },
  {
   "cell_type": "code",
   "execution_count": null,
   "id": "resident-communist",
   "metadata": {},
   "outputs": [],
   "source": []
  },
  {
   "cell_type": "code",
   "execution_count": null,
   "id": "beneficial-mistake",
   "metadata": {},
   "outputs": [],
   "source": []
  },
  {
   "cell_type": "code",
   "execution_count": null,
   "id": "hungarian-range",
   "metadata": {},
   "outputs": [],
   "source": []
  },
  {
   "cell_type": "code",
   "execution_count": null,
   "id": "revised-second",
   "metadata": {},
   "outputs": [],
   "source": []
  }
 ],
 "metadata": {
  "kernelspec": {
   "display_name": "Python 3",
   "language": "python",
   "name": "python3"
  },
  "language_info": {
   "codemirror_mode": {
    "name": "ipython",
    "version": 3
   },
   "file_extension": ".py",
   "mimetype": "text/x-python",
   "name": "python",
   "nbconvert_exporter": "python",
   "pygments_lexer": "ipython3",
   "version": "3.8.5"
  }
 },
 "nbformat": 4,
 "nbformat_minor": 5
}

{
 "cells": [
  {
   "cell_type": "code",
   "execution_count": 1,
   "id": "falling-typing",
   "metadata": {},
   "outputs": [],
   "source": [
    "import os\n",
    "import numpy as np\n",
    "import zipfile\n",
    "import tensorflow as tf\n",
    "import matplotlib.pyplot as plt\n",
    "import pandas as pd"
   ]
  },
  {
   "cell_type": "code",
   "execution_count": 2,
   "id": "middle-budget",
   "metadata": {},
   "outputs": [],
   "source": [
    "with zipfile.ZipFile('archive.zip','r') as f:\n",
    "    f.extractall('archive')"
   ]
  },
  {
   "cell_type": "code",
   "execution_count": 3,
   "id": "english-integrity",
   "metadata": {},
   "outputs": [],
   "source": [
    "crops = ['jute','maize','rice','sugarcane','wheat']\n",
    "paths = ['archive/crop_images','archive/kag2']"
   ]
  },
  {
   "cell_type": "code",
   "execution_count": 4,
   "id": "about-combination",
   "metadata": {},
   "outputs": [],
   "source": [
    "def get_image_path():\n",
    "    path_folder = []\n",
    "    data = []\n",
    "    for path in paths:\n",
    "        for crop in crops:\n",
    "            path_folder = os.path.join(path,crop)\n",
    "            for image in os.listdir(path_folder):\n",
    "                    data.append([os.path.join(path_folder,image),crop])\n",
    "    return pd.DataFrame(data,columns=['image','label'])"
   ]
  },
  {
   "cell_type": "code",
   "execution_count": 5,
   "id": "brown-speed",
   "metadata": {},
   "outputs": [],
   "source": [
    "data= get_image_path()"
   ]
  },
  {
   "cell_type": "code",
   "execution_count": 6,
   "id": "dried-moment",
   "metadata": {},
   "outputs": [
    {
     "data": {
      "text/html": [
       "<div>\n",
       "<style scoped>\n",
       "    .dataframe tbody tr th:only-of-type {\n",
       "        vertical-align: middle;\n",
       "    }\n",
       "\n",
       "    .dataframe tbody tr th {\n",
       "        vertical-align: top;\n",
       "    }\n",
       "\n",
       "    .dataframe thead th {\n",
       "        text-align: right;\n",
       "    }\n",
       "</style>\n",
       "<table border=\"1\" class=\"dataframe\">\n",
       "  <thead>\n",
       "    <tr style=\"text-align: right;\">\n",
       "      <th></th>\n",
       "      <th>image</th>\n",
       "      <th>label</th>\n",
       "    </tr>\n",
       "  </thead>\n",
       "  <tbody>\n",
       "    <tr>\n",
       "      <th>0</th>\n",
       "      <td>archive/crop_images/jute/jute033a.jpeg</td>\n",
       "      <td>jute</td>\n",
       "    </tr>\n",
       "    <tr>\n",
       "      <th>1</th>\n",
       "      <td>archive/crop_images/jute/jute038a.jpeg</td>\n",
       "      <td>jute</td>\n",
       "    </tr>\n",
       "    <tr>\n",
       "      <th>2</th>\n",
       "      <td>archive/crop_images/jute/jute016a.jpeg</td>\n",
       "      <td>jute</td>\n",
       "    </tr>\n",
       "    <tr>\n",
       "      <th>3</th>\n",
       "      <td>archive/crop_images/jute/jute012a.jpeg</td>\n",
       "      <td>jute</td>\n",
       "    </tr>\n",
       "    <tr>\n",
       "      <th>4</th>\n",
       "      <td>archive/crop_images/jute/jute037a.jpeg</td>\n",
       "      <td>jute</td>\n",
       "    </tr>\n",
       "    <tr>\n",
       "      <th>...</th>\n",
       "      <td>...</td>\n",
       "      <td>...</td>\n",
       "    </tr>\n",
       "    <tr>\n",
       "      <th>1000</th>\n",
       "      <td>archive/kag2/wheat/wheat025ahf.jpeg</td>\n",
       "      <td>wheat</td>\n",
       "    </tr>\n",
       "    <tr>\n",
       "      <th>1001</th>\n",
       "      <td>archive/kag2/wheat/wheat033ahs.jpeg</td>\n",
       "      <td>wheat</td>\n",
       "    </tr>\n",
       "    <tr>\n",
       "      <th>1002</th>\n",
       "      <td>archive/kag2/wheat/wheat027a.jpeg</td>\n",
       "      <td>wheat</td>\n",
       "    </tr>\n",
       "    <tr>\n",
       "      <th>1003</th>\n",
       "      <td>archive/kag2/wheat/wheat028ahs.jpeg</td>\n",
       "      <td>wheat</td>\n",
       "    </tr>\n",
       "    <tr>\n",
       "      <th>1004</th>\n",
       "      <td>archive/kag2/wheat/wheat027ahf.jpeg</td>\n",
       "      <td>wheat</td>\n",
       "    </tr>\n",
       "  </tbody>\n",
       "</table>\n",
       "<p>1005 rows × 2 columns</p>\n",
       "</div>"
      ],
      "text/plain": [
       "                                       image  label\n",
       "0     archive/crop_images/jute/jute033a.jpeg   jute\n",
       "1     archive/crop_images/jute/jute038a.jpeg   jute\n",
       "2     archive/crop_images/jute/jute016a.jpeg   jute\n",
       "3     archive/crop_images/jute/jute012a.jpeg   jute\n",
       "4     archive/crop_images/jute/jute037a.jpeg   jute\n",
       "...                                      ...    ...\n",
       "1000     archive/kag2/wheat/wheat025ahf.jpeg  wheat\n",
       "1001     archive/kag2/wheat/wheat033ahs.jpeg  wheat\n",
       "1002       archive/kag2/wheat/wheat027a.jpeg  wheat\n",
       "1003     archive/kag2/wheat/wheat028ahs.jpeg  wheat\n",
       "1004     archive/kag2/wheat/wheat027ahf.jpeg  wheat\n",
       "\n",
       "[1005 rows x 2 columns]"
      ]
     },
     "execution_count": 6,
     "metadata": {},
     "output_type": "execute_result"
    }
   ],
   "source": [
    "data"
   ]
  },
  {
   "cell_type": "code",
   "execution_count": 7,
   "id": "noted-beach",
   "metadata": {},
   "outputs": [],
   "source": [
    "from sklearn.preprocessing import LabelEncoder, OneHotEncoder"
   ]
  },
  {
   "cell_type": "code",
   "execution_count": 8,
   "id": "historic-senator",
   "metadata": {},
   "outputs": [],
   "source": [
    "one_hot = OneHotEncoder()"
   ]
  },
  {
   "cell_type": "code",
   "execution_count": 19,
   "id": "trying-assessment",
   "metadata": {},
   "outputs": [],
   "source": [
    "y = one_hot.fit_transform(np.array(data['label']).reshape(-1,1)).toarray()"
   ]
  },
  {
   "cell_type": "code",
   "execution_count": 21,
   "id": "fossil-electron",
   "metadata": {},
   "outputs": [],
   "source": [
    "X = data.loc[0,'image']"
   ]
  },
  {
   "cell_type": "code",
   "execution_count": 24,
   "id": "breathing-wedding",
   "metadata": {},
   "outputs": [
    {
     "data": {
      "text/plain": [
       "(224, 224, 3)"
      ]
     },
     "execution_count": 24,
     "metadata": {},
     "output_type": "execute_result"
    }
   ],
   "source": [
    "X = plt.imread(X)\n",
    "X.shape"
   ]
  },
  {
   "cell_type": "code",
   "execution_count": 35,
   "id": "chinese-machinery",
   "metadata": {},
   "outputs": [
    {
     "name": "stdout",
     "output_type": "stream",
     "text": [
      "Found 804 files belonging to 5 classes.\n"
     ]
    }
   ],
   "source": [
    "train = tf.keras.preprocessing.image_dataset_from_directory(\n",
    "    'archive/kag2', labels='inferred', label_mode='int',\n",
    "    class_names=None, color_mode='rgb', batch_size=32, image_size=(256,\n",
    "    256), shuffle=True, seed=None, validation_split=None, subset=None,\n",
    "    interpolation='bilinear', follow_links=False\n",
    ")\n"
   ]
  },
  {
   "cell_type": "code",
   "execution_count": 36,
   "id": "marine-kuwait",
   "metadata": {},
   "outputs": [
    {
     "name": "stdout",
     "output_type": "stream",
     "text": [
      "Found 201 files belonging to 5 classes.\n"
     ]
    }
   ],
   "source": [
    "dev = tf.keras.preprocessing.image_dataset_from_directory(\n",
    "    'archive/crop_images', labels='inferred', label_mode='int',\n",
    "    class_names=None, color_mode='rgb', batch_size=32, image_size=(256,\n",
    "    256), shuffle=True, seed=None, validation_split=None, subset=None,\n",
    "    interpolation='bilinear', follow_links=False\n",
    ")"
   ]
  },
  {
   "cell_type": "code",
   "execution_count": null,
   "id": "contrary-circle",
   "metadata": {},
   "outputs": [],
   "source": []
  },
  {
   "cell_type": "code",
   "execution_count": null,
   "id": "informative-relations",
   "metadata": {},
   "outputs": [],
   "source": []
  }
 ],
 "metadata": {
  "kernelspec": {
   "display_name": "Python 3",
   "language": "python",
   "name": "python3"
  },
  "language_info": {
   "codemirror_mode": {
    "name": "ipython",
    "version": 3
   },
   "file_extension": ".py",
   "mimetype": "text/x-python",
   "name": "python",
   "nbconvert_exporter": "python",
   "pygments_lexer": "ipython3",
   "version": "3.8.5"
  }
 },
 "nbformat": 4,
 "nbformat_minor": 5
}

{
 "cells": [
  {
   "cell_type": "code",
   "execution_count": 1,
   "id": "standing-filter",
   "metadata": {},
   "outputs": [],
   "source": [
    "import os\n",
    "import numpy as np\n",
    "import zipfile\n",
    "import tensorflow as tf\n",
    "import matplotlib.pyplot as plt\n",
    "import pandas as pd"
   ]
  },
  {
   "cell_type": "code",
   "execution_count": 2,
   "id": "given-camcorder",
   "metadata": {},
   "outputs": [],
   "source": [
    "with zipfile.ZipFile('archive.zip','r') as f:\n",
    "    f.extractall('archive')"
   ]
  },
  {
   "cell_type": "code",
   "execution_count": 3,
   "id": "excess-jewel",
   "metadata": {},
   "outputs": [],
   "source": [
    "crops = ['jute','maize','rice','sugarcane','wheat']\n",
    "paths = ['archive/crop_images','archive/kag2']"
   ]
  },
  {
   "cell_type": "code",
   "execution_count": 56,
   "id": "bigger-exemption",
   "metadata": {},
   "outputs": [],
   "source": [
    "def load_data(path):\n",
    "    data = tf.keras.preprocessing.image_dataset_from_directory(\n",
    "        path,\n",
    "        batch_size=32, \n",
    "        image_size=(256,256),\n",
    "        shuffle=True, seed=123\n",
    "    )\n",
    "    return data\n"
   ]
  },
  {
   "cell_type": "code",
   "execution_count": 63,
   "id": "subjective-wildlife",
   "metadata": {},
   "outputs": [
    {
     "name": "stdout",
     "output_type": "stream",
     "text": [
      "Found 804 files belonging to 5 classes.\n",
      "Found 201 files belonging to 5 classes.\n"
     ]
    }
   ],
   "source": [
    "train = load_data(paths[1])\n",
    "dev = load_data(paths[0])"
   ]
  },
  {
   "cell_type": "code",
   "execution_count": null,
   "id": "understood-tanzania",
   "metadata": {},
   "outputs": [],
   "source": []
  },
  {
   "cell_type": "code",
   "execution_count": null,
   "id": "attached-vancouver",
   "metadata": {},
   "outputs": [],
   "source": []
  },
  {
   "cell_type": "code",
   "execution_count": null,
   "id": "heavy-queens",
   "metadata": {},
   "outputs": [],
   "source": []
  }
 ],
 "metadata": {
  "kernelspec": {
   "display_name": "Python 3",
   "language": "python",
   "name": "python3"
  },
  "language_info": {
   "codemirror_mode": {
    "name": "ipython",
    "version": 3
   },
   "file_extension": ".py",
   "mimetype": "text/x-python",
   "name": "python",
   "nbconvert_exporter": "python",
   "pygments_lexer": "ipython3",
   "version": "3.8.5"
  }
 },
 "nbformat": 4,
 "nbformat_minor": 5
}

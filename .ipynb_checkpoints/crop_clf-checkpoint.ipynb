{
 "cells": [
  {
   "cell_type": "code",
   "execution_count": 1,
   "id": "double-course",
   "metadata": {},
   "outputs": [],
   "source": [
    "import os\n",
    "import numpy as np\n",
    "import zipfile\n",
    "import tensorflow as tf\n",
    "import matplotlib.pyplot as plt\n",
    "import pandas as pd\n",
    "from tensorflow import keras\n",
    "from tensorflow.keras import layers\n",
    "from tensorflow.keras.models import Sequential\n"
   ]
  },
  {
   "cell_type": "code",
   "execution_count": 2,
   "id": "fifteen-delicious",
   "metadata": {},
   "outputs": [],
   "source": [
    "with zipfile.ZipFile('archive.zip','r') as f:\n",
    "    f.extractall('archive')"
   ]
  },
  {
   "cell_type": "code",
   "execution_count": 2,
   "id": "induced-break",
   "metadata": {},
   "outputs": [],
   "source": [
    "crops = ['jute','maize','rice','sugarcane','wheat']\n",
    "path = 'archive/kag2'"
   ]
  },
  {
   "cell_type": "code",
   "execution_count": 3,
   "id": "earned-words",
   "metadata": {},
   "outputs": [],
   "source": [
    "img_height = 256 \n",
    "img_width = 256\n",
    "batch_size = 16\n",
    "def load_data(path,dataset):\n",
    "    data = tf.keras.preprocessing.image_dataset_from_directory(\n",
    "        path,\n",
    "        validation_split = 0.2,\n",
    "        subset = dataset,\n",
    "        batch_size=batch_size, \n",
    "        image_size=(img_height,img_width),\n",
    "        shuffle=True, seed=0\n",
    "    )\n",
    "    return data\n"
   ]
  },
  {
   "cell_type": "code",
   "execution_count": 4,
   "id": "pregnant-parks",
   "metadata": {},
   "outputs": [
    {
     "name": "stdout",
     "output_type": "stream",
     "text": [
      "Found 854 files belonging to 5 classes.\n",
      "Using 684 files for training.\n"
     ]
    }
   ],
   "source": [
    "train = load_data(path,'training')\n",
    "\n",
    "class_names = train.class_names"
   ]
  },
  {
   "cell_type": "code",
   "execution_count": 5,
   "id": "greater-quick",
   "metadata": {},
   "outputs": [
    {
     "name": "stdout",
     "output_type": "stream",
     "text": [
      "Found 854 files belonging to 5 classes.\n",
      "Using 170 files for validation.\n"
     ]
    }
   ],
   "source": [
    "dev = load_data(path,'validation')"
   ]
  },
  {
   "cell_type": "code",
   "execution_count": 6,
   "id": "certified-sample",
   "metadata": {},
   "outputs": [],
   "source": [
    "#AUTOTUNE = tf.data.AUTOTUNE\n",
    "#train = train.cache().shuffle(1000).prefetch(buffer_size=AUTOTUNE)\n",
    "#dev = dev.cache().prefetch(buffer_size=AUTOTUNE)\n"
   ]
  },
  {
   "cell_type": "code",
   "execution_count": 15,
   "id": "neither-gossip",
   "metadata": {},
   "outputs": [],
   "source": [
    "num_classes = 5\n",
    "\n",
    "model = Sequential([\n",
    "  layers.experimental.preprocessing.Rescaling(1./255, input_shape=(img_height, img_width, 3)),\n",
    "  layers.Conv2D(16, 3, padding='same', activation='relu'),\n",
    "  layers.MaxPooling2D(),\n",
    "  layers.Conv2D(32, 3, padding='same', activation='relu'),\n",
    "  layers.MaxPooling2D(),\n",
    "  layers.Dropout(0.2),\n",
    "  layers.Flatten(),\n",
    "  layers.Dense(131072, activation='relu'),\n",
    "  layers.Dense(128, activation='relu')\n",
    "  layers.Dense(num_classes),\n",
    "  \n",
    "])\n"
   ]
  },
  {
   "cell_type": "code",
   "execution_count": 16,
   "id": "serious-connectivity",
   "metadata": {},
   "outputs": [],
   "source": [
    "model.compile(optimizer = 'adam',\n",
    "              loss = tf.keras.losses.SparseCategoricalCrossentropy(from_logits=True),\n",
    "              metrics = ['accuracy'])\n"
   ]
  },
  {
   "cell_type": "code",
   "execution_count": 17,
   "id": "republican-carol",
   "metadata": {},
   "outputs": [
    {
     "name": "stdout",
     "output_type": "stream",
     "text": [
      "Model: \"sequential_2\"\n",
      "_________________________________________________________________\n",
      "Layer (type)                 Output Shape              Param #   \n",
      "=================================================================\n",
      "rescaling_2 (Rescaling)      (None, 256, 256, 3)       0         \n",
      "_________________________________________________________________\n",
      "conv2d_4 (Conv2D)            (None, 256, 256, 16)      448       \n",
      "_________________________________________________________________\n",
      "max_pooling2d_4 (MaxPooling2 (None, 128, 128, 16)      0         \n",
      "_________________________________________________________________\n",
      "conv2d_5 (Conv2D)            (None, 128, 128, 32)      4640      \n",
      "_________________________________________________________________\n",
      "max_pooling2d_5 (MaxPooling2 (None, 64, 64, 32)        0         \n",
      "_________________________________________________________________\n",
      "dropout_2 (Dropout)          (None, 64, 64, 32)        0         \n",
      "_________________________________________________________________\n",
      "flatten_2 (Flatten)          (None, 131072)            0         \n",
      "_________________________________________________________________\n",
      "dense_3 (Dense)              (None, 256)               33554688  \n",
      "_________________________________________________________________\n",
      "dense_4 (Dense)              (None, 5)                 1285      \n",
      "=================================================================\n",
      "Total params: 33,561,061\n",
      "Trainable params: 33,561,061\n",
      "Non-trainable params: 0\n",
      "_________________________________________________________________\n"
     ]
    }
   ],
   "source": [
    "model.summary()\n"
   ]
  },
  {
   "cell_type": "code",
   "execution_count": 18,
   "id": "casual-campaign",
   "metadata": {},
   "outputs": [
    {
     "name": "stdout",
     "output_type": "stream",
     "text": [
      "Epoch 1/15\n",
      "43/43 [==============================] - 4s 80ms/step - loss: 5.9451 - accuracy: 0.2501 - val_loss: 1.4904 - val_accuracy: 0.4059\n",
      "Epoch 2/15\n",
      "43/43 [==============================] - 4s 79ms/step - loss: 1.2008 - accuracy: 0.5661 - val_loss: 0.8913 - val_accuracy: 0.7176\n",
      "Epoch 3/15\n",
      "43/43 [==============================] - 4s 79ms/step - loss: 0.5569 - accuracy: 0.8349 - val_loss: 0.6108 - val_accuracy: 0.7824\n",
      "Epoch 4/15\n",
      "43/43 [==============================] - 4s 78ms/step - loss: 0.2470 - accuracy: 0.9281 - val_loss: 0.5706 - val_accuracy: 0.8353\n",
      "Epoch 5/15\n",
      "43/43 [==============================] - 3s 76ms/step - loss: 0.1066 - accuracy: 0.9814 - val_loss: 0.5374 - val_accuracy: 0.8294\n",
      "Epoch 6/15\n",
      "43/43 [==============================] - 4s 77ms/step - loss: 0.0352 - accuracy: 0.9942 - val_loss: 0.5648 - val_accuracy: 0.8529\n",
      "Epoch 7/15\n",
      "43/43 [==============================] - 4s 77ms/step - loss: 0.0150 - accuracy: 1.0000 - val_loss: 0.5611 - val_accuracy: 0.8706\n",
      "Epoch 8/15\n",
      "43/43 [==============================] - 4s 77ms/step - loss: 0.0041 - accuracy: 1.0000 - val_loss: 0.5626 - val_accuracy: 0.8471\n",
      "Epoch 9/15\n",
      "43/43 [==============================] - 4s 77ms/step - loss: 0.0022 - accuracy: 1.0000 - val_loss: 0.5481 - val_accuracy: 0.8706\n",
      "Epoch 10/15\n",
      "43/43 [==============================] - 4s 77ms/step - loss: 0.0014 - accuracy: 1.0000 - val_loss: 0.5808 - val_accuracy: 0.8412\n",
      "Epoch 11/15\n",
      "43/43 [==============================] - 4s 78ms/step - loss: 7.3950e-04 - accuracy: 1.0000 - val_loss: 0.6253 - val_accuracy: 0.8471\n",
      "Epoch 12/15\n",
      "43/43 [==============================] - 4s 78ms/step - loss: 7.1752e-04 - accuracy: 1.0000 - val_loss: 0.5942 - val_accuracy: 0.8471\n",
      "Epoch 13/15\n",
      "43/43 [==============================] - 4s 82ms/step - loss: 5.5521e-04 - accuracy: 1.0000 - val_loss: 0.6194 - val_accuracy: 0.8588\n",
      "Epoch 14/15\n",
      "43/43 [==============================] - 4s 79ms/step - loss: 5.9176e-04 - accuracy: 1.0000 - val_loss: 0.6197 - val_accuracy: 0.8471\n",
      "Epoch 15/15\n",
      "43/43 [==============================] - 4s 76ms/step - loss: 3.8055e-04 - accuracy: 1.0000 - val_loss: 0.6190 - val_accuracy: 0.8529\n"
     ]
    }
   ],
   "source": [
    "epochs = 15\n",
    "history = model.fit(\n",
    "    train,\n",
    "    validation_data = dev,\n",
    "    epochs = epochs\n",
    ")"
   ]
  },
  {
   "cell_type": "code",
   "execution_count": 19,
   "id": "statutory-acrylic",
   "metadata": {},
   "outputs": [],
   "source": [
    "acc = history.history['accuracy']\n",
    "dev_acc = history.history['val_accuracy']\n",
    "loss = history.history['loss']\n",
    "dev_loss = history.history['val_loss']\n",
    "epochs_range = range(epochs)\n"
   ]
  },
  {
   "cell_type": "code",
   "execution_count": 20,
   "id": "union-corpus",
   "metadata": {},
   "outputs": [
    {
     "data": {
      "image/png": "[encoded data removed]",
      "text/plain": [
       "<Figure size 576x576 with 2 Axes>"
      ]
     },
     "metadata": {
      "needs_background": "light"
     },
     "output_type": "display_data"
    }
   ],
   "source": [
    "plt.figure(figsize=(8, 8))\n",
    "plt.subplot(1, 2, 1)\n",
    "plt.plot(epochs_range, acc, label='Training Accuracy')\n",
    "plt.plot(epochs_range, dev_acc, label='Validation Accuracy')\n",
    "plt.legend(loc='lower right')\n",
    "plt.title('Training and Validation Accuracy')\n",
    "\n",
    "plt.subplot(1, 2, 2)\n",
    "plt.plot(epochs_range, loss, label='Training Loss')\n",
    "plt.plot(epochs_range, dev_loss, label='Validation Loss')\n",
    "plt.legend(loc='upper right')\n",
    "plt.title('Training and Validation Loss')\n",
    "plt.show()\n"
   ]
  },
  {
   "cell_type": "code",
   "execution_count": 21,
   "id": "lucky-chuck",
   "metadata": {},
   "outputs": [],
   "source": [
    "label_class = {}\n",
    "for i,label in enumerate(class_names):\n",
    "    label_class[label] = i"
   ]
  },
  {
   "cell_type": "code",
   "execution_count": 22,
   "id": "random-anthony",
   "metadata": {},
   "outputs": [],
   "source": [
    "def test_model(image_path):\n",
    "    img = tf.keras.preprocessing.image.load_img(\n",
    "            image_path,\n",
    "            target_size = (img_height,img_width)\n",
    "    )\n",
    "    img_array = keras.preprocessing.image.img_to_array(img)\n",
    "    img_tensor = tf.expand_dims(img_array, 0)\n",
    "    pred = model.predict(img_tensor)\n",
    "    score = tf.nn.softmax(pred)\n",
    "    class_name = class_names[np.argmax(score)]\n",
    "    confidence = 100*np.max(score)\n",
    "    pred_label = label_class[class_name]\n",
    "    return class_name,confidence,pred_label"
   ]
  },
  {
   "cell_type": "code",
   "execution_count": 23,
   "id": "gentle-headquarters",
   "metadata": {},
   "outputs": [],
   "source": [
    "test_data = pd.read_csv('archive_test/testdata.csv').iloc[:,1:]"
   ]
  },
  {
   "cell_type": "code",
   "execution_count": 24,
   "id": "documentary-court",
   "metadata": {},
   "outputs": [],
   "source": [
    "path_kaggle = '/kaggle/input/testssss/test_crop_image/'\n",
    "path_test_data = []\n",
    "for i in test_data['testpath']:\n",
    "    path_test_data.append(os.path.relpath(i,path_kaggle))\n",
    "test_data['image'] = path_test_data"
   ]
  },
  {
   "cell_type": "code",
   "execution_count": 25,
   "id": "fluid-oregon",
   "metadata": {},
   "outputs": [],
   "source": [
    "with zipfile.ZipFile('archive_test.zip','r') as f_t:\n",
    "    f_t.extractall('archive_test')\n",
    "path_test = 'archive_test/test_crop_image'"
   ]
  },
  {
   "cell_type": "code",
   "execution_count": 26,
   "id": "changed-string",
   "metadata": {},
   "outputs": [],
   "source": [
    "test_list = []\n",
    "for test_file in path_test_data:\n",
    "    class_name,percentage,label = test_model(os.path.join(path_test,test_file))\n",
    "    test_list.append(label)"
   ]
  },
  {
   "cell_type": "code",
   "execution_count": 27,
   "id": "proper-nevada",
   "metadata": {},
   "outputs": [
    {
     "data": {
      "text/plain": [
       "50.98039215686274"
      ]
     },
     "execution_count": 27,
     "metadata": {},
     "output_type": "execute_result"
    }
   ],
   "source": [
    "test_data['pred'] = test_list\n",
    "y_true = test_data['croplabel']\n",
    "y_pred = test_data['pred']\n",
    "from sklearn.metrics import accuracy_score\n",
    "acc = accuracy_score(y_true,y_pred)\n",
    "acc*100"
   ]
  },
  {
   "cell_type": "code",
   "execution_count": 28,
   "id": "freelance-space",
   "metadata": {},
   "outputs": [
    {
     "data": {
      "text/plain": [
       "{'jute': 0, 'maize': 1, 'rice': 2, 'sugarcane': 3, 'wheat': 4}"
      ]
     },
     "execution_count": 28,
     "metadata": {},
     "output_type": "execute_result"
    }
   ],
   "source": [
    "label_class"
   ]
  },
  {
   "cell_type": "code",
   "execution_count": null,
   "id": "documentary-absence",
   "metadata": {},
   "outputs": [],
   "source": []
  },
  {
   "cell_type": "code",
   "execution_count": null,
   "id": "boring-accessory",
   "metadata": {},
   "outputs": [],
   "source": []
  },
  {
   "cell_type": "code",
   "execution_count": null,
   "id": "laughing-photographer",
   "metadata": {},
   "outputs": [],
   "source": []
  },
  {
   "cell_type": "code",
   "execution_count": null,
   "id": "union-surface",
   "metadata": {},
   "outputs": [],
   "source": []
  },
  {
   "cell_type": "code",
   "execution_count": null,
   "id": "therapeutic-clarity",
   "metadata": {},
   "outputs": [],
   "source": []
  }
 ],
 "metadata": {
  "kernelspec": {
   "display_name": "Python 3",
   "language": "python",
   "name": "python3"
  },
  "language_info": {
   "codemirror_mode": {
    "name": "ipython",
    "version": 3
   },
   "file_extension": ".py",
   "mimetype": "text/x-python",
   "name": "python",
   "nbconvert_exporter": "python",
   "pygments_lexer": "ipython3",
   "version": "3.8.5"
  }
 },
 "nbformat": 4,
 "nbformat_minor": 5
}

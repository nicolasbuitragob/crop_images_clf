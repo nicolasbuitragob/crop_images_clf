{
 "cells": [
  {
   "cell_type": "code",
   "execution_count": 29,
   "id": "spare-equilibrium",
   "metadata": {},
   "outputs": [],
   "source": [
    "import os\n",
    "import numpy as np\n",
    "import zipfile\n",
    "import tensorflow as tf\n",
    "import matplotlib.pyplot as plt\n",
    "import pandas as pd\n",
    "from tensorflow import keras\n",
    "from tensorflow.keras import layers\n",
    "from tensorflow.keras.models import Sequential\n"
   ]
  },
  {
   "cell_type": "code",
   "execution_count": 30,
   "id": "bigger-health",
   "metadata": {},
   "outputs": [],
   "source": [
    "with zipfile.ZipFile('archive.zip','r') as f:\n",
    "    f.extractall('archive')"
   ]
  },
  {
   "cell_type": "code",
   "execution_count": 31,
   "id": "social-frontier",
   "metadata": {},
   "outputs": [],
   "source": [
    "crops = ['jute','maize','rice','sugarcane','wheat']\n",
    "paths = ['archive/crop_images','archive/kag2','archive/test_crop_image']"
   ]
  },
  {
   "cell_type": "code",
   "execution_count": 32,
   "id": "automated-cotton",
   "metadata": {},
   "outputs": [],
   "source": [
    "img_height = 256 \n",
    "img_width = 256\n",
    "batch_size = 32\n",
    "def load_data(path):\n",
    "    data = tf.keras.preprocessing.image_dataset_from_directory(\n",
    "        path,\n",
    "        batch_size=batch_size, \n",
    "        image_size=(img_height,img_width),\n",
    "        shuffle=True, seed=0\n",
    "    )\n",
    "    return data\n"
   ]
  },
  {
   "cell_type": "code",
   "execution_count": 33,
   "id": "greek-horse",
   "metadata": {},
   "outputs": [
    {
     "name": "stdout",
     "output_type": "stream",
     "text": [
      "Found 804 files belonging to 5 classes.\n",
      "Found 201 files belonging to 5 classes.\n"
     ]
    }
   ],
   "source": [
    "train = load_data(paths[1])\n",
    "dev = load_data(paths[0])\n",
    "class_names = train.class_names"
   ]
  },
  {
   "cell_type": "code",
   "execution_count": 34,
   "id": "overall-rating",
   "metadata": {},
   "outputs": [],
   "source": [
    "AUTOTUNE = tf.data.AUTOTUNE\n",
    "train = train.cache().shuffle(1000).prefetch(buffer_size=AUTOTUNE)\n",
    "dev = dev.cache().prefetch(buffer_size=AUTOTUNE)\n"
   ]
  },
  {
   "cell_type": "code",
   "execution_count": 35,
   "id": "subtle-liverpool",
   "metadata": {},
   "outputs": [],
   "source": [
    "num_classes = 5\n",
    "\n",
    "model = Sequential([\n",
    "  layers.experimental.preprocessing.Rescaling(1./255, input_shape=(img_height, img_width, 3)),\n",
    "  layers.Conv2D(16, 3, padding='same', activation='relu'),\n",
    "  layers.MaxPooling2D(),\n",
    "  layers.Conv2D(32, 3, padding='same', activation='relu'),\n",
    "  layers.MaxPooling2D(),\n",
    "  layers.Conv2D(64, 3, padding='same', activation='relu'),\n",
    "  layers.MaxPooling2D(),\n",
    "  layers.Flatten(),\n",
    "  layers.Dense(128, activation='relu'),\n",
    "  layers.Dense(num_classes)\n",
    "])\n"
   ]
  },
  {
   "cell_type": "code",
   "execution_count": 36,
   "id": "laughing-round",
   "metadata": {},
   "outputs": [],
   "source": [
    "model.compile(optimizer = 'adam',\n",
    "              loss = tf.keras.losses.SparseCategoricalCrossentropy(from_logits=True),\n",
    "              metrics = ['accuracy'])\n"
   ]
  },
  {
   "cell_type": "code",
   "execution_count": 37,
   "id": "documentary-plymouth",
   "metadata": {},
   "outputs": [
    {
     "name": "stdout",
     "output_type": "stream",
     "text": [
      "Model: \"sequential_2\"\n",
      "_________________________________________________________________\n",
      "Layer (type)                 Output Shape              Param #   \n",
      "=================================================================\n",
      "rescaling_2 (Rescaling)      (None, 256, 256, 3)       0         \n",
      "_________________________________________________________________\n",
      "conv2d_6 (Conv2D)            (None, 256, 256, 16)      448       \n",
      "_________________________________________________________________\n",
      "max_pooling2d_6 (MaxPooling2 (None, 128, 128, 16)      0         \n",
      "_________________________________________________________________\n",
      "conv2d_7 (Conv2D)            (None, 128, 128, 32)      4640      \n",
      "_________________________________________________________________\n",
      "max_pooling2d_7 (MaxPooling2 (None, 64, 64, 32)        0         \n",
      "_________________________________________________________________\n",
      "conv2d_8 (Conv2D)            (None, 64, 64, 64)        18496     \n",
      "_________________________________________________________________\n",
      "max_pooling2d_8 (MaxPooling2 (None, 32, 32, 64)        0         \n",
      "_________________________________________________________________\n",
      "flatten_2 (Flatten)          (None, 65536)             0         \n",
      "_________________________________________________________________\n",
      "dense_4 (Dense)              (None, 128)               8388736   \n",
      "_________________________________________________________________\n",
      "dense_5 (Dense)              (None, 5)                 645       \n",
      "=================================================================\n",
      "Total params: 8,412,965\n",
      "Trainable params: 8,412,965\n",
      "Non-trainable params: 0\n",
      "_________________________________________________________________\n"
     ]
    }
   ],
   "source": [
    "model.summary()\n"
   ]
  },
  {
   "cell_type": "code",
   "execution_count": 38,
   "id": "delayed-beginning",
   "metadata": {},
   "outputs": [
    {
     "name": "stdout",
     "output_type": "stream",
     "text": [
      "Epoch 1/15\n",
      "26/26 [==============================] - 3s 81ms/step - loss: 3.6188 - accuracy: 0.2496 - val_loss: 1.4583 - val_accuracy: 0.4279\n",
      "Epoch 2/15\n",
      "26/26 [==============================] - 2s 69ms/step - loss: 1.3746 - accuracy: 0.4518 - val_loss: 1.0409 - val_accuracy: 0.5821\n",
      "Epoch 3/15\n",
      "26/26 [==============================] - 2s 68ms/step - loss: 1.0033 - accuracy: 0.6300 - val_loss: 0.6274 - val_accuracy: 0.7612\n",
      "Epoch 4/15\n",
      "26/26 [==============================] - 2s 71ms/step - loss: 0.7200 - accuracy: 0.7564 - val_loss: 0.3245 - val_accuracy: 0.9104\n",
      "Epoch 5/15\n",
      "26/26 [==============================] - 2s 71ms/step - loss: 0.3671 - accuracy: 0.8983 - val_loss: 0.1259 - val_accuracy: 0.9751\n",
      "Epoch 6/15\n",
      "26/26 [==============================] - 2s 72ms/step - loss: 0.1492 - accuracy: 0.9641 - val_loss: 0.0762 - val_accuracy: 0.9950\n",
      "Epoch 7/15\n",
      "26/26 [==============================] - 2s 72ms/step - loss: 0.1334 - accuracy: 0.9716 - val_loss: 0.0417 - val_accuracy: 0.9950\n",
      "Epoch 8/15\n",
      "26/26 [==============================] - 2s 72ms/step - loss: 0.0624 - accuracy: 0.9930 - val_loss: 0.0142 - val_accuracy: 1.0000\n",
      "Epoch 9/15\n",
      "26/26 [==============================] - 2s 72ms/step - loss: 0.1209 - accuracy: 0.9624 - val_loss: 0.1714 - val_accuracy: 0.9552\n",
      "Epoch 10/15\n",
      "26/26 [==============================] - 2s 72ms/step - loss: 0.1555 - accuracy: 0.9587 - val_loss: 0.0374 - val_accuracy: 0.9950\n",
      "Epoch 11/15\n",
      "26/26 [==============================] - 2s 71ms/step - loss: 0.0972 - accuracy: 0.9732 - val_loss: 0.0273 - val_accuracy: 1.0000\n",
      "Epoch 12/15\n",
      "26/26 [==============================] - 2s 72ms/step - loss: 0.0412 - accuracy: 0.9937 - val_loss: 0.0045 - val_accuracy: 1.0000\n",
      "Epoch 13/15\n",
      "26/26 [==============================] - 2s 72ms/step - loss: 0.0084 - accuracy: 0.9999 - val_loss: 0.0021 - val_accuracy: 1.0000\n",
      "Epoch 14/15\n",
      "26/26 [==============================] - 2s 72ms/step - loss: 0.0041 - accuracy: 1.0000 - val_loss: 8.0359e-04 - val_accuracy: 1.0000\n",
      "Epoch 15/15\n",
      "26/26 [==============================] - 2s 72ms/step - loss: 0.0021 - accuracy: 1.0000 - val_loss: 5.0111e-04 - val_accuracy: 1.0000\n"
     ]
    }
   ],
   "source": [
    "epochs = 15\n",
    "history = model.fit(\n",
    "    train,\n",
    "    validation_data = dev,epochs = epochs\n",
    ")"
   ]
  },
  {
   "cell_type": "code",
   "execution_count": 39,
   "id": "painful-person",
   "metadata": {},
   "outputs": [],
   "source": [
    "acc = history.history['accuracy']\n",
    "dev_acc = history.history['val_accuracy']\n",
    "loss = history.history['loss']\n",
    "dev_loss = history.history['val_loss']\n",
    "epochs_range = range(epochs)\n"
   ]
  },
  {
   "cell_type": "code",
   "execution_count": 40,
   "id": "integrated-agreement",
   "metadata": {},
   "outputs": [
    {
     "data": {
      "image/png": "[encoded data removed]",
      "text/plain": [
       "<Figure size 576x576 with 2 Axes>"
      ]
     },
     "metadata": {
      "needs_background": "light"
     },
     "output_type": "display_data"
    }
   ],
   "source": [
    "plt.figure(figsize=(8, 8))\n",
    "plt.subplot(1, 2, 1)\n",
    "plt.plot(epochs_range, acc, label='Training Accuracy')\n",
    "plt.plot(epochs_range, dev_acc, label='Validation Accuracy')\n",
    "plt.legend(loc='lower right')\n",
    "plt.title('Training and Validation Accuracy')\n",
    "\n",
    "plt.subplot(1, 2, 2)\n",
    "plt.plot(epochs_range, loss, label='Training Loss')\n",
    "plt.plot(epochs_range, dev_loss, label='Validation Loss')\n",
    "plt.legend(loc='upper right')\n",
    "plt.title('Training and Validation Loss')\n",
    "plt.show()\n"
   ]
  },
  {
   "cell_type": "code",
   "execution_count": 41,
   "id": "administrative-favorite",
   "metadata": {},
   "outputs": [],
   "source": [
    "\n",
    "\n",
    "img = tf.keras.preprocessing.image.load_img(\n",
    "        os.path.join(paths[2],'jute002.jpg'),\n",
    "        target_size = (img_height,img_width)\n",
    ")\n",
    "img_array = keras.preprocessing.image.img_to_array(img)\n",
    "img_tensor = tf.expand_dims(img_array, 0)\n"
   ]
  },
  {
   "cell_type": "code",
   "execution_count": 42,
   "id": "decreased-paragraph",
   "metadata": {},
   "outputs": [],
   "source": [
    "pred = model.predict(img_tensor)"
   ]
  },
  {
   "cell_type": "code",
   "execution_count": 43,
   "id": "equivalent-instrumentation",
   "metadata": {},
   "outputs": [],
   "source": [
    "score = tf.nn.softmax(pred)"
   ]
  },
  {
   "cell_type": "code",
   "execution_count": 44,
   "id": "roman-thesis",
   "metadata": {},
   "outputs": [
    {
     "data": {
      "text/plain": [
       "99.94767308235168"
      ]
     },
     "execution_count": 44,
     "metadata": {},
     "output_type": "execute_result"
    }
   ],
   "source": [
    "\n",
    "class_names[np.argmax(score)]\n",
    "100*np.max(score)"
   ]
  },
  {
   "cell_type": "code",
   "execution_count": 46,
   "id": "smooth-snake",
   "metadata": {},
   "outputs": [
    {
     "data": {
      "text/plain": [
       "'jute'"
      ]
     },
     "execution_count": 46,
     "metadata": {},
     "output_type": "execute_result"
    }
   ],
   "source": [
    "class_names[np.argmax(score)]"
   ]
  },
  {
   "cell_type": "code",
   "execution_count": null,
   "id": "according-adobe",
   "metadata": {},
   "outputs": [],
   "source": []
  },
  {
   "cell_type": "code",
   "execution_count": null,
   "id": "hungarian-execution",
   "metadata": {},
   "outputs": [],
   "source": []
  },
  {
   "cell_type": "code",
   "execution_count": null,
   "id": "timely-raise",
   "metadata": {},
   "outputs": [],
   "source": []
  }
 ],
 "metadata": {
  "kernelspec": {
   "display_name": "Python 3",
   "language": "python",
   "name": "python3"
  },
  "language_info": {
   "codemirror_mode": {
    "name": "ipython",
    "version": 3
   },
   "file_extension": ".py",
   "mimetype": "text/x-python",
   "name": "python",
   "nbconvert_exporter": "python",
   "pygments_lexer": "ipython3",
   "version": "3.8.5"
  }
 },
 "nbformat": 4,
 "nbformat_minor": 5
}

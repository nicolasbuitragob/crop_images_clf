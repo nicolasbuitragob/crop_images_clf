{
 "cells": [
  {
   "cell_type": "code",
   "execution_count": 1,
   "id": "employed-primary",
   "metadata": {},
   "outputs": [],
   "source": [
    "import os\n",
    "import numpy as np\n",
    "import zipfile\n",
    "import tensorflow as tf\n",
    "import matplotlib.pyplot as plt\n",
    "import pandas as pd\n",
    "from tensorflow import keras\n",
    "from tensorflow.keras import layers\n",
    "from tensorflow.keras.models import Sequential\n",
    "from sklearn.metrics import accuracy_score"
   ]
  },
  {
   "cell_type": "code",
   "execution_count": 2,
   "id": "radical-spencer",
   "metadata": {},
   "outputs": [],
   "source": [
    "with zipfile.ZipFile('archive.zip','r') as f:\n",
    "    f.extractall('archive')"
   ]
  },
  {
   "cell_type": "code",
   "execution_count": 3,
   "id": "dirty-carry",
   "metadata": {},
   "outputs": [],
   "source": [
    "crops = ['jute','maize','rice','sugarcane','wheat']\n",
    "path = 'archive/kag2' #Path to training data\n",
    "test_path = 'archive_test/test_crop_image' #Path to test data"
   ]
  },
  {
   "cell_type": "markdown",
   "id": "regular-innocent",
   "metadata": {},
   "source": [
    "#### Load Data\n",
    "Data is loaded using tensorflow keras: 'preprocessing.image_dataset_from_directory' class since the training examples are divided by directories.\n",
    "\n",
    "Data is split into 80/20 ratio for traning and validation set\n",
    "\n",
    "Data is downloaded from [Kaggle](https://www.kaggle.com/aman2000jaiswal/agriculture-crop-images). 'Agriculture crop images'\n"
   ]
  },
  {
   "cell_type": "code",
   "execution_count": 4,
   "id": "becoming-maryland",
   "metadata": {},
   "outputs": [],
   "source": [
    "img_height = 256 \n",
    "img_width = 256\n",
    "batch_size = 16\n",
    "num_classes = 5\n",
    "\n",
    "def load_data(path,dataset):\n",
    "    data = tf.keras.preprocessing.image_dataset_from_directory(\n",
    "        path,\n",
    "        validation_split = 0.2,\n",
    "        subset = dataset,\n",
    "        batch_size=batch_size, \n",
    "        image_size=(img_height,img_width),\n",
    "        shuffle=True, seed=0\n",
    "    )\n",
    "    return data\n"
   ]
  },
  {
   "cell_type": "code",
   "execution_count": 5,
   "id": "southern-trailer",
   "metadata": {},
   "outputs": [
    {
     "name": "stdout",
     "output_type": "stream",
     "text": [
      "Found 854 files belonging to 5 classes.\n",
      "Using 684 files for training.\n"
     ]
    }
   ],
   "source": [
    "#Load train data\n",
    "train = load_data(path,'training')"
   ]
  },
  {
   "cell_type": "code",
   "execution_count": 6,
   "id": "strange-retention",
   "metadata": {},
   "outputs": [
    {
     "name": "stdout",
     "output_type": "stream",
     "text": [
      "Found 854 files belonging to 5 classes.\n",
      "Using 170 files for validation.\n"
     ]
    }
   ],
   "source": [
    "#Load validation data\n",
    "dev = load_data(path,'validation')"
   ]
  },
  {
   "cell_type": "code",
   "execution_count": 7,
   "id": "ideal-papua",
   "metadata": {},
   "outputs": [
    {
     "data": {
      "text/plain": [
       "['jute', 'maize', 'rice', 'sugarcane', 'wheat']"
      ]
     },
     "execution_count": 7,
     "metadata": {},
     "output_type": "execute_result"
    }
   ],
   "source": [
    "#'tf.keras.preprocessing.image_dataset_from_directory' makes a class from each directory in the main folder \n",
    "class_names = train.class_names\n",
    "class_names"
   ]
  },
  {
   "cell_type": "code",
   "execution_count": 8,
   "id": "satisfactory-focus",
   "metadata": {},
   "outputs": [
    {
     "data": {
      "text/plain": [
       "{'jute': 0, 'maize': 1, 'rice': 2, 'sugarcane': 3, 'wheat': 4}"
      ]
     },
     "execution_count": 8,
     "metadata": {},
     "output_type": "execute_result"
    }
   ],
   "source": [
    "#We are giving a number label to each class \n",
    "\n",
    "label_class = {}\n",
    "for i,label in enumerate(class_names):\n",
    "    label_class[label] = i\n",
    "label_class"
   ]
  },
  {
   "cell_type": "code",
   "execution_count": 9,
   "id": "polar-yeast",
   "metadata": {},
   "outputs": [],
   "source": [
    "AUTOTUNE = tf.data.AUTOTUNE\n",
    "train = train.cache().shuffle(1000).prefetch(buffer_size=AUTOTUNE)\n",
    "dev = dev.cache().prefetch(buffer_size=AUTOTUNE)"
   ]
  },
  {
   "cell_type": "code",
   "execution_count": 10,
   "id": "forward-chain",
   "metadata": {},
   "outputs": [],
   "source": [
    "#Fnction to compile de the model\n",
    "def compile_model(model,opt):\n",
    "    model.compile(optimizer = opt,\n",
    "                  loss = tf.keras.losses.SparseCategoricalCrossentropy(from_logits=True),\n",
    "                  metrics = ['accuracy'])"
   ]
  },
  {
   "cell_type": "code",
   "execution_count": 11,
   "id": "coral-tyler",
   "metadata": {},
   "outputs": [],
   "source": [
    "#Function to train the model\n",
    "def train_model(model,epochs):\n",
    "    history = model.fit(\n",
    "            train,\n",
    "            validation_data = dev,\n",
    "            epochs = epochs\n",
    "        )\n",
    "    model.summary()\n",
    "    return history"
   ]
  },
  {
   "cell_type": "code",
   "execution_count": 12,
   "id": "pregnant-sunset",
   "metadata": {},
   "outputs": [],
   "source": [
    "#Function to plot accuracy and lose curves\n",
    "def plot_curves(history,epochs):\n",
    "    acc = history.history['accuracy']\n",
    "    dev_acc = history.history['val_accuracy']\n",
    "    loss = history.history['loss']\n",
    "    dev_loss = history.history['val_loss']\n",
    "    epochs_range = range(epochs)\n",
    "    plt.figure(figsize=(8, 8))\n",
    "    plt.subplot(1, 2, 1)\n",
    "    plt.plot(epochs_range, acc, label='Training Accuracy')\n",
    "    plt.plot(epochs_range, dev_acc, label='Validation Accuracy')\n",
    "    plt.legend(loc='lower right')\n",
    "    plt.title('Training and Validation Accuracy')\n",
    "    plt.subplot(1, 2, 2)\n",
    "    plt.plot(epochs_range, loss, label='Training Loss')\n",
    "    plt.plot(epochs_range, dev_loss, label='Validation Loss')\n",
    "    plt.legend(loc='upper right')\n",
    "    plt.title('Training and Validation Loss')\n",
    "    plt.show()"
   ]
  },
  {
   "cell_type": "code",
   "execution_count": 13,
   "id": "dying-relationship",
   "metadata": {},
   "outputs": [],
   "source": [
    "#Function to load thest data\n",
    "def load_test_data():\n",
    "    with zipfile.ZipFile('archive_test.zip','r') as f_t:\n",
    "        f_t.extractall('archive_test')\n",
    "    test_data = pd.read_csv('archive_test/testdata.csv').iloc[:,1:]\n",
    "    path_kaggle = '/kaggle/input/testssss/test_crop_image/'\n",
    "    path_test_data = []\n",
    "    for i in test_data['testpath']:\n",
    "        path_test_data.append(os.path.relpath(i,path_kaggle))\n",
    "    test_data['image'] = path_test_data\n",
    "    return path_test_data,test_data"
   ]
  },
  {
   "cell_type": "code",
   "execution_count": 14,
   "id": "increasing-lodge",
   "metadata": {},
   "outputs": [],
   "source": [
    "#Function to test model\n",
    "\n",
    "def test_model(image_path,model):\n",
    "    img = tf.keras.preprocessing.image.load_img( #Load one image at time.\n",
    "            image_path,\n",
    "            target_size = (img_height,img_width)\n",
    "    )\n",
    "    img_array = keras.preprocessing.image.img_to_array(img) #converts image to array\n",
    "    img_tensor = tf.expand_dims(img_array, 0) #converts array to tensor by adding a batch\n",
    "    pred = model.predict(img_tensor) #use model to predict\n",
    "    score = tf.nn.softmax(pred) # Apply softmax to the prediction\n",
    "    class_name = class_names[np.argmax(score)] #Get the class name with the highest score\n",
    "    confidence = 100*np.max(score) #Get probability for the class name\n",
    "    pred_label = label_class[class_name]# Get label for the prediction\n",
    "    return class_name,confidence,pred_label"
   ]
  },
  {
   "cell_type": "code",
   "execution_count": 15,
   "id": "moving-memorabilia",
   "metadata": {},
   "outputs": [],
   "source": [
    "#Function to test model using accuracy\n",
    "def acc_score(path_test_data,test_data,model):  \n",
    "    test_list = []\n",
    "    for test_file in path_test_data: #Loop to iterate over each image in the directory\n",
    "        class_name,percentage,label = test_model(os.path.join(test_path,test_file),model) #apply prediction to one image\n",
    "        test_list.append(label)#append label to the list\n",
    "    test_data['pred'] = test_list # create a column in data frame with the list of labels predicted\n",
    "    y_true = test_data['croplabel'] #From test data file frome kaggle get the true label\n",
    "    y_pred = test_data['pred']   # get the pred label \n",
    "    acc = accuracy_score(y_true,y_pred) #get accuracy score for the whole test set \n",
    "    return acc*100 # get the percentage"
   ]
  },
  {
   "cell_type": "code",
   "execution_count": 16,
   "id": "brazilian-stuff",
   "metadata": {},
   "outputs": [],
   "source": [
    "#Pipeline function to automate the compiling,train, plot curves and test data\n",
    "def pipeline(epochs,model,opt):\n",
    "    compile_model(model,opt)\n",
    "    history = train_model(model,epochs)\n",
    "    plot_curves(history,epochs)\n",
    "    path_test_data,test_data = load_test_data()\n",
    "    acc = acc_score(path_test_data,test_data,model)\n",
    "    return print('Accuracy score in the test set: ',acc)"
   ]
  },
  {
   "cell_type": "markdown",
   "id": "sound-oasis",
   "metadata": {},
   "source": [
    "## Model building\n",
    "\n",
    "We define an optimization algorithm: Adam in the first place and default hyperparameters\n",
    "\n",
    "Model architecture following [tensorflow](https://www.tensorflow.org/tutorials/images/classification) guide to image classification :\n",
    "\n",
    "1.Re escale data by dividing pixels by 255.\n",
    "\n",
    "2.Convolutional layer of 16 filters and 3x3 size, followed by a Max pooling layer\n",
    "\n",
    "3.Convolutional layer of 32 filters and 3x3 size followed by a Max pooling layer\n",
    "\n",
    "4.Flatten the output from the convolutional layer and apply dropout regularization of 0.2 \n",
    "\n",
    "5.Two fully connected layers of 512 and 128 neurons\n",
    "\n",
    "6.Output layer with number of neurons as the number of classes"
   ]
  },
  {
   "cell_type": "code",
   "execution_count": 17,
   "id": "intermediate-above",
   "metadata": {},
   "outputs": [],
   "source": [
    "opt = tf.keras.optimizers.Adam(learning_rate=0.001, beta_1=0.9, beta_2=0.999, epsilon=1e-07, amsgrad=False,\n",
    "    name='Adam')\n",
    "initial_model = Sequential([\n",
    "  layers.experimental.preprocessing.Rescaling(1./255, input_shape=(img_height, img_width, 3)),\n",
    "  layers.Conv2D(16, 3, padding='same', activation='relu'),\n",
    "  layers.MaxPooling2D(),\n",
    "  layers.Conv2D(32, 3, padding='same', activation='relu'),\n",
    "  layers.MaxPooling2D(),\n",
    "  layers.Flatten(),\n",
    "  layers.Dropout(0.2),\n",
    "  layers.Dense(512, activation='relu'),\n",
    "  layers.Dense(128, activation='relu'),\n",
    "  layers.Dense(num_classes),\n",
    "  \n",
    "])"
   ]
  },
  {
   "cell_type": "code",
   "execution_count": 18,
   "id": "flush-virtue",
   "metadata": {},
   "outputs": [],
   "source": [
    "#pipeline(30,initial_model,opt)"
   ]
  },
  {
   "cell_type": "raw",
   "id": "close-school",
   "metadata": {},
   "source": [
    "56.86274509803921"
   ]
  },
  {
   "cell_type": "code",
   "execution_count": null,
   "id": "determined-nursing",
   "metadata": {},
   "outputs": [],
   "source": []
  },
  {
   "cell_type": "markdown",
   "id": "extraordinary-clinic",
   "metadata": {},
   "source": [
    "The model performs well on the traning set and validation set but poorly on test set. Let's see if some regularization helps"
   ]
  },
  {
   "cell_type": "code",
   "execution_count": 19,
   "id": "naked-portable",
   "metadata": {},
   "outputs": [],
   "source": [
    "# Regularized Model\n",
    "regularized_model = Sequential([\n",
    "  layers.experimental.preprocessing.Rescaling(1./255, input_shape=(img_height, img_width, 3)),\n",
    "  layers.Conv2D(16, 3, padding='same', activation='relu'),\n",
    "  layers.MaxPooling2D(),\n",
    "  layers.Conv2D(32, 3, padding='same', activation='relu'),\n",
    "  layers.MaxPooling2D(),\n",
    "  layers.Flatten(),\n",
    "  layers.Dropout(0.2),\n",
    "  layers.Dense(512, activation='relu'),\n",
    "  layers.Dropout(0.2),\n",
    "  layers.Dense(128, activation='relu',kernel_regularizer = tf.keras.regularizers.L2(0.01)),\n",
    "  layers.Dense(num_classes),\n",
    "  \n",
    "])"
   ]
  },
  {
   "cell_type": "code",
   "execution_count": 20,
   "id": "guilty-graphic",
   "metadata": {},
   "outputs": [],
   "source": [
    "#pipeline(30,regularized_model,opt)\n",
    "\n",
    "     "
   ]
  },
  {
   "cell_type": "markdown",
   "id": "choice-leone",
   "metadata": {},
   "source": [
    "Not helping too much. Now, what happen if we add more data via data augmentation?"
   ]
  },
  {
   "cell_type": "markdown",
   "id": "welcome-spyware",
   "metadata": {},
   "source": [
    "\n",
    "\n"
   ]
  },
  {
   "cell_type": "markdown",
   "id": "forced-theology",
   "metadata": {},
   "source": [
    "### Data Augmentation"
   ]
  },
  {
   "cell_type": "code",
   "execution_count": 21,
   "id": "pleased-packaging",
   "metadata": {},
   "outputs": [],
   "source": [
    "data_augmentation = tf.keras.Sequential([\n",
    "    layers.experimental.preprocessing.RandomRotation(0.2),\n",
    "    layers.experimental.preprocessing.RandomFlip(\"horizontal_and_vertical\")\n",
    "])"
   ]
  },
  {
   "cell_type": "code",
   "execution_count": 22,
   "id": "identified-aspect",
   "metadata": {},
   "outputs": [],
   "source": [
    "opt_2 = tf.keras.optimizers.Adam(learning_rate=0.01, beta_1=0.9, beta_2=0.999, epsilon=1e-07, amsgrad=False,\n",
    "    name='Adam')\n",
    "opt_3 = tf.keras.optimizers.SGD(learning_rate = 0.01,name  = 'SGD')"
   ]
  },
  {
   "cell_type": "code",
   "execution_count": 23,
   "id": "executed-general",
   "metadata": {},
   "outputs": [],
   "source": [
    "model_ag_data = tf.keras.Sequential([\n",
    "    data_augmentation,\n",
    "    layers.experimental.preprocessing.Rescaling(1./255, input_shape=(img_height, img_width, 3)),\n",
    "    layers.Conv2D(16, 3, padding='same', activation='relu'),\n",
    "    layers.MaxPooling2D(),\n",
    "    layers.Conv2D(32, 3, padding='same', activation='relu'),\n",
    "    layers.MaxPooling2D(),\n",
    "    layers.Flatten(),\n",
    "    layers.Dropout(0.2),\n",
    "    layers.Dense(512, activation='relu'),\n",
    "    layers.Dense(128, activation='relu'),\n",
    "    layers.Dense(num_classes,kernel_regularizer = tf.keras.regularizers.L2(0.01)),\n",
    "])\n"
   ]
  },
  {
   "cell_type": "code",
   "execution_count": 24,
   "id": "supreme-wilson",
   "metadata": {},
   "outputs": [
    {
     "name": "stdout",
     "output_type": "stream",
     "text": [
      "Epoch 1/60\n",
      "43/43 [==============================] - 7s 91ms/step - loss: 8.3320 - accuracy: 0.2759 - val_loss: 1.5725 - val_accuracy: 0.3647\n",
      "Epoch 2/60\n",
      "43/43 [==============================] - 3s 68ms/step - loss: 1.5080 - accuracy: 0.3478 - val_loss: 1.4075 - val_accuracy: 0.4294\n",
      "Epoch 3/60\n",
      "43/43 [==============================] - 3s 69ms/step - loss: 1.4256 - accuracy: 0.4120 - val_loss: 1.4867 - val_accuracy: 0.4176\n",
      "Epoch 4/60\n",
      "43/43 [==============================] - 3s 69ms/step - loss: 1.4122 - accuracy: 0.4030 - val_loss: 1.3054 - val_accuracy: 0.4941\n",
      "Epoch 5/60\n",
      "43/43 [==============================] - 3s 70ms/step - loss: 1.3020 - accuracy: 0.4725 - val_loss: 1.3239 - val_accuracy: 0.5471\n",
      "Epoch 6/60\n",
      "43/43 [==============================] - 3s 70ms/step - loss: 1.2134 - accuracy: 0.5336 - val_loss: 1.2599 - val_accuracy: 0.5412\n",
      "Epoch 7/60\n",
      "43/43 [==============================] - 3s 70ms/step - loss: 1.1393 - accuracy: 0.5580 - val_loss: 1.2356 - val_accuracy: 0.5471\n",
      "Epoch 8/60\n",
      "43/43 [==============================] - 3s 70ms/step - loss: 1.1611 - accuracy: 0.5584 - val_loss: 1.0829 - val_accuracy: 0.6235\n",
      "Epoch 9/60\n",
      "43/43 [==============================] - 3s 70ms/step - loss: 1.0571 - accuracy: 0.6161 - val_loss: 1.0676 - val_accuracy: 0.6412\n",
      "Epoch 10/60\n",
      "43/43 [==============================] - 3s 70ms/step - loss: 0.9373 - accuracy: 0.6731 - val_loss: 1.0462 - val_accuracy: 0.6294\n",
      "Epoch 11/60\n",
      "43/43 [==============================] - 3s 70ms/step - loss: 0.9551 - accuracy: 0.6451 - val_loss: 1.1305 - val_accuracy: 0.5882\n",
      "Epoch 12/60\n",
      "43/43 [==============================] - 3s 70ms/step - loss: 1.0002 - accuracy: 0.6003 - val_loss: 0.9706 - val_accuracy: 0.6529\n",
      "Epoch 13/60\n",
      "43/43 [==============================] - 3s 70ms/step - loss: 0.9342 - accuracy: 0.6368 - val_loss: 0.8942 - val_accuracy: 0.7000\n",
      "Epoch 14/60\n",
      "43/43 [==============================] - 3s 70ms/step - loss: 0.8500 - accuracy: 0.7254 - val_loss: 0.8735 - val_accuracy: 0.7000\n",
      "Epoch 15/60\n",
      "43/43 [==============================] - 3s 70ms/step - loss: 0.8201 - accuracy: 0.7261 - val_loss: 0.9960 - val_accuracy: 0.6529\n",
      "Epoch 16/60\n",
      "43/43 [==============================] - 3s 70ms/step - loss: 0.7818 - accuracy: 0.7266 - val_loss: 0.8007 - val_accuracy: 0.7529\n",
      "Epoch 17/60\n",
      "43/43 [==============================] - 3s 70ms/step - loss: 0.8003 - accuracy: 0.7009 - val_loss: 0.8709 - val_accuracy: 0.6941\n",
      "Epoch 18/60\n",
      "43/43 [==============================] - 3s 68ms/step - loss: 0.8013 - accuracy: 0.7028 - val_loss: 0.7625 - val_accuracy: 0.7353\n",
      "Epoch 19/60\n",
      "43/43 [==============================] - 3s 70ms/step - loss: 0.6994 - accuracy: 0.7550 - val_loss: 0.8514 - val_accuracy: 0.6824\n",
      "Epoch 20/60\n",
      "43/43 [==============================] - 3s 70ms/step - loss: 0.7604 - accuracy: 0.7296 - val_loss: 0.7243 - val_accuracy: 0.8059\n",
      "Epoch 21/60\n",
      "43/43 [==============================] - 3s 70ms/step - loss: 0.6961 - accuracy: 0.7538 - val_loss: 0.8247 - val_accuracy: 0.7353\n",
      "Epoch 22/60\n",
      "43/43 [==============================] - 3s 70ms/step - loss: 0.6574 - accuracy: 0.7630 - val_loss: 0.7389 - val_accuracy: 0.7647\n",
      "Epoch 23/60\n",
      "43/43 [==============================] - 3s 70ms/step - loss: 0.6559 - accuracy: 0.7607 - val_loss: 0.6016 - val_accuracy: 0.8059\n",
      "Epoch 24/60\n",
      "43/43 [==============================] - 3s 70ms/step - loss: 0.5797 - accuracy: 0.8136 - val_loss: 0.6782 - val_accuracy: 0.7824\n",
      "Epoch 25/60\n",
      "43/43 [==============================] - 3s 70ms/step - loss: 0.5732 - accuracy: 0.8207 - val_loss: 0.5837 - val_accuracy: 0.8059\n",
      "Epoch 26/60\n",
      "43/43 [==============================] - 3s 70ms/step - loss: 0.5479 - accuracy: 0.8465 - val_loss: 0.6549 - val_accuracy: 0.7882\n",
      "Epoch 27/60\n",
      "43/43 [==============================] - 3s 70ms/step - loss: 0.4859 - accuracy: 0.8299 - val_loss: 0.5162 - val_accuracy: 0.8471\n",
      "Epoch 28/60\n",
      "43/43 [==============================] - 3s 70ms/step - loss: 0.5330 - accuracy: 0.8355 - val_loss: 0.5455 - val_accuracy: 0.8412\n",
      "Epoch 29/60\n",
      "43/43 [==============================] - 3s 70ms/step - loss: 0.4670 - accuracy: 0.8777 - val_loss: 0.5873 - val_accuracy: 0.8118\n",
      "Epoch 30/60\n",
      "43/43 [==============================] - 3s 70ms/step - loss: 0.3938 - accuracy: 0.8841 - val_loss: 0.5555 - val_accuracy: 0.8176\n",
      "Epoch 31/60\n",
      "43/43 [==============================] - 3s 71ms/step - loss: 0.4735 - accuracy: 0.8478 - val_loss: 0.5933 - val_accuracy: 0.8294\n",
      "Epoch 32/60\n",
      "43/43 [==============================] - 3s 70ms/step - loss: 0.4056 - accuracy: 0.8737 - val_loss: 0.4528 - val_accuracy: 0.8765\n",
      "Epoch 33/60\n",
      "43/43 [==============================] - 3s 70ms/step - loss: 0.3341 - accuracy: 0.9145 - val_loss: 0.6519 - val_accuracy: 0.8353\n",
      "Epoch 34/60\n",
      "43/43 [==============================] - 3s 70ms/step - loss: 0.4945 - accuracy: 0.8438 - val_loss: 0.4673 - val_accuracy: 0.8765\n",
      "Epoch 35/60\n",
      "43/43 [==============================] - 3s 70ms/step - loss: 0.3580 - accuracy: 0.8963 - val_loss: 0.5232 - val_accuracy: 0.8294\n",
      "Epoch 36/60\n",
      "43/43 [==============================] - 3s 70ms/step - loss: 0.3460 - accuracy: 0.8931 - val_loss: 0.5192 - val_accuracy: 0.8353\n",
      "Epoch 37/60\n",
      "43/43 [==============================] - 3s 70ms/step - loss: 0.3198 - accuracy: 0.9164 - val_loss: 0.3941 - val_accuracy: 0.8824\n",
      "Epoch 38/60\n",
      "43/43 [==============================] - 3s 70ms/step - loss: 0.2765 - accuracy: 0.9278 - val_loss: 0.3846 - val_accuracy: 0.9118\n",
      "Epoch 39/60\n",
      "43/43 [==============================] - 3s 70ms/step - loss: 0.2850 - accuracy: 0.9205 - val_loss: 0.4172 - val_accuracy: 0.9000ss: 0\n",
      "Epoch 40/60\n",
      "43/43 [==============================] - 3s 70ms/step - loss: 0.2200 - accuracy: 0.9448 - val_loss: 0.3867 - val_accuracy: 0.9118ss: 0.2195 - accuracy: 0.94 - ETA: 0s - loss: 0.2198 - accuracy: 0.94\n",
      "Epoch 41/60\n",
      "43/43 [==============================] - 3s 71ms/step - loss: 0.2160 - accuracy: 0.9496 - val_loss: 0.3615 - val_accuracy: 0.9294\n",
      "Epoch 42/60\n",
      "43/43 [==============================] - 3s 71ms/step - loss: 0.3745 - accuracy: 0.8771 - val_loss: 0.4031 - val_accuracy: 0.9353\n",
      "Epoch 43/60\n",
      "43/43 [==============================] - 3s 71ms/step - loss: 0.2618 - accuracy: 0.9375 - val_loss: 0.4743 - val_accuracy: 0.8706 1s -\n",
      "Epoch 44/60\n",
      "43/43 [==============================] - 3s 71ms/step - loss: 0.3220 - accuracy: 0.9061 - val_loss: 0.3380 - val_accuracy: 0.9235s - loss: 0.3248 - accuracy: 0.90 - ETA: 0s - loss: 0.3244 - accura\n",
      "Epoch 45/60\n",
      "43/43 [==============================] - 3s 71ms/step - loss: 0.2756 - accuracy: 0.9054 - val_loss: 0.4050 - val_accuracy: 0.8882\n",
      "Epoch 46/60\n",
      "43/43 [==============================] - 3s 71ms/step - loss: 0.2204 - accuracy: 0.9450 - val_loss: 0.3427 - val_accuracy: 0.9412\n",
      "Epoch 47/60\n",
      "43/43 [==============================] - 3s 71ms/step - loss: 0.2232 - accuracy: 0.9331 - val_loss: 0.4789 - val_accuracy: 0.9059s\n",
      "Epoch 48/60\n",
      "43/43 [==============================] - 3s 71ms/step - loss: 0.2248 - accuracy: 0.9558 - val_loss: 0.4067 - val_accuracy: 0.8765\n",
      "Epoch 49/60\n",
      "43/43 [==============================] - 3s 71ms/step - loss: 0.2261 - accuracy: 0.9494 - val_loss: 0.4171 - val_accuracy: 0.9059\n",
      "Epoch 50/60\n",
      "43/43 [==============================] - 3s 72ms/step - loss: 0.2389 - accuracy: 0.9364 - val_loss: 0.2658 - val_accuracy: 0.9529\n",
      "Epoch 51/60\n",
      "43/43 [==============================] - 3s 72ms/step - loss: 0.2417 - accuracy: 0.9230 - val_loss: 0.5233 - val_accuracy: 0.9000\n",
      "Epoch 52/60\n",
      "43/43 [==============================] - 3s 72ms/step - loss: 0.2609 - accuracy: 0.9258 - val_loss: 0.2950 - val_accuracy: 0.9294\n",
      "Epoch 53/60\n",
      "43/43 [==============================] - 3s 71ms/step - loss: 0.1362 - accuracy: 0.9744 - val_loss: 0.3189 - val_accuracy: 0.9706\n",
      "Epoch 54/60\n",
      "43/43 [==============================] - 3s 70ms/step - loss: 0.1875 - accuracy: 0.9574 - val_loss: 0.3929 - val_accuracy: 0.9353\n",
      "Epoch 55/60\n",
      "43/43 [==============================] - 3s 70ms/step - loss: 0.1476 - accuracy: 0.9668 - val_loss: 0.3307 - val_accuracy: 0.9706\n",
      "Epoch 56/60\n",
      "43/43 [==============================] - 3s 70ms/step - loss: 0.1257 - accuracy: 0.9769 - val_loss: 0.3971 - val_accuracy: 0.9353\n",
      "Epoch 57/60\n",
      "43/43 [==============================] - 3s 70ms/step - loss: 0.1286 - accuracy: 0.9660 - val_loss: 0.3124 - val_accuracy: 0.9706- loss: 0.130 - ETA: 0s - loss: 0.1292 - accuracy: \n",
      "Epoch 58/60\n",
      "43/43 [==============================] - 3s 70ms/step - loss: 0.1104 - accuracy: 0.9784 - val_loss: 0.3690 - val_accuracy: 0.9706\n",
      "Epoch 59/60\n",
      "43/43 [==============================] - 3s 70ms/step - loss: 0.1259 - accuracy: 0.9728 - val_loss: 0.3834 - val_accuracy: 0.9588\n",
      "Epoch 60/60\n",
      "43/43 [==============================] - 3s 71ms/step - loss: 0.1311 - accuracy: 0.9708 - val_loss: 0.2583 - val_accuracy: 0.9706- loss: 0.1655 - accuracy: 0. - E - ETA: 0s - loss: 0.135\n",
      "Model: \"sequential_3\"\n",
      "_________________________________________________________________\n",
      "Layer (type)                 Output Shape              Param #   \n",
      "=================================================================\n",
      "sequential_2 (Sequential)    (None, 256, 256, 3)       0         \n",
      "_________________________________________________________________\n",
      "rescaling_2 (Rescaling)      (None, 256, 256, 3)       0         \n",
      "_________________________________________________________________\n",
      "conv2d_4 (Conv2D)            (None, 256, 256, 16)      448       \n",
      "_________________________________________________________________\n",
      "max_pooling2d_4 (MaxPooling2 (None, 128, 128, 16)      0         \n",
      "_________________________________________________________________\n",
      "conv2d_5 (Conv2D)            (None, 128, 128, 32)      4640      \n",
      "_________________________________________________________________\n",
      "max_pooling2d_5 (MaxPooling2 (None, 64, 64, 32)        0         \n",
      "_________________________________________________________________\n",
      "flatten_2 (Flatten)          (None, 131072)            0         \n",
      "_________________________________________________________________\n",
      "dropout_3 (Dropout)          (None, 131072)            0         \n",
      "_________________________________________________________________\n",
      "dense_6 (Dense)              (None, 512)               67109376  \n",
      "_________________________________________________________________\n",
      "dense_7 (Dense)              (None, 128)               65664     \n",
      "_________________________________________________________________\n",
      "dense_8 (Dense)              (None, 5)                 645       \n",
      "=================================================================\n",
      "Total params: 67,180,773\n",
      "Trainable params: 67,180,773\n",
      "Non-trainable params: 0\n",
      "_________________________________________________________________\n"
     ]
    },
    {
     "data": {
      "image/png": "[encoded data removed]",
      "text/plain": [
       "<Figure size 576x576 with 2 Axes>"
      ]
     },
     "metadata": {
      "needs_background": "light"
     },
     "output_type": "display_data"
    },
    {
     "name": "stdout",
     "output_type": "stream",
     "text": [
      "Accuracy score in the test set:  50.98039215686274\n"
     ]
    }
   ],
   "source": [
    "pipeline(60,model_ag_data,opt)"
   ]
  },
  {
   "cell_type": "code",
   "execution_count": null,
   "id": "acute-waste",
   "metadata": {},
   "outputs": [],
   "source": []
  },
  {
   "cell_type": "code",
   "execution_count": null,
   "id": "designing-explanation",
   "metadata": {},
   "outputs": [],
   "source": []
  },
  {
   "cell_type": "code",
   "execution_count": null,
   "id": "monetary-bronze",
   "metadata": {},
   "outputs": [],
   "source": []
  },
  {
   "cell_type": "code",
   "execution_count": null,
   "id": "actual-million",
   "metadata": {},
   "outputs": [],
   "source": []
  },
  {
   "cell_type": "code",
   "execution_count": null,
   "id": "covered-lover",
   "metadata": {},
   "outputs": [],
   "source": []
  },
  {
   "cell_type": "code",
   "execution_count": null,
   "id": "rocky-implement",
   "metadata": {},
   "outputs": [],
   "source": []
  },
  {
   "cell_type": "code",
   "execution_count": null,
   "id": "warming-eugene",
   "metadata": {},
   "outputs": [],
   "source": []
  },
  {
   "cell_type": "code",
   "execution_count": null,
   "id": "green-illinois",
   "metadata": {},
   "outputs": [],
   "source": []
  },
  {
   "cell_type": "code",
   "execution_count": null,
   "id": "defensive-pickup",
   "metadata": {},
   "outputs": [],
   "source": []
  }
 ],
 "metadata": {
  "kernelspec": {
   "display_name": "Python 3",
   "language": "python",
   "name": "python3"
  },
  "language_info": {
   "codemirror_mode": {
    "name": "ipython",
    "version": 3
   },
   "file_extension": ".py",
   "mimetype": "text/x-python",
   "name": "python",
   "nbconvert_exporter": "python",
   "pygments_lexer": "ipython3",
   "version": "3.8.5"
  }
 },
 "nbformat": 4,
 "nbformat_minor": 5
}

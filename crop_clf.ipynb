{
 "cells": [
  {
   "cell_type": "code",
   "execution_count": 1,
   "id": "objective-astrology",
   "metadata": {},
   "outputs": [],
   "source": [
    "import os\n",
    "import numpy as np\n",
    "import zipfile\n",
    "import tensorflow as tf\n",
    "import matplotlib.pyplot as plt\n",
    "import pandas as pd\n",
    "from tensorflow import keras\n",
    "from tensorflow.keras import layers\n",
    "from tensorflow.keras.models import Sequential\n"
   ]
  },
  {
   "cell_type": "code",
   "execution_count": 2,
   "id": "normal-sensitivity",
   "metadata": {},
   "outputs": [],
   "source": [
    "with zipfile.ZipFile('archive.zip','r') as f:\n",
    "    f.extractall('archive')"
   ]
  },
  {
   "cell_type": "code",
   "execution_count": 3,
   "id": "mysterious-mauritius",
   "metadata": {},
   "outputs": [],
   "source": [
    "crops = ['jute','maize','rice','sugarcane','wheat']\n",
    "paths = ['archive/crop_images','archive/kag2','archive/test_crop_image']"
   ]
  },
  {
   "cell_type": "code",
   "execution_count": 4,
   "id": "constitutional-precipitation",
   "metadata": {},
   "outputs": [],
   "source": [
    "img_height = 256 \n",
    "img_width = 256\n",
    "batch_size = 32\n",
    "def load_data(path):\n",
    "    data = tf.keras.preprocessing.image_dataset_from_directory(\n",
    "        path,\n",
    "        batch_size=batch_size, \n",
    "        image_size=(img_height,img_width),\n",
    "        shuffle=True, seed=0\n",
    "    )\n",
    "    return data\n"
   ]
  },
  {
   "cell_type": "code",
   "execution_count": 5,
   "id": "advance-salvation",
   "metadata": {},
   "outputs": [
    {
     "name": "stdout",
     "output_type": "stream",
     "text": [
      "Found 804 files belonging to 5 classes.\n",
      "Found 201 files belonging to 5 classes.\n"
     ]
    }
   ],
   "source": [
    "train = load_data(paths[1])\n",
    "dev = load_data(paths[0])"
   ]
  },
  {
   "cell_type": "code",
   "execution_count": 6,
   "id": "transparent-gamma",
   "metadata": {},
   "outputs": [],
   "source": [
    "AUTOTUNE = tf.data.AUTOTUNE\n",
    "train = train.cache().shuffle(1000).prefetch(buffer_size=AUTOTUNE)\n",
    "dev = dev.cache().prefetch(buffer_size=AUTOTUNE)\n"
   ]
  },
  {
   "cell_type": "code",
   "execution_count": 7,
   "id": "olympic-snowboard",
   "metadata": {},
   "outputs": [],
   "source": [
    "num_classes = 5\n",
    "\n",
    "model = Sequential([\n",
    "  layers.experimental.preprocessing.Rescaling(1./255, input_shape=(img_height, img_width, 3)),\n",
    "  layers.Conv2D(16, 3, padding='same', activation='relu'),\n",
    "  layers.MaxPooling2D(),\n",
    "  layers.Conv2D(32, 3, padding='same', activation='relu'),\n",
    "  layers.MaxPooling2D(),\n",
    "  layers.Conv2D(64, 3, padding='same', activation='relu'),\n",
    "  layers.MaxPooling2D(),\n",
    "  layers.Flatten(),\n",
    "  layers.Dense(128, activation='relu'),\n",
    "  layers.Dense(num_classes)\n",
    "])\n"
   ]
  },
  {
   "cell_type": "code",
   "execution_count": 8,
   "id": "acute-arrangement",
   "metadata": {},
   "outputs": [],
   "source": [
    "model.compile(optimizer = 'adam',\n",
    "              loss = tf.keras.losses.SparseCategoricalCrossentropy(from_logits=True),\n",
    "              metrics = ['accuracy'])\n"
   ]
  },
  {
   "cell_type": "code",
   "execution_count": 9,
   "id": "stock-webcam",
   "metadata": {},
   "outputs": [
    {
     "name": "stdout",
     "output_type": "stream",
     "text": [
      "Model: \"sequential\"\n",
      "_________________________________________________________________\n",
      "Layer (type)                 Output Shape              Param #   \n",
      "=================================================================\n",
      "rescaling (Rescaling)        (None, 256, 256, 3)       0         \n",
      "_________________________________________________________________\n",
      "conv2d (Conv2D)              (None, 256, 256, 8)       224       \n",
      "_________________________________________________________________\n",
      "max_pooling2d (MaxPooling2D) (None, 128, 128, 8)       0         \n",
      "_________________________________________________________________\n",
      "conv2d_1 (Conv2D)            (None, 128, 128, 16)      1168      \n",
      "_________________________________________________________________\n",
      "max_pooling2d_1 (MaxPooling2 (None, 64, 64, 16)        0         \n",
      "_________________________________________________________________\n",
      "conv2d_2 (Conv2D)            (None, 64, 64, 32)        4640      \n",
      "_________________________________________________________________\n",
      "max_pooling2d_2 (MaxPooling2 (None, 32, 32, 32)        0         \n",
      "_________________________________________________________________\n",
      "flatten (Flatten)            (None, 32768)             0         \n",
      "_________________________________________________________________\n",
      "dense (Dense)                (None, 128)               4194432   \n",
      "_________________________________________________________________\n",
      "dense_1 (Dense)              (None, 5)                 645       \n",
      "=================================================================\n",
      "Total params: 4,201,109\n",
      "Trainable params: 4,201,109\n",
      "Non-trainable params: 0\n",
      "_________________________________________________________________\n"
     ]
    }
   ],
   "source": [
    "model.summary()\n"
   ]
  },
  {
   "cell_type": "code",
   "execution_count": 10,
   "id": "corresponding-deposit",
   "metadata": {},
   "outputs": [
    {
     "name": "stdout",
     "output_type": "stream",
     "text": [
      "Epoch 1/10\n",
      "26/26 [==============================] - 4s 78ms/step - loss: 1.8529 - accuracy: 0.2557 - val_loss: 1.3546 - val_accuracy: 0.4726\n",
      "Epoch 2/10\n",
      "26/26 [==============================] - 1s 47ms/step - loss: 1.3166 - accuracy: 0.4546 - val_loss: 1.1225 - val_accuracy: 0.5920\n",
      "Epoch 3/10\n",
      "26/26 [==============================] - 1s 47ms/step - loss: 1.0627 - accuracy: 0.6110 - val_loss: 0.6965 - val_accuracy: 0.8358\n",
      "Epoch 4/10\n",
      "26/26 [==============================] - 1s 48ms/step - loss: 0.7644 - accuracy: 0.7248 - val_loss: 0.4139 - val_accuracy: 0.9005\n",
      "Epoch 5/10\n",
      "26/26 [==============================] - 1s 47ms/step - loss: 0.3885 - accuracy: 0.8940 - val_loss: 0.2736 - val_accuracy: 0.9204\n",
      "Epoch 6/10\n",
      "26/26 [==============================] - 1s 47ms/step - loss: 0.2928 - accuracy: 0.9150 - val_loss: 0.1279 - val_accuracy: 0.9701\n",
      "Epoch 7/10\n",
      "26/26 [==============================] - 1s 48ms/step - loss: 0.1257 - accuracy: 0.9733 - val_loss: 0.0466 - val_accuracy: 0.9950\n",
      "Epoch 8/10\n",
      "26/26 [==============================] - 1s 47ms/step - loss: 0.1099 - accuracy: 0.9749 - val_loss: 0.0625 - val_accuracy: 0.9950\n",
      "Epoch 9/10\n",
      "26/26 [==============================] - 1s 48ms/step - loss: 0.0755 - accuracy: 0.9800 - val_loss: 0.0377 - val_accuracy: 0.9950\n",
      "Epoch 10/10\n",
      "26/26 [==============================] - 1s 48ms/step - loss: 0.1181 - accuracy: 0.9537 - val_loss: 0.0254 - val_accuracy: 1.0000\n"
     ]
    }
   ],
   "source": [
    "epochs = 10\n",
    "history = model.fit(\n",
    "    train,\n",
    "    validation_data = dev,epochs = epochs\n",
    ")"
   ]
  },
  {
   "cell_type": "code",
   "execution_count": 11,
   "id": "breeding-senegal",
   "metadata": {},
   "outputs": [],
   "source": [
    "acc = history.history['accuracy']\n",
    "dev_acc = history.history['val_accuracy']\n",
    "loss = history.history['loss']\n",
    "dev_loss = history.history['val_loss']\n",
    "epochs_range = range(epochs)\n"
   ]
  },
  {
   "cell_type": "code",
   "execution_count": 12,
   "id": "smoking-activity",
   "metadata": {},
   "outputs": [
    {
     "data": {
      "image/png": "[encoded data removed]",
      "text/plain": [
       "<Figure size 576x576 with 2 Axes>"
      ]
     },
     "metadata": {
      "needs_background": "light"
     },
     "output_type": "display_data"
    }
   ],
   "source": [
    "plt.figure(figsize=(8, 8))\n",
    "plt.subplot(1, 2, 1)\n",
    "plt.plot(epochs_range, acc, label='Training Accuracy')\n",
    "plt.plot(epochs_range, dev_acc, label='Validation Accuracy')\n",
    "plt.legend(loc='lower right')\n",
    "plt.title('Training and Validation Accuracy')\n",
    "\n",
    "plt.subplot(1, 2, 2)\n",
    "plt.plot(epochs_range, loss, label='Training Loss')\n",
    "plt.plot(epochs_range, dev_loss, label='Validation Loss')\n",
    "plt.legend(loc='upper right')\n",
    "plt.title('Training and Validation Loss')\n",
    "plt.show()\n"
   ]
  },
  {
   "cell_type": "code",
   "execution_count": null,
   "id": "ruled-signal",
   "metadata": {},
   "outputs": [],
   "source": [
    "\n",
    "\n"
   ]
  },
  {
   "cell_type": "code",
   "execution_count": null,
   "id": "encouraging-tuning",
   "metadata": {},
   "outputs": [],
   "source": []
  }
 ],
 "metadata": {
  "kernelspec": {
   "display_name": "Python 3",
   "language": "python",
   "name": "python3"
  },
  "language_info": {
   "codemirror_mode": {
    "name": "ipython",
    "version": 3
   },
   "file_extension": ".py",
   "mimetype": "text/x-python",
   "name": "python",
   "nbconvert_exporter": "python",
   "pygments_lexer": "ipython3",
   "version": "3.8.5"
  }
 },
 "nbformat": 4,
 "nbformat_minor": 5
}

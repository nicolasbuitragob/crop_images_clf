{
 "cells": [
  {
   "cell_type": "code",
   "execution_count": 1,
   "id": "running-burlington",
   "metadata": {},
   "outputs": [],
   "source": [
    "import os\n",
    "import numpy as np\n",
    "import zipfile\n",
    "import tensorflow as tf\n",
    "import matplotlib.pyplot as plt\n",
    "import pandas as pd\n",
    "from tensorflow import keras\n",
    "from tensorflow.keras import layers\n",
    "from tensorflow.keras.models import Sequential\n"
   ]
  },
  {
   "cell_type": "code",
   "execution_count": 2,
   "id": "chubby-deficit",
   "metadata": {},
   "outputs": [],
   "source": [
    "with zipfile.ZipFile('archive.zip','r') as f:\n",
    "    f.extractall('archive')"
   ]
  },
  {
   "cell_type": "code",
   "execution_count": 2,
   "id": "educational-albany",
   "metadata": {},
   "outputs": [],
   "source": [
    "crops = ['jute','maize','rice','sugarcane','wheat']\n",
    "path = 'archive/kag2'"
   ]
  },
  {
   "cell_type": "code",
   "execution_count": 3,
   "id": "operational-remainder",
   "metadata": {},
   "outputs": [],
   "source": [
    "img_height = 256 \n",
    "img_width = 256\n",
    "batch_size = 16\n",
    "def load_data(path,dataset):\n",
    "    data = tf.keras.preprocessing.image_dataset_from_directory(\n",
    "        path,\n",
    "        validation_split = 0.2,\n",
    "        subset = dataset,\n",
    "        batch_size=batch_size, \n",
    "        image_size=(img_height,img_width),\n",
    "        shuffle=True, seed=0\n",
    "    )\n",
    "    return data\n"
   ]
  },
  {
   "cell_type": "code",
   "execution_count": 4,
   "id": "every-shepherd",
   "metadata": {},
   "outputs": [
    {
     "name": "stdout",
     "output_type": "stream",
     "text": [
      "Found 854 files belonging to 5 classes.\n",
      "Using 684 files for training.\n"
     ]
    }
   ],
   "source": [
    "train = load_data(path,'training')\n",
    "\n",
    "class_names = train.class_names"
   ]
  },
  {
   "cell_type": "code",
   "execution_count": 5,
   "id": "built-puzzle",
   "metadata": {},
   "outputs": [
    {
     "name": "stdout",
     "output_type": "stream",
     "text": [
      "Found 854 files belonging to 5 classes.\n",
      "Using 170 files for validation.\n"
     ]
    }
   ],
   "source": [
    "dev = load_data(path,'validation')"
   ]
  },
  {
   "cell_type": "code",
   "execution_count": 6,
   "id": "careful-guide",
   "metadata": {},
   "outputs": [],
   "source": [
    "AUTOTUNE = tf.data.AUTOTUNE\n",
    "train = train.cache().shuffle(1000).prefetch(buffer_size=AUTOTUNE)\n",
    "dev = dev.cache().prefetch(buffer_size=AUTOTUNE)\n"
   ]
  },
  {
   "cell_type": "code",
   "execution_count": 9,
   "id": "incorporate-retailer",
   "metadata": {},
   "outputs": [],
   "source": [
    "num_classes = 5\n",
    "opt = tf.keras.optimizers.Adam(learning_rate=0.0001, beta_1=0.9, beta_2=0.999, epsilon=1e-07, amsgrad=False,\n",
    "    name='Adam')\n",
    "\n",
    "model = Sequential([\n",
    "  layers.experimental.preprocessing.Rescaling(1./255, input_shape=(img_height, img_width, 3)),\n",
    "  layers.Conv2D(16, 3, padding='same', activation='relu'),\n",
    "  layers.MaxPooling2D(),\n",
    "  layers.Conv2D(32, 3, padding='same', activation='relu'),\n",
    "  layers.MaxPooling2D(),\n",
    "  layers.Dropout(0.2),\n",
    "  layers.Flatten(),\n",
    "  layers.Dense(512, activation='relu'),\n",
    "  layers.Dense(128, activation='relu',\n",
    "               kernel_regularizer = tf.keras.regularizers.L2(0.1),\n",
    "               activity_regularizer = tf.keras.regularizers.L2(0.01)),\n",
    "  layers.Dense(num_classes,\n",
    "               kernel_regularizer = tf.keras.regularizers.L2(0.1),\n",
    "               activity_regularizer = tf.keras.regularizers.L2(0.01)),\n",
    "  \n",
    "])\n"
   ]
  },
  {
   "cell_type": "code",
   "execution_count": 10,
   "id": "expanded-wesley",
   "metadata": {},
   "outputs": [],
   "source": [
    "model.compile(optimizer = opt,\n",
    "              loss = tf.keras.losses.SparseCategoricalCrossentropy(from_logits=True),\n",
    "              metrics = ['accuracy'])\n"
   ]
  },
  {
   "cell_type": "code",
   "execution_count": 11,
   "id": "unlimited-pathology",
   "metadata": {},
   "outputs": [
    {
     "name": "stdout",
     "output_type": "stream",
     "text": [
      "Model: \"sequential\"\n",
      "_________________________________________________________________\n",
      "Layer (type)                 Output Shape              Param #   \n",
      "=================================================================\n",
      "rescaling_2 (Rescaling)      (None, 256, 256, 3)       0         \n",
      "_________________________________________________________________\n",
      "conv2d_4 (Conv2D)            (None, 256, 256, 16)      448       \n",
      "_________________________________________________________________\n",
      "max_pooling2d_4 (MaxPooling2 (None, 128, 128, 16)      0         \n",
      "_________________________________________________________________\n",
      "conv2d_5 (Conv2D)            (None, 128, 128, 32)      4640      \n",
      "_________________________________________________________________\n",
      "max_pooling2d_5 (MaxPooling2 (None, 64, 64, 32)        0         \n",
      "_________________________________________________________________\n",
      "dropout_2 (Dropout)          (None, 64, 64, 32)        0         \n",
      "_________________________________________________________________\n",
      "flatten_2 (Flatten)          (None, 131072)            0         \n",
      "_________________________________________________________________\n",
      "dense_2 (Dense)              (None, 512)               67109376  \n",
      "_________________________________________________________________\n",
      "dense_3 (Dense)              (None, 128)               65664     \n",
      "_________________________________________________________________\n",
      "dense_4 (Dense)              (None, 5)                 645       \n",
      "=================================================================\n",
      "Total params: 67,180,773\n",
      "Trainable params: 67,180,773\n",
      "Non-trainable params: 0\n",
      "_________________________________________________________________\n"
     ]
    }
   ],
   "source": [
    "model.summary()\n"
   ]
  },
  {
   "cell_type": "code",
   "execution_count": 22,
   "id": "smaller-personal",
   "metadata": {},
   "outputs": [
    {
     "name": "stdout",
     "output_type": "stream",
     "text": [
      "Epoch 1/30\n",
      "43/43 [==============================] - 3s 69ms/step - loss: 1.1806 - accuracy: 1.0000 - val_loss: 1.3965 - val_accuracy: 0.9000\n",
      "Epoch 2/30\n",
      "43/43 [==============================] - 3s 69ms/step - loss: 1.1314 - accuracy: 1.0000 - val_loss: 1.3467 - val_accuracy: 0.8941\n",
      "Epoch 3/30\n",
      "43/43 [==============================] - 3s 69ms/step - loss: 1.0877 - accuracy: 1.0000 - val_loss: 1.3033 - val_accuracy: 0.9118\n",
      "Epoch 4/30\n",
      "43/43 [==============================] - 3s 69ms/step - loss: 1.0500 - accuracy: 1.0000 - val_loss: 1.2680 - val_accuracy: 0.9000\n",
      "Epoch 5/30\n",
      "43/43 [==============================] - 3s 68ms/step - loss: 1.0162 - accuracy: 1.0000 - val_loss: 1.2395 - val_accuracy: 0.8882\n",
      "Epoch 6/30\n",
      "43/43 [==============================] - 3s 69ms/step - loss: 0.9867 - accuracy: 1.0000 - val_loss: 1.2122 - val_accuracy: 0.8882\n",
      "Epoch 7/30\n",
      "43/43 [==============================] - 3s 69ms/step - loss: 0.9593 - accuracy: 1.0000 - val_loss: 1.1887 - val_accuracy: 0.8941\n",
      "Epoch 8/30\n",
      "43/43 [==============================] - 3s 69ms/step - loss: 0.9337 - accuracy: 1.0000 - val_loss: 1.1605 - val_accuracy: 0.9000\n",
      "Epoch 9/30\n",
      "43/43 [==============================] - 3s 69ms/step - loss: 0.9121 - accuracy: 1.0000 - val_loss: 1.1402 - val_accuracy: 0.8882\n",
      "Epoch 10/30\n",
      "43/43 [==============================] - 3s 69ms/step - loss: 0.8923 - accuracy: 1.0000 - val_loss: 1.1187 - val_accuracy: 0.8941\n",
      "Epoch 11/30\n",
      "43/43 [==============================] - 3s 69ms/step - loss: 0.8748 - accuracy: 1.0000 - val_loss: 1.1063 - val_accuracy: 0.8882\n",
      "Epoch 12/30\n",
      "43/43 [==============================] - 3s 69ms/step - loss: 0.8581 - accuracy: 1.0000 - val_loss: 1.0889 - val_accuracy: 0.9000\n",
      "Epoch 13/30\n",
      "43/43 [==============================] - 3s 69ms/step - loss: 0.8439 - accuracy: 1.0000 - val_loss: 1.0800 - val_accuracy: 0.8941\n",
      "Epoch 14/30\n",
      "43/43 [==============================] - 3s 70ms/step - loss: 0.8302 - accuracy: 1.0000 - val_loss: 1.0639 - val_accuracy: 0.8882\n",
      "Epoch 15/30\n",
      "43/43 [==============================] - 3s 69ms/step - loss: 0.8179 - accuracy: 1.0000 - val_loss: 1.0565 - val_accuracy: 0.8941\n",
      "Epoch 16/30\n",
      "43/43 [==============================] - 3s 69ms/step - loss: 0.8068 - accuracy: 1.0000 - val_loss: 1.0383 - val_accuracy: 0.8941\n",
      "Epoch 17/30\n",
      "43/43 [==============================] - 3s 69ms/step - loss: 0.7961 - accuracy: 1.0000 - val_loss: 1.0290 - val_accuracy: 0.8882\n",
      "Epoch 18/30\n",
      "43/43 [==============================] - 3s 69ms/step - loss: 0.7854 - accuracy: 1.0000 - val_loss: 1.0229 - val_accuracy: 0.9000\n",
      "Epoch 19/30\n",
      "43/43 [==============================] - 3s 70ms/step - loss: 0.7767 - accuracy: 1.0000 - val_loss: 1.0163 - val_accuracy: 0.8941\n",
      "Epoch 20/30\n",
      "43/43 [==============================] - 3s 70ms/step - loss: 0.7685 - accuracy: 1.0000 - val_loss: 1.0055 - val_accuracy: 0.9000\n",
      "Epoch 21/30\n",
      "43/43 [==============================] - 3s 69ms/step - loss: 0.7595 - accuracy: 1.0000 - val_loss: 0.9960 - val_accuracy: 0.9000\n",
      "Epoch 22/30\n",
      "43/43 [==============================] - 3s 69ms/step - loss: 0.7523 - accuracy: 1.0000 - val_loss: 0.9906 - val_accuracy: 0.9059\n",
      "Epoch 23/30\n",
      "43/43 [==============================] - 3s 70ms/step - loss: 0.7461 - accuracy: 1.0000 - val_loss: 0.9811 - val_accuracy: 0.8941\n",
      "Epoch 24/30\n",
      "43/43 [==============================] - 3s 70ms/step - loss: 0.7404 - accuracy: 1.0000 - val_loss: 0.9808 - val_accuracy: 0.8824\n",
      "Epoch 25/30\n",
      "43/43 [==============================] - 3s 70ms/step - loss: 0.7352 - accuracy: 1.0000 - val_loss: 0.9707 - val_accuracy: 0.9059\n",
      "Epoch 26/30\n",
      "43/43 [==============================] - 3s 70ms/step - loss: 0.7286 - accuracy: 1.0000 - val_loss: 0.9676 - val_accuracy: 0.9000\n",
      "Epoch 27/30\n",
      "43/43 [==============================] - 3s 70ms/step - loss: 0.7226 - accuracy: 1.0000 - val_loss: 0.9591 - val_accuracy: 0.8941\n",
      "Epoch 28/30\n",
      "43/43 [==============================] - 3s 70ms/step - loss: 0.7186 - accuracy: 1.0000 - val_loss: 0.9538 - val_accuracy: 0.8941\n",
      "Epoch 29/30\n",
      "43/43 [==============================] - 3s 69ms/step - loss: 0.7150 - accuracy: 1.0000 - val_loss: 0.9511 - val_accuracy: 0.8941\n",
      "Epoch 30/30\n",
      "43/43 [==============================] - 3s 69ms/step - loss: 0.7093 - accuracy: 1.0000 - val_loss: 0.9494 - val_accuracy: 0.8882\n"
     ]
    }
   ],
   "source": [
    "epochs = 30\n",
    "history = model.fit(\n",
    "    train,\n",
    "    validation_data = dev,\n",
    "    epochs = epochs\n",
    ")"
   ]
  },
  {
   "cell_type": "code",
   "execution_count": 23,
   "id": "specific-geometry",
   "metadata": {},
   "outputs": [],
   "source": [
    "acc = history.history['accuracy']\n",
    "dev_acc = history.history['val_accuracy']\n",
    "loss = history.history['loss']\n",
    "dev_loss = history.history['val_loss']\n",
    "epochs_range = range(epochs)\n"
   ]
  },
  {
   "cell_type": "code",
   "execution_count": 24,
   "id": "polar-funds",
   "metadata": {},
   "outputs": [
    {
     "data": {
      "image/png": "[encoded data removed]",
      "text/plain": [
       "<Figure size 576x576 with 2 Axes>"
      ]
     },
     "metadata": {
      "needs_background": "light"
     },
     "output_type": "display_data"
    }
   ],
   "source": [
    "plt.figure(figsize=(8, 8))\n",
    "plt.subplot(1, 2, 1)\n",
    "plt.plot(epochs_range, acc, label='Training Accuracy')\n",
    "plt.plot(epochs_range, dev_acc, label='Validation Accuracy')\n",
    "plt.legend(loc='lower right')\n",
    "plt.title('Training and Validation Accuracy')\n",
    "\n",
    "plt.subplot(1, 2, 2)\n",
    "plt.plot(epochs_range, loss, label='Training Loss')\n",
    "plt.plot(epochs_range, dev_loss, label='Validation Loss')\n",
    "plt.legend(loc='upper right')\n",
    "plt.title('Training and Validation Loss')\n",
    "plt.show()\n"
   ]
  },
  {
   "cell_type": "code",
   "execution_count": 25,
   "id": "buried-analyst",
   "metadata": {},
   "outputs": [],
   "source": [
    "label_class = {}\n",
    "for i,label in enumerate(class_names):\n",
    "    label_class[label] = i"
   ]
  },
  {
   "cell_type": "code",
   "execution_count": 26,
   "id": "under-character",
   "metadata": {},
   "outputs": [],
   "source": [
    "def test_model(image_path):\n",
    "    img = tf.keras.preprocessing.image.load_img(\n",
    "            image_path,\n",
    "            target_size = (img_height,img_width)\n",
    "    )\n",
    "    img_array = keras.preprocessing.image.img_to_array(img)\n",
    "    img_tensor = tf.expand_dims(img_array, 0)\n",
    "    pred = model.predict(img_tensor)\n",
    "    score = tf.nn.softmax(pred)\n",
    "    class_name = class_names[np.argmax(score)]\n",
    "    confidence = 100*np.max(score)\n",
    "    pred_label = label_class[class_name]\n",
    "    return class_name,confidence,pred_label"
   ]
  },
  {
   "cell_type": "code",
   "execution_count": 27,
   "id": "rising-swaziland",
   "metadata": {},
   "outputs": [],
   "source": [
    "test_data = pd.read_csv('archive_test/testdata.csv').iloc[:,1:]"
   ]
  },
  {
   "cell_type": "code",
   "execution_count": 28,
   "id": "hollywood-royal",
   "metadata": {},
   "outputs": [],
   "source": [
    "path_kaggle = '/kaggle/input/testssss/test_crop_image/'\n",
    "path_test_data = []\n",
    "for i in test_data['testpath']:\n",
    "    path_test_data.append(os.path.relpath(i,path_kaggle))\n",
    "test_data['image'] = path_test_data"
   ]
  },
  {
   "cell_type": "code",
   "execution_count": 29,
   "id": "younger-burke",
   "metadata": {},
   "outputs": [],
   "source": [
    "with zipfile.ZipFile('archive_test.zip','r') as f_t:\n",
    "    f_t.extractall('archive_test')\n",
    "path_test = 'archive_test/test_crop_image'"
   ]
  },
  {
   "cell_type": "code",
   "execution_count": 30,
   "id": "valued-theme",
   "metadata": {},
   "outputs": [],
   "source": [
    "test_list = []\n",
    "for test_file in path_test_data:\n",
    "    class_name,percentage,label = test_model(os.path.join(path_test,test_file))\n",
    "    test_list.append(label)"
   ]
  },
  {
   "cell_type": "code",
   "execution_count": 31,
   "id": "stopped-waterproof",
   "metadata": {},
   "outputs": [
    {
     "data": {
      "text/plain": [
       "52.94117647058824"
      ]
     },
     "execution_count": 31,
     "metadata": {},
     "output_type": "execute_result"
    }
   ],
   "source": [
    "test_data['pred'] = test_list\n",
    "y_true = test_data['croplabel']\n",
    "y_pred = test_data['pred']\n",
    "from sklearn.metrics import accuracy_score\n",
    "acc = accuracy_score(y_true,y_pred)\n",
    "acc*100"
   ]
  },
  {
   "cell_type": "code",
   "execution_count": null,
   "id": "regulation-breast",
   "metadata": {},
   "outputs": [],
   "source": []
  },
  {
   "cell_type": "code",
   "execution_count": null,
   "id": "breathing-murder",
   "metadata": {},
   "outputs": [],
   "source": []
  },
  {
   "cell_type": "code",
   "execution_count": null,
   "id": "qualified-coating",
   "metadata": {},
   "outputs": [],
   "source": []
  },
  {
   "cell_type": "code",
   "execution_count": null,
   "id": "valuable-locking",
   "metadata": {},
   "outputs": [],
   "source": []
  },
  {
   "cell_type": "code",
   "execution_count": null,
   "id": "legal-willow",
   "metadata": {},
   "outputs": [],
   "source": []
  },
  {
   "cell_type": "code",
   "execution_count": null,
   "id": "hazardous-shakespeare",
   "metadata": {},
   "outputs": [],
   "source": []
  }
 ],
 "metadata": {
  "kernelspec": {
   "display_name": "Python 3",
   "language": "python",
   "name": "python3"
  },
  "language_info": {
   "codemirror_mode": {
    "name": "ipython",
    "version": 3
   },
   "file_extension": ".py",
   "mimetype": "text/x-python",
   "name": "python",
   "nbconvert_exporter": "python",
   "pygments_lexer": "ipython3",
   "version": "3.8.5"
  }
 },
 "nbformat": 4,
 "nbformat_minor": 5
}

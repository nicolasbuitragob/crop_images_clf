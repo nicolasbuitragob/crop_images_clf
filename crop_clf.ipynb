{
 "cells": [
  {
   "cell_type": "code",
   "execution_count": 1,
   "id": "medium-turkey",
   "metadata": {},
   "outputs": [],
   "source": [
    "import os\n",
    "import numpy as np\n",
    "import zipfile\n",
    "import tensorflow as tf\n",
    "import matplotlib.pyplot as plt\n",
    "import pandas as pd"
   ]
  },
  {
   "cell_type": "code",
   "execution_count": 2,
   "id": "graphic-slope",
   "metadata": {},
   "outputs": [],
   "source": [
    "with zipfile.ZipFile('archive.zip','r') as f:\n",
    "    f.extractall('archive')"
   ]
  },
  {
   "cell_type": "code",
   "execution_count": 3,
   "id": "stock-brook",
   "metadata": {},
   "outputs": [],
   "source": [
    "crops = ['jute','maize','rice','sugarcane','wheat']\n",
    "paths = ['archive/crop_images','archive/kag2']"
   ]
  },
  {
   "cell_type": "code",
   "execution_count": 4,
   "id": "crucial-distinction",
   "metadata": {},
   "outputs": [],
   "source": [
    "crop_to_label = {}\n",
    "for i, crop in enumerate(crops):\n",
    "    crop_to_label[crop] = i+1"
   ]
  },
  {
   "cell_type": "code",
   "execution_count": null,
   "id": "false-measure",
   "metadata": {},
   "outputs": [],
   "source": []
  },
  {
   "cell_type": "code",
   "execution_count": 5,
   "id": "reliable-yukon",
   "metadata": {},
   "outputs": [],
   "source": [
    "def get_image_path():\n",
    "    path_folder = []\n",
    "    data = []\n",
    "    for path in paths:\n",
    "        for crop in crops:\n",
    "            path_folder = os.path.join(path,crop)\n",
    "            for image in os.listdir(path_folder):\n",
    "                    data.append([os.path.join(path_folder,image),crop])\n",
    "    return pd.DataFrame(data,columns=['image','label'])"
   ]
  },
  {
   "cell_type": "code",
   "execution_count": 6,
   "id": "hispanic-hudson",
   "metadata": {},
   "outputs": [],
   "source": [
    "data = get_image_path()"
   ]
  },
  {
   "cell_type": "code",
   "execution_count": null,
   "id": "frank-occupation",
   "metadata": {},
   "outputs": [],
   "source": []
  },
  {
   "cell_type": "code",
   "execution_count": null,
   "id": "pharmaceutical-hunger",
   "metadata": {},
   "outputs": [],
   "source": []
  },
  {
   "cell_type": "code",
   "execution_count": null,
   "id": "contrary-keyboard",
   "metadata": {},
   "outputs": [],
   "source": []
  }
 ],
 "metadata": {
  "kernelspec": {
   "display_name": "Python 3",
   "language": "python",
   "name": "python3"
  },
  "language_info": {
   "codemirror_mode": {
    "name": "ipython",
    "version": 3
   },
   "file_extension": ".py",
   "mimetype": "text/x-python",
   "name": "python",
   "nbconvert_exporter": "python",
   "pygments_lexer": "ipython3",
   "version": "3.8.5"
  }
 },
 "nbformat": 4,
 "nbformat_minor": 5
}

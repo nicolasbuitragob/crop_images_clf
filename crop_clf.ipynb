{
 "cells": [
  {
   "cell_type": "code",
   "execution_count": 1,
   "id": "registered-tuning",
   "metadata": {},
   "outputs": [],
   "source": [
    "import os\n",
    "import numpy as np\n",
    "import zipfile\n",
    "import tensorflow as tf\n",
    "import matplotlib.pyplot as plt\n",
    "import pandas as pd\n",
    "from tensorflow import keras\n",
    "from tensorflow.keras import layers\n",
    "from tensorflow.keras.models import Sequential\n",
    "from sklearn.metrics import accuracy_score"
   ]
  },
  {
   "cell_type": "code",
   "execution_count": 2,
   "id": "invalid-mobile",
   "metadata": {},
   "outputs": [],
   "source": [
    "with zipfile.ZipFile('archive.zip','r') as f:\n",
    "    f.extractall('archive')"
   ]
  },
  {
   "cell_type": "code",
   "execution_count": 3,
   "id": "fifth-fence",
   "metadata": {},
   "outputs": [],
   "source": [
    "crops = ['jute','maize','rice','sugarcane','wheat']\n",
    "path = 'archive/kag2'\n",
    "test_path = 'archive_test/test_crop_image'"
   ]
  },
  {
   "cell_type": "code",
   "execution_count": 4,
   "id": "foster-oregon",
   "metadata": {},
   "outputs": [],
   "source": [
    "img_height = 256 \n",
    "img_width = 256\n",
    "batch_size = 16\n",
    "num_classes = 5\n",
    "\n",
    "def load_data(path,dataset):\n",
    "    data = tf.keras.preprocessing.image_dataset_from_directory(\n",
    "        path,\n",
    "        validation_split = 0.2,\n",
    "        subset = dataset,\n",
    "        batch_size=batch_size, \n",
    "        image_size=(img_height,img_width),\n",
    "        shuffle=True, seed=0\n",
    "    )\n",
    "    return data\n"
   ]
  },
  {
   "cell_type": "code",
   "execution_count": 5,
   "id": "upset-screen",
   "metadata": {},
   "outputs": [
    {
     "name": "stdout",
     "output_type": "stream",
     "text": [
      "Found 854 files belonging to 5 classes.\n",
      "Using 684 files for training.\n"
     ]
    }
   ],
   "source": [
    "train = load_data(path,'training')\n",
    "\n"
   ]
  },
  {
   "cell_type": "code",
   "execution_count": 6,
   "id": "integral-delicious",
   "metadata": {},
   "outputs": [
    {
     "name": "stdout",
     "output_type": "stream",
     "text": [
      "Found 854 files belonging to 5 classes.\n",
      "Using 170 files for validation.\n"
     ]
    }
   ],
   "source": [
    "dev = load_data(path,'validation')"
   ]
  },
  {
   "cell_type": "code",
   "execution_count": 7,
   "id": "institutional-chemical",
   "metadata": {},
   "outputs": [
    {
     "data": {
      "text/plain": [
       "['jute', 'maize', 'rice', 'sugarcane', 'wheat']"
      ]
     },
     "execution_count": 7,
     "metadata": {},
     "output_type": "execute_result"
    }
   ],
   "source": [
    "class_names = train.class_names\n",
    "class_names"
   ]
  },
  {
   "cell_type": "code",
   "execution_count": 8,
   "id": "multiple-profile",
   "metadata": {},
   "outputs": [],
   "source": [
    "label_class = {}\n",
    "for i,label in enumerate(class_names):\n",
    "    label_class[label] = i"
   ]
  },
  {
   "cell_type": "code",
   "execution_count": 9,
   "id": "available-explanation",
   "metadata": {},
   "outputs": [],
   "source": [
    "AUTOTUNE = tf.data.AUTOTUNE\n",
    "train = train.cache().shuffle(1000).prefetch(buffer_size=AUTOTUNE)\n",
    "dev = dev.cache().prefetch(buffer_size=AUTOTUNE)\n"
   ]
  },
  {
   "cell_type": "code",
   "execution_count": 10,
   "id": "understanding-distribution",
   "metadata": {},
   "outputs": [],
   "source": [
    "opt = tf.keras.optimizers.Adam(learning_rate=0.0001, beta_1=0.9, beta_2=0.999, epsilon=1e-07, amsgrad=False,\n",
    "    name='Adam')\n",
    "model = Sequential([\n",
    "  layers.experimental.preprocessing.Rescaling(1./255, input_shape=(img_height, img_width, 3)),\n",
    "  layers.Conv2D(16, 3, padding='same', activation='relu'),\n",
    "  layers.MaxPooling2D(),\n",
    "  layers.Conv2D(32, 3, padding='same', activation='relu'),\n",
    "  layers.MaxPooling2D(),\n",
    "  layers.Dropout(0.2),\n",
    "  layers.Flatten(),\n",
    "  layers.Dense(512, activation='relu'),\n",
    "  layers.Dense(128, activation='relu',\n",
    "               kernel_regularizer = tf.keras.regularizers.L2(0.1),\n",
    "               activity_regularizer = tf.keras.regularizers.L2(0.01)),\n",
    "  layers.Dense(num_classes,\n",
    "               kernel_regularizer = tf.keras.regularizers.L2(0.1),\n",
    "               activity_regularizer = tf.keras.regularizers.L2(0.01)),\n",
    "  \n",
    "])\n"
   ]
  },
  {
   "cell_type": "code",
   "execution_count": 11,
   "id": "provincial-trailer",
   "metadata": {},
   "outputs": [],
   "source": [
    "def train_model(model,opt,epochs):\n",
    "    model.compile(optimizer = opt,\n",
    "                  loss = tf.keras.losses.SparseCategoricalCrossentropy(from_logits=True),\n",
    "                  metrics = ['accuracy'])\n",
    "    #model.summary()\n",
    "    history = model.fit(\n",
    "        train,\n",
    "        validation_data = dev,\n",
    "        epochs = epochs\n",
    "    )\n",
    "    return history"
   ]
  },
  {
   "cell_type": "code",
   "execution_count": 12,
   "id": "robust-projector",
   "metadata": {},
   "outputs": [],
   "source": [
    "def plot_curves(history,epochs):\n",
    "    acc = history.history['accuracy']\n",
    "    dev_acc = history.history['val_accuracy']\n",
    "    loss = history.history['loss']\n",
    "    dev_loss = history.history['val_loss']\n",
    "    epochs_range = range(epochs)\n",
    "    plt.figure(figsize=(8, 8))\n",
    "    plt.subplot(1, 2, 1)\n",
    "    plt.plot(epochs_range, acc, label='Training Accuracy')\n",
    "    plt.plot(epochs_range, dev_acc, label='Validation Accuracy')\n",
    "    plt.legend(loc='lower right')\n",
    "    plt.title('Training and Validation Accuracy')\n",
    "\n",
    "    plt.subplot(1, 2, 2)\n",
    "    plt.plot(epochs_range, loss, label='Training Loss')\n",
    "    plt.plot(epochs_range, dev_loss, label='Validation Loss')\n",
    "    plt.legend(loc='upper right')\n",
    "    plt.title('Training and Validation Loss')\n",
    "    plt.show()"
   ]
  },
  {
   "cell_type": "code",
   "execution_count": 13,
   "id": "outside-holocaust",
   "metadata": {},
   "outputs": [],
   "source": [
    "def load_test_data():\n",
    "    with zipfile.ZipFile('archive_test.zip','r') as f_t:\n",
    "        f_t.extractall('archive_test')\n",
    "    test_data = pd.read_csv('archive_test/testdata.csv').iloc[:,1:]\n",
    "    path_kaggle = '/kaggle/input/testssss/test_crop_image/'\n",
    "    path_test_data = []\n",
    "    for i in test_data['testpath']:\n",
    "        path_test_data.append(os.path.relpath(i,path_kaggle))\n",
    "    test_data['image'] = path_test_data\n",
    "    return path_test_data,test_data"
   ]
  },
  {
   "cell_type": "code",
   "execution_count": 14,
   "id": "stretch-error",
   "metadata": {},
   "outputs": [],
   "source": [
    "def test_model(image_path,model):\n",
    "    img = tf.keras.preprocessing.image.load_img(\n",
    "            image_path,\n",
    "            target_size = (img_height,img_width)\n",
    "    )\n",
    "    img_array = keras.preprocessing.image.img_to_array(img)\n",
    "    img_tensor = tf.expand_dims(img_array, 0)\n",
    "    pred = model.predict(img_tensor)\n",
    "    score = tf.nn.softmax(pred)\n",
    "    class_name = class_names[np.argmax(score)]\n",
    "    confidence = 100*np.max(score)\n",
    "    pred_label = label_class[class_name]\n",
    "    return class_name,confidence,pred_label"
   ]
  },
  {
   "cell_type": "code",
   "execution_count": 15,
   "id": "conceptual-sociology",
   "metadata": {},
   "outputs": [],
   "source": [
    "def acc_score(path_test_data,test_data):  \n",
    "    test_list = []\n",
    "    for test_file in path_test_data:\n",
    "        class_name,percentage,label = test_model(os.path.join(test_path,test_file),model)\n",
    "        test_list.append(label)\n",
    "    test_data['pred'] = test_list\n",
    "    y_true = test_data['croplabel']\n",
    "    y_pred = test_data['pred']    \n",
    "    acc = accuracy_score(y_true,y_pred)\n",
    "    return acc*100"
   ]
  },
  {
   "cell_type": "code",
   "execution_count": 18,
   "id": "through-flower",
   "metadata": {},
   "outputs": [],
   "source": [
    "def pipeline(epochs,model):\n",
    "    history = train_model(model,opt,epochs)\n",
    "    plot_curves(history,epochs)\n",
    "    path_test_data,test_data = load_test_data()\n",
    "    acc = acc_score(path_test_data,test_data)\n",
    "    return print('Accuracy score in the test set: ',acc)"
   ]
  },
  {
   "cell_type": "code",
   "execution_count": 19,
   "id": "mounted-landing",
   "metadata": {},
   "outputs": [
    {
     "name": "stdout",
     "output_type": "stream",
     "text": [
      "Epoch 1/2\n",
      "43/43 [==============================] - 3s 67ms/step - loss: 17.7766 - accuracy: 0.5631 - val_loss: 16.2597 - val_accuracy: 0.6471\n",
      "Epoch 2/2\n",
      "43/43 [==============================] - 3s 64ms/step - loss: 15.7748 - accuracy: 0.6273 - val_loss: 14.4539 - val_accuracy: 0.6824\n"
     ]
    },
    {
     "data": {
      "image/png": "[encoded data removed]",
      "text/plain": [
       "<Figure size 576x576 with 2 Axes>"
      ]
     },
     "metadata": {
      "needs_background": "light"
     },
     "output_type": "display_data"
    },
    {
     "name": "stdout",
     "output_type": "stream",
     "text": [
      "Accuracy score in the test set:  54.90196078431373\n"
     ]
    }
   ],
   "source": [
    "epochs = 2 \n",
    "pipeline(epochs,model)"
   ]
  },
  {
   "cell_type": "code",
   "execution_count": null,
   "id": "elegant-marijuana",
   "metadata": {},
   "outputs": [],
   "source": []
  },
  {
   "cell_type": "code",
   "execution_count": null,
   "id": "selective-harrison",
   "metadata": {},
   "outputs": [],
   "source": []
  },
  {
   "cell_type": "code",
   "execution_count": null,
   "id": "burning-department",
   "metadata": {},
   "outputs": [],
   "source": []
  },
  {
   "cell_type": "markdown",
   "id": "normal-hydrogen",
   "metadata": {},
   "source": [
    "### Data Augmentation"
   ]
  },
  {
   "cell_type": "code",
   "execution_count": 54,
   "id": "analyzed-planning",
   "metadata": {},
   "outputs": [],
   "source": [
    "data_augmentation = tf.keras.Sequential([\n",
    "    layers.experimental.preprocessing.RandomRotation(0.3)\n",
    "])"
   ]
  },
  {
   "cell_type": "code",
   "execution_count": 60,
   "id": "conventional-arena",
   "metadata": {},
   "outputs": [],
   "source": [
    "model_ag_data = tf.keras.Sequential([\n",
    "    data_augmentation,\n",
    "    layers.experimental.preprocessing.Rescaling(1./255, input_shape=(img_height, img_width, 3)),\n",
    "    layers.Conv2D(16, 3, padding='same', activation='relu'),\n",
    "    layers.MaxPooling2D(),\n",
    "    layers.Conv2D(32, 3, padding='same', activation='relu'),\n",
    "    layers.MaxPooling2D(),\n",
    "    layers.Dropout(0.2),\n",
    "    layers.Flatten(),\n",
    "    layers.Dense(512, activation='relu'),\n",
    "    layers.Dense(128, activation='relu'),\n",
    "    layers.Dense(num_classes),\n",
    "    \n",
    "])\n"
   ]
  },
  {
   "cell_type": "code",
   "execution_count": 61,
   "id": "fundamental-facility",
   "metadata": {},
   "outputs": [],
   "source": [
    "model_ag_data.compile(optimizer = 'adam',\n",
    "              loss = tf.keras.losses.SparseCategoricalCrossentropy(from_logits=True),\n",
    "              metrics = ['accuracy'])"
   ]
  },
  {
   "cell_type": "code",
   "execution_count": 64,
   "id": "alone-fancy",
   "metadata": {},
   "outputs": [
    {
     "name": "stdout",
     "output_type": "stream",
     "text": [
      "Epoch 1/5\n",
      "43/43 [==============================] - 3s 66ms/step - loss: 1.0668 - accuracy: 0.5863 - val_loss: 1.1274 - val_accuracy: 0.5706\n",
      "Epoch 2/5\n",
      "43/43 [==============================] - 3s 66ms/step - loss: 1.0200 - accuracy: 0.6053 - val_loss: 1.0547 - val_accuracy: 0.6471\n",
      "Epoch 3/5\n",
      "43/43 [==============================] - 3s 67ms/step - loss: 0.9550 - accuracy: 0.6155 - val_loss: 0.9790 - val_accuracy: 0.6471\n",
      "Epoch 4/5\n",
      "43/43 [==============================] - 3s 67ms/step - loss: 0.9397 - accuracy: 0.6404 - val_loss: 1.0161 - val_accuracy: 0.6059\n",
      "Epoch 5/5\n",
      "43/43 [==============================] - 3s 67ms/step - loss: 0.8799 - accuracy: 0.6535 - val_loss: 1.0466 - val_accuracy: 0.6176\n"
     ]
    }
   ],
   "source": [
    "epochs = 5\n",
    "history_augmented = model_ag_data.fit(\n",
    "    train,\n",
    "    validation_data = dev,\n",
    "    epochs = epochs\n",
    ")"
   ]
  },
  {
   "cell_type": "code",
   "execution_count": null,
   "id": "monetary-aruba",
   "metadata": {},
   "outputs": [],
   "source": []
  },
  {
   "cell_type": "code",
   "execution_count": null,
   "id": "beneficial-first",
   "metadata": {},
   "outputs": [],
   "source": []
  }
 ],
 "metadata": {
  "kernelspec": {
   "display_name": "Python 3",
   "language": "python",
   "name": "python3"
  },
  "language_info": {
   "codemirror_mode": {
    "name": "ipython",
    "version": 3
   },
   "file_extension": ".py",
   "mimetype": "text/x-python",
   "name": "python",
   "nbconvert_exporter": "python",
   "pygments_lexer": "ipython3",
   "version": "3.8.5"
  }
 },
 "nbformat": 4,
 "nbformat_minor": 5
}

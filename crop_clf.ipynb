{
 "cells": [
  {
   "cell_type": "code",
   "execution_count": 1,
   "id": "breeding-intake",
   "metadata": {},
   "outputs": [],
   "source": [
    "import os\n",
    "import numpy as np\n",
    "import zipfile\n",
    "import tensorflow as tf\n",
    "import matplotlib.pyplot as plt\n",
    "import pandas as pd\n",
    "from tensorflow import keras\n",
    "from tensorflow.keras import layers\n",
    "from tensorflow.keras.models import Sequential\n",
    "from sklearn.metrics import accuracy_score"
   ]
  },
  {
   "cell_type": "code",
   "execution_count": 2,
   "id": "determined-adoption",
   "metadata": {},
   "outputs": [],
   "source": [
    "#Extract data\n",
    "with zipfile.ZipFile('archive.zip','r') as f:\n",
    "    f.extractall('archive')\n",
    "with zipfile.ZipFile('archive_test.zip','r') as f_t:\n",
    "        f_t.extractall('archive_test')\n",
    "    "
   ]
  },
  {
   "cell_type": "code",
   "execution_count": 2,
   "id": "floral-algeria",
   "metadata": {},
   "outputs": [],
   "source": [
    "crops = ['jute','maize','rice','sugarcane','wheat']\n",
    "path = 'archive/kag2' #Path to training data\n",
    "test_path = 'archive_test/test_crop_image' #Path to test data"
   ]
  },
  {
   "cell_type": "markdown",
   "id": "german-combat",
   "metadata": {},
   "source": [
    "#### Load Data\n",
    "Data is loaded using tensorflow keras: 'preprocessing.image_dataset_from_directory' class since the training examples are divided by directories.\n",
    "\n",
    "Data is split into 80/20 ratio for traning and validation set\n",
    "\n",
    "Data is downloaded from [Kaggle](https://www.kaggle.com/aman2000jaiswal/agriculture-crop-images). 'Agriculture crop images'\n"
   ]
  },
  {
   "cell_type": "code",
   "execution_count": 3,
   "id": "quiet-belfast",
   "metadata": {},
   "outputs": [],
   "source": [
    "img_height = 256 \n",
    "img_width = 256\n",
    "batch_size = 16\n",
    "num_classes = 5\n",
    "\n",
    "def load_data(path,dataset):\n",
    "    data = tf.keras.preprocessing.image_dataset_from_directory(\n",
    "        path,\n",
    "        validation_split = 0.2,\n",
    "        subset = dataset,\n",
    "        batch_size=batch_size, \n",
    "        image_size=(img_height,img_width),\n",
    "        shuffle=True, seed=0\n",
    "    )\n",
    "    return data\n"
   ]
  },
  {
   "cell_type": "code",
   "execution_count": 4,
   "id": "fifty-keeping",
   "metadata": {},
   "outputs": [
    {
     "name": "stdout",
     "output_type": "stream",
     "text": [
      "Found 854 files belonging to 5 classes.\n",
      "Using 684 files for training.\n"
     ]
    }
   ],
   "source": [
    "#Load train data\n",
    "train = load_data(path,'training')"
   ]
  },
  {
   "cell_type": "code",
   "execution_count": 5,
   "id": "hydraulic-touch",
   "metadata": {},
   "outputs": [
    {
     "name": "stdout",
     "output_type": "stream",
     "text": [
      "Found 854 files belonging to 5 classes.\n",
      "Using 170 files for validation.\n"
     ]
    }
   ],
   "source": [
    "#Load validation data\n",
    "dev = load_data(path,'validation')"
   ]
  },
  {
   "cell_type": "code",
   "execution_count": 6,
   "id": "periodic-tradition",
   "metadata": {},
   "outputs": [
    {
     "data": {
      "text/plain": [
       "['jute', 'maize', 'rice', 'sugarcane', 'wheat']"
      ]
     },
     "execution_count": 6,
     "metadata": {},
     "output_type": "execute_result"
    }
   ],
   "source": [
    "#'tf.keras.preprocessing.image_dataset_from_directory' makes a class from each directory in the main folder \n",
    "class_names = train.class_names\n",
    "class_names"
   ]
  },
  {
   "cell_type": "code",
   "execution_count": 7,
   "id": "colored-pendant",
   "metadata": {},
   "outputs": [
    {
     "data": {
      "text/plain": [
       "{'jute': 0, 'maize': 1, 'rice': 2, 'sugarcane': 3, 'wheat': 4}"
      ]
     },
     "execution_count": 7,
     "metadata": {},
     "output_type": "execute_result"
    }
   ],
   "source": [
    "#We are giving a number label to each class \n",
    "\n",
    "label_class = {}\n",
    "for i,label in enumerate(class_names):\n",
    "    label_class[label] = i\n",
    "label_class"
   ]
  },
  {
   "cell_type": "code",
   "execution_count": 8,
   "id": "excessive-check",
   "metadata": {},
   "outputs": [],
   "source": [
    "AUTOTUNE = tf.data.AUTOTUNE\n",
    "train = train.cache().shuffle(1000).prefetch(buffer_size=AUTOTUNE)\n",
    "dev = dev.cache().prefetch(buffer_size=AUTOTUNE)"
   ]
  },
  {
   "cell_type": "code",
   "execution_count": 9,
   "id": "level-import",
   "metadata": {},
   "outputs": [],
   "source": [
    "#Fnction to compile de the model\n",
    "def compile_model(model,opt):\n",
    "    model.compile(optimizer = opt,\n",
    "                  loss = tf.keras.losses.SparseCategoricalCrossentropy(from_logits=True),\n",
    "                  metrics = ['accuracy'])"
   ]
  },
  {
   "cell_type": "code",
   "execution_count": 10,
   "id": "valuable-alabama",
   "metadata": {},
   "outputs": [],
   "source": [
    "#Function to train the model\n",
    "def train_model(model,epochs):\n",
    "    history = model.fit(\n",
    "            train,\n",
    "            validation_data = dev,\n",
    "            epochs = epochs\n",
    "        )\n",
    "    model.summary()\n",
    "    return history"
   ]
  },
  {
   "cell_type": "code",
   "execution_count": 11,
   "id": "municipal-idaho",
   "metadata": {},
   "outputs": [],
   "source": [
    "#Function to plot accuracy and lose curves\n",
    "def plot_curves(history,epochs):\n",
    "    acc = history.history['accuracy']\n",
    "    dev_acc = history.history['val_accuracy']\n",
    "    loss = history.history['loss']\n",
    "    dev_loss = history.history['val_loss']\n",
    "    epochs_range = range(epochs)\n",
    "    plt.figure(figsize=(8, 8))\n",
    "    plt.subplot(1, 2, 1)\n",
    "    plt.plot(epochs_range, acc, label='Training Accuracy')\n",
    "    plt.plot(epochs_range, dev_acc, label='Validation Accuracy')\n",
    "    plt.legend(loc='lower right')\n",
    "    plt.title('Training and Validation Accuracy')\n",
    "    plt.subplot(1, 2, 2)\n",
    "    plt.plot(epochs_range, loss, label='Training Loss')\n",
    "    plt.plot(epochs_range, dev_loss, label='Validation Loss')\n",
    "    plt.legend(loc='upper right')\n",
    "    plt.title('Training and Validation Loss')\n",
    "    plt.show()"
   ]
  },
  {
   "cell_type": "code",
   "execution_count": 12,
   "id": "coordinated-bangkok",
   "metadata": {},
   "outputs": [],
   "source": [
    "#Function to load thest data\n",
    "def load_test_data():\n",
    "    test_data = pd.read_csv('archive_test/testdata.csv').iloc[:,1:]\n",
    "    path_kaggle = '/kaggle/input/testssss/test_crop_image/'\n",
    "    path_test_data = []\n",
    "    for i in test_data['testpath']:\n",
    "        path_test_data.append(os.path.relpath(i,path_kaggle))\n",
    "    test_data['image'] = path_test_data\n",
    "    return path_test_data,test_data"
   ]
  },
  {
   "cell_type": "code",
   "execution_count": 13,
   "id": "finished-stylus",
   "metadata": {},
   "outputs": [],
   "source": [
    "#Function to test model\n",
    "\n",
    "def test_model(image_path,model):\n",
    "    img = tf.keras.preprocessing.image.load_img( #Load one image at time.\n",
    "            image_path,\n",
    "            target_size = (img_height,img_width)\n",
    "    )\n",
    "    img_array = keras.preprocessing.image.img_to_array(img) #converts image to array\n",
    "    img_tensor = tf.expand_dims(img_array, 0) #converts array to tensor by adding a batch\n",
    "    pred = model.predict(img_tensor) #use model to predict\n",
    "    score = tf.nn.softmax(pred) # Apply softmax to the prediction\n",
    "    class_name = class_names[np.argmax(score)] #Get the class name with the highest score\n",
    "    confidence = 100*np.max(score) #Get probability for the class name\n",
    "    pred_label = label_class[class_name]# Get label for the prediction\n",
    "    return class_name,confidence,pred_label"
   ]
  },
  {
   "cell_type": "code",
   "execution_count": 14,
   "id": "promotional-calibration",
   "metadata": {},
   "outputs": [],
   "source": [
    "#Function to test model using accuracy\n",
    "def acc_score(path_test_data,test_data,model):  \n",
    "    test_list = []\n",
    "    for test_file in path_test_data: #Loop to iterate over each image in the directory\n",
    "        class_name,percentage,label = test_model(os.path.join(test_path,test_file),model) #apply prediction to one image\n",
    "        test_list.append(label)#append label to the list\n",
    "    test_data['pred'] = test_list # create a column in data frame with the list of labels predicted\n",
    "    y_true = test_data['croplabel'] #From test data file frome kaggle get the true label\n",
    "    y_pred = test_data['pred']   # get the pred label \n",
    "    acc = accuracy_score(y_true,y_pred) #get accuracy score for the whole test set \n",
    "    return acc*100 # get the percentage"
   ]
  },
  {
   "cell_type": "code",
   "execution_count": 15,
   "id": "noticed-teddy",
   "metadata": {},
   "outputs": [],
   "source": [
    "#Pipeline function to automate the compiling,train, plot curves and test data\n",
    "def pipeline(epochs,model,opt):\n",
    "    compile_model(model,opt)\n",
    "    history = train_model(model,epochs)\n",
    "    plot_curves(history,epochs)\n",
    "    path_test_data,test_data = load_test_data()\n",
    "    acc = acc_score(path_test_data,test_data,model)\n",
    "    return print('Accuracy score in the test set: ',acc)"
   ]
  },
  {
   "cell_type": "markdown",
   "id": "complimentary-eating",
   "metadata": {},
   "source": [
    "## Model building\n",
    "\n",
    "We define an optimization algorithm: Adam in the first place and default hyperparameters\n",
    "\n",
    "Model architecture following [tensorflow](https://www.tensorflow.org/tutorials/images/classification) guide to image classification :\n",
    "\n",
    "1.Re escale data by dividing pixels by 255.\n",
    "\n",
    "2.Convolutional layer of 16 filters and 3x3 size, followed by a Max pooling layer\n",
    "\n",
    "3.Convolutional layer of 32 filters and 3x3 size followed by a Max pooling layer\n",
    "\n",
    "4.Flatten the output from the convolutional layer and apply dropout regularization of 0.2 \n",
    "\n",
    "5.Two fully connected layers of 512 and 128 neurons\n",
    "\n",
    "6.Output layer with number of neurons as the number of classes"
   ]
  },
  {
   "cell_type": "code",
   "execution_count": 16,
   "id": "accessible-concentration",
   "metadata": {},
   "outputs": [],
   "source": [
    "opt = tf.keras.optimizers.Adam(learning_rate=0.001, beta_1=0.9, beta_2=0.999, epsilon=1e-07, amsgrad=False,\n",
    "    name='Adam')\n",
    "initial_model = Sequential([\n",
    "  layers.experimental.preprocessing.Rescaling(1./255, input_shape=(img_height, img_width, 3)),\n",
    "  layers.Conv2D(16, 3, padding='same', activation='relu'),\n",
    "  layers.MaxPooling2D(),\n",
    "  layers.Conv2D(32, 3, padding='same', activation='relu'),\n",
    "  layers.MaxPooling2D(),\n",
    "  layers.Flatten(),\n",
    "  layers.Dropout(0.2),\n",
    "  layers.Dense(512, activation='relu'),\n",
    "  layers.Dense(128, activation='relu'),\n",
    "  layers.Dense(num_classes),\n",
    "  \n",
    "])"
   ]
  },
  {
   "cell_type": "code",
   "execution_count": 17,
   "id": "national-television",
   "metadata": {},
   "outputs": [],
   "source": [
    "#pipeline(30,initial_model,opt)"
   ]
  },
  {
   "cell_type": "raw",
   "id": "trying-being",
   "metadata": {},
   "source": []
  },
  {
   "cell_type": "code",
   "execution_count": null,
   "id": "coupled-basics",
   "metadata": {},
   "outputs": [],
   "source": []
  },
  {
   "cell_type": "markdown",
   "id": "progressive-cleaners",
   "metadata": {},
   "source": [
    "The model performs well on the traning set and validation set but poorly on test set. Let's see if some regularization helps"
   ]
  },
  {
   "cell_type": "code",
   "execution_count": 18,
   "id": "dynamic-encyclopedia",
   "metadata": {},
   "outputs": [],
   "source": [
    "# Regularized Model\n",
    "regularized_model = Sequential([\n",
    "  layers.experimental.preprocessing.Rescaling(1./255, input_shape=(img_height, img_width, 3)),\n",
    "  layers.Conv2D(16, 3, padding='same', activation='relu'),\n",
    "  layers.MaxPooling2D(),\n",
    "  layers.Conv2D(32, 3, padding='same', activation='relu'),\n",
    "  layers.MaxPooling2D(),\n",
    "  layers.Flatten(),\n",
    "  layers.Dropout(0.2),\n",
    "  layers.Dense(512, activation='relu'),\n",
    "  layers.Dropout(0.2),\n",
    "  layers.Dense(128, activation='relu'),\n",
    "  layers.Dense(num_classes,kernel_regularizer = tf.keras.regularizers.L2(0.1)),\n",
    "  \n",
    "])"
   ]
  },
  {
   "cell_type": "code",
   "execution_count": 19,
   "id": "charming-folder",
   "metadata": {},
   "outputs": [],
   "source": [
    "#pipeline(30,regularized_model,opt)\n",
    "\n",
    "     "
   ]
  },
  {
   "cell_type": "code",
   "execution_count": null,
   "id": "divine-bennett",
   "metadata": {},
   "outputs": [],
   "source": []
  },
  {
   "cell_type": "markdown",
   "id": "civic-ordinary",
   "metadata": {},
   "source": [
    "\n",
    "\n"
   ]
  },
  {
   "cell_type": "markdown",
   "id": "victorian-seafood",
   "metadata": {},
   "source": [
    "### Data Augmentation"
   ]
  },
  {
   "cell_type": "code",
   "execution_count": 20,
   "id": "dried-robertson",
   "metadata": {},
   "outputs": [],
   "source": [
    "data_augmentation = tf.keras.Sequential([\n",
    "    layers.experimental.preprocessing.RandomRotation(0.2)\n",
    "])"
   ]
  },
  {
   "cell_type": "code",
   "execution_count": 21,
   "id": "considered-belle",
   "metadata": {},
   "outputs": [],
   "source": [
    "opt_2 = tf.keras.optimizers.Adam(learning_rate=0.01, beta_1=0.9, beta_2=0.999, epsilon=1e-07, amsgrad=False,\n",
    "    name='Adam')\n",
    "opt_3 = tf.keras.optimizers.SGD(learning_rate = 0.01,name  = 'SGD')"
   ]
  },
  {
   "cell_type": "code",
   "execution_count": 22,
   "id": "solid-cattle",
   "metadata": {},
   "outputs": [],
   "source": [
    "model_ag_data = tf.keras.Sequential([\n",
    "    data_augmentation,\n",
    "    layers.experimental.preprocessing.Rescaling(1./255, input_shape=(img_height, img_width, 3)),\n",
    "    layers.Conv2D(16, 3, padding='same', activation='relu'),\n",
    "    layers.MaxPooling2D(),\n",
    "    layers.Conv2D(32, 3, padding='same', activation='relu'),\n",
    "    layers.MaxPooling2D(),\n",
    "    layers.Flatten(),\n",
    "    layers.Dropout(0.2),\n",
    "    layers.Dense(512, activation='relu'),\n",
    "    layers.Dropout(0.2),\n",
    "    layers.Dense(256, activation='relu'),\n",
    "    layers.Dropout(0.2),\n",
    "    layers.Dense(128, activation='relu'),\n",
    "    layers.Dense(64, activation='relu'),\n",
    "    layers.Dense(num_classes),\n",
    "])\n"
   ]
  },
  {
   "cell_type": "code",
   "execution_count": 23,
   "id": "editorial-engineering",
   "metadata": {},
   "outputs": [
    {
     "name": "stdout",
     "output_type": "stream",
     "text": [
      "Epoch 1/60\n",
      "43/43 [==============================] - 6s 86ms/step - loss: 3.4571 - accuracy: 0.2153 - val_loss: 1.6051 - val_accuracy: 0.2176\n",
      "Epoch 2/60\n",
      "43/43 [==============================] - 3s 64ms/step - loss: 1.6078 - accuracy: 0.1976 - val_loss: 1.5859 - val_accuracy: 0.2176\n",
      "Epoch 3/60\n",
      "43/43 [==============================] - 3s 64ms/step - loss: 1.5958 - accuracy: 0.2263 - val_loss: 1.5654 - val_accuracy: 0.2824\n",
      "Epoch 4/60\n",
      "43/43 [==============================] - 3s 64ms/step - loss: 1.5860 - accuracy: 0.2647 - val_loss: 1.6255 - val_accuracy: 0.2412\n",
      "Epoch 5/60\n",
      "43/43 [==============================] - 3s 65ms/step - loss: 1.5178 - accuracy: 0.3038 - val_loss: 1.4923 - val_accuracy: 0.3118\n",
      "Epoch 6/60\n",
      "43/43 [==============================] - 3s 65ms/step - loss: 1.5070 - accuracy: 0.2956 - val_loss: 1.2899 - val_accuracy: 0.4882\n",
      "Epoch 7/60\n",
      "43/43 [==============================] - 3s 65ms/step - loss: 1.2991 - accuracy: 0.4990 - val_loss: 1.1496 - val_accuracy: 0.6412\n",
      "Epoch 8/60\n",
      "43/43 [==============================] - 3s 65ms/step - loss: 1.1991 - accuracy: 0.4870 - val_loss: 1.3704 - val_accuracy: 0.4941\n",
      "Epoch 9/60\n",
      "43/43 [==============================] - 3s 65ms/step - loss: 1.2304 - accuracy: 0.4957 - val_loss: 1.2483 - val_accuracy: 0.5235\n",
      "Epoch 10/60\n",
      "43/43 [==============================] - 3s 65ms/step - loss: 1.2753 - accuracy: 0.4963 - val_loss: 0.9895 - val_accuracy: 0.6412\n",
      "Epoch 11/60\n",
      "43/43 [==============================] - 3s 65ms/step - loss: 1.0148 - accuracy: 0.6003 - val_loss: 1.0436 - val_accuracy: 0.6706\n",
      "Epoch 12/60\n",
      "43/43 [==============================] - 3s 65ms/step - loss: 0.9610 - accuracy: 0.6223 - val_loss: 0.9263 - val_accuracy: 0.6588\n",
      "Epoch 13/60\n",
      "43/43 [==============================] - 3s 65ms/step - loss: 0.9142 - accuracy: 0.6477 - val_loss: 0.8573 - val_accuracy: 0.6765\n",
      "Epoch 14/60\n",
      "43/43 [==============================] - 3s 65ms/step - loss: 0.8659 - accuracy: 0.6455 - val_loss: 0.7781 - val_accuracy: 0.7294\n",
      "Epoch 15/60\n",
      "43/43 [==============================] - 3s 65ms/step - loss: 0.7728 - accuracy: 0.7001 - val_loss: 0.8642 - val_accuracy: 0.7000\n",
      "Epoch 16/60\n",
      "43/43 [==============================] - 3s 65ms/step - loss: 0.7553 - accuracy: 0.6730 - val_loss: 0.8149 - val_accuracy: 0.7118\n",
      "Epoch 17/60\n",
      "43/43 [==============================] - 3s 65ms/step - loss: 0.7538 - accuracy: 0.7130 - val_loss: 0.8377 - val_accuracy: 0.7235\n",
      "Epoch 18/60\n",
      "43/43 [==============================] - 3s 65ms/step - loss: 0.6729 - accuracy: 0.7215 - val_loss: 0.7632 - val_accuracy: 0.7353\n",
      "Epoch 19/60\n",
      "43/43 [==============================] - 3s 65ms/step - loss: 0.6038 - accuracy: 0.7854 - val_loss: 0.7695 - val_accuracy: 0.7353\n",
      "Epoch 20/60\n",
      "43/43 [==============================] - 3s 65ms/step - loss: 0.5874 - accuracy: 0.7875 - val_loss: 0.7976 - val_accuracy: 0.7235\n",
      "Epoch 21/60\n",
      "43/43 [==============================] - 3s 65ms/step - loss: 0.8222 - accuracy: 0.6773 - val_loss: 0.7373 - val_accuracy: 0.7529\n",
      "Epoch 22/60\n",
      "43/43 [==============================] - 3s 65ms/step - loss: 0.5786 - accuracy: 0.7842 - val_loss: 0.5742 - val_accuracy: 0.8412\n",
      "Epoch 23/60\n",
      "43/43 [==============================] - 3s 65ms/step - loss: 0.4424 - accuracy: 0.8321 - val_loss: 0.6636 - val_accuracy: 0.8176\n",
      "Epoch 24/60\n",
      "43/43 [==============================] - 3s 65ms/step - loss: 0.5515 - accuracy: 0.7991 - val_loss: 0.7866 - val_accuracy: 0.7118\n",
      "Epoch 25/60\n",
      "43/43 [==============================] - 3s 65ms/step - loss: 0.5969 - accuracy: 0.7782 - val_loss: 0.4801 - val_accuracy: 0.8588\n",
      "Epoch 26/60\n",
      "43/43 [==============================] - 3s 65ms/step - loss: 0.5030 - accuracy: 0.8330 - val_loss: 0.7371 - val_accuracy: 0.7941\n",
      "Epoch 27/60\n",
      "43/43 [==============================] - 3s 65ms/step - loss: 0.4325 - accuracy: 0.8453 - val_loss: 0.5395 - val_accuracy: 0.8529\n",
      "Epoch 28/60\n",
      "43/43 [==============================] - 3s 65ms/step - loss: 0.3874 - accuracy: 0.8466 - val_loss: 0.5075 - val_accuracy: 0.8824\n",
      "Epoch 29/60\n",
      "43/43 [==============================] - 3s 65ms/step - loss: 0.4576 - accuracy: 0.8298 - val_loss: 0.4994 - val_accuracy: 0.8824\n",
      "Epoch 30/60\n",
      "43/43 [==============================] - 3s 65ms/step - loss: 0.4265 - accuracy: 0.8387 - val_loss: 0.5516 - val_accuracy: 0.8941\n",
      "Epoch 31/60\n",
      "43/43 [==============================] - 3s 65ms/step - loss: 0.3692 - accuracy: 0.8808 - val_loss: 0.4951 - val_accuracy: 0.9118\n",
      "Epoch 32/60\n",
      "43/43 [==============================] - 3s 65ms/step - loss: 0.3683 - accuracy: 0.8720 - val_loss: 0.6951 - val_accuracy: 0.8353\n",
      "Epoch 33/60\n",
      "43/43 [==============================] - 3s 65ms/step - loss: 0.3703 - accuracy: 0.8805 - val_loss: 0.5642 - val_accuracy: 0.8941\n",
      "Epoch 34/60\n",
      "43/43 [==============================] - 3s 65ms/step - loss: 0.4230 - accuracy: 0.8639 - val_loss: 0.6284 - val_accuracy: 0.8529\n",
      "Epoch 35/60\n",
      "43/43 [==============================] - 3s 65ms/step - loss: 0.4230 - accuracy: 0.8414 - val_loss: 0.5199 - val_accuracy: 0.9353\n",
      "Epoch 36/60\n",
      "43/43 [==============================] - 3s 65ms/step - loss: 0.2661 - accuracy: 0.9307 - val_loss: 0.4888 - val_accuracy: 0.9000\n",
      "Epoch 37/60\n",
      "43/43 [==============================] - 3s 65ms/step - loss: 0.2831 - accuracy: 0.8924 - val_loss: 0.6259 - val_accuracy: 0.8706\n",
      "Epoch 38/60\n",
      "43/43 [==============================] - 3s 65ms/step - loss: 0.2432 - accuracy: 0.9283 - val_loss: 0.5141 - val_accuracy: 0.8882\n",
      "Epoch 39/60\n",
      "43/43 [==============================] - 3s 65ms/step - loss: 0.4157 - accuracy: 0.8640 - val_loss: 0.4482 - val_accuracy: 0.9000\n",
      "Epoch 40/60\n",
      "43/43 [==============================] - 3s 65ms/step - loss: 0.3344 - accuracy: 0.8818 - val_loss: 0.5744 - val_accuracy: 0.8412\n",
      "Epoch 41/60\n",
      "43/43 [==============================] - 3s 65ms/step - loss: 0.2695 - accuracy: 0.9026 - val_loss: 0.4974 - val_accuracy: 0.9118\n",
      "Epoch 42/60\n",
      "43/43 [==============================] - 3s 65ms/step - loss: 0.1744 - accuracy: 0.9494 - val_loss: 0.4767 - val_accuracy: 0.9059\n",
      "Epoch 43/60\n",
      "43/43 [==============================] - 3s 65ms/step - loss: 0.2268 - accuracy: 0.9131 - val_loss: 0.4981 - val_accuracy: 0.8824\n",
      "Epoch 44/60\n",
      "43/43 [==============================] - 3s 65ms/step - loss: 0.2540 - accuracy: 0.9263 - val_loss: 0.6615 - val_accuracy: 0.8824\n",
      "Epoch 45/60\n",
      "43/43 [==============================] - 3s 65ms/step - loss: 0.2822 - accuracy: 0.9144 - val_loss: 0.3852 - val_accuracy: 0.9353\n",
      "Epoch 46/60\n",
      "43/43 [==============================] - 3s 65ms/step - loss: 0.1341 - accuracy: 0.9606 - val_loss: 0.6282 - val_accuracy: 0.8353\n",
      "Epoch 47/60\n",
      "43/43 [==============================] - 3s 65ms/step - loss: 0.3087 - accuracy: 0.9160 - val_loss: 0.3878 - val_accuracy: 0.9471\n",
      "Epoch 48/60\n",
      "43/43 [==============================] - 3s 65ms/step - loss: 0.1808 - accuracy: 0.9429 - val_loss: 0.3732 - val_accuracy: 0.9412\n",
      "Epoch 49/60\n",
      "43/43 [==============================] - 3s 65ms/step - loss: 0.1632 - accuracy: 0.9497 - val_loss: 0.3899 - val_accuracy: 0.9353\n",
      "Epoch 50/60\n",
      "43/43 [==============================] - 3s 65ms/step - loss: 0.1300 - accuracy: 0.9546 - val_loss: 0.4713 - val_accuracy: 0.9294\n",
      "Epoch 51/60\n",
      "43/43 [==============================] - 3s 65ms/step - loss: 0.2019 - accuracy: 0.9364 - val_loss: 0.3428 - val_accuracy: 0.9118\n",
      "Epoch 52/60\n",
      "43/43 [==============================] - 3s 65ms/step - loss: 0.2816 - accuracy: 0.9134 - val_loss: 0.3994 - val_accuracy: 0.9412\n",
      "Epoch 53/60\n",
      "43/43 [==============================] - 3s 65ms/step - loss: 0.1395 - accuracy: 0.9628 - val_loss: 0.4030 - val_accuracy: 0.9471\n",
      "Epoch 54/60\n",
      "43/43 [==============================] - 3s 65ms/step - loss: 0.1444 - accuracy: 0.9510 - val_loss: 0.2967 - val_accuracy: 0.9647\n",
      "Epoch 55/60\n",
      "43/43 [==============================] - 3s 65ms/step - loss: 0.1658 - accuracy: 0.9472 - val_loss: 0.7792 - val_accuracy: 0.8706\n",
      "Epoch 56/60\n",
      "43/43 [==============================] - 3s 65ms/step - loss: 0.2331 - accuracy: 0.9292 - val_loss: 0.3448 - val_accuracy: 0.9706\n",
      "Epoch 57/60\n",
      "43/43 [==============================] - 3s 65ms/step - loss: 0.1234 - accuracy: 0.9532 - val_loss: 0.4060 - val_accuracy: 0.9294\n",
      "Epoch 58/60\n",
      "43/43 [==============================] - 3s 65ms/step - loss: 0.0902 - accuracy: 0.9711 - val_loss: 0.4259 - val_accuracy: 0.9235\n",
      "Epoch 59/60\n",
      "43/43 [==============================] - 3s 65ms/step - loss: 0.0956 - accuracy: 0.9765 - val_loss: 0.4194 - val_accuracy: 0.9647\n",
      "Epoch 60/60\n",
      "43/43 [==============================] - 3s 65ms/step - loss: 0.1157 - accuracy: 0.9566 - val_loss: 0.6324 - val_accuracy: 0.9059\n",
      "Model: \"sequential_3\"\n",
      "_________________________________________________________________\n",
      "Layer (type)                 Output Shape              Param #   \n",
      "=================================================================\n",
      "sequential_2 (Sequential)    (None, 256, 256, 3)       0         \n",
      "_________________________________________________________________\n",
      "rescaling_2 (Rescaling)      (None, 256, 256, 3)       0         \n",
      "_________________________________________________________________\n",
      "conv2d_4 (Conv2D)            (None, 256, 256, 16)      448       \n",
      "_________________________________________________________________\n",
      "max_pooling2d_4 (MaxPooling2 (None, 128, 128, 16)      0         \n",
      "_________________________________________________________________\n",
      "conv2d_5 (Conv2D)            (None, 128, 128, 32)      4640      \n",
      "_________________________________________________________________\n",
      "max_pooling2d_5 (MaxPooling2 (None, 64, 64, 32)        0         \n",
      "_________________________________________________________________\n",
      "flatten_2 (Flatten)          (None, 131072)            0         \n",
      "_________________________________________________________________\n",
      "dropout_3 (Dropout)          (None, 131072)            0         \n",
      "_________________________________________________________________\n",
      "dense_6 (Dense)              (None, 512)               67109376  \n",
      "_________________________________________________________________\n",
      "dropout_4 (Dropout)          (None, 512)               0         \n",
      "_________________________________________________________________\n",
      "dense_7 (Dense)              (None, 256)               131328    \n",
      "_________________________________________________________________\n",
      "dropout_5 (Dropout)          (None, 256)               0         \n",
      "_________________________________________________________________\n",
      "dense_8 (Dense)              (None, 128)               32896     \n",
      "_________________________________________________________________\n",
      "dense_9 (Dense)              (None, 64)                8256      \n",
      "_________________________________________________________________\n",
      "dense_10 (Dense)             (None, 5)                 325       \n",
      "=================================================================\n",
      "Total params: 67,287,269\n",
      "Trainable params: 67,287,269\n",
      "Non-trainable params: 0\n",
      "_________________________________________________________________\n"
     ]
    },
    {
     "data": {
      "image/png": "[encoded data removed]",
      "text/plain": [
       "<Figure size 576x576 with 2 Axes>"
      ]
     },
     "metadata": {
      "needs_background": "light"
     },
     "output_type": "display_data"
    },
    {
     "name": "stdout",
     "output_type": "stream",
     "text": [
      "Accuracy score in the test set:  47.05882352941176\n"
     ]
    }
   ],
   "source": [
    "pipeline(60,model_ag_data,opt)"
   ]
  },
  {
   "cell_type": "code",
   "execution_count": null,
   "id": "fifth-milwaukee",
   "metadata": {},
   "outputs": [],
   "source": []
  },
  {
   "cell_type": "code",
   "execution_count": null,
   "id": "internal-royalty",
   "metadata": {},
   "outputs": [],
   "source": []
  },
  {
   "cell_type": "code",
   "execution_count": null,
   "id": "cooked-progressive",
   "metadata": {},
   "outputs": [],
   "source": []
  },
  {
   "cell_type": "code",
   "execution_count": null,
   "id": "directed-klein",
   "metadata": {},
   "outputs": [],
   "source": []
  },
  {
   "cell_type": "code",
   "execution_count": null,
   "id": "peripheral-technical",
   "metadata": {},
   "outputs": [],
   "source": []
  },
  {
   "cell_type": "code",
   "execution_count": null,
   "id": "wireless-williams",
   "metadata": {},
   "outputs": [],
   "source": []
  },
  {
   "cell_type": "code",
   "execution_count": null,
   "id": "substantial-saudi",
   "metadata": {},
   "outputs": [],
   "source": []
  },
  {
   "cell_type": "code",
   "execution_count": null,
   "id": "forty-mediterranean",
   "metadata": {},
   "outputs": [],
   "source": []
  },
  {
   "cell_type": "code",
   "execution_count": null,
   "id": "addressed-screening",
   "metadata": {},
   "outputs": [],
   "source": []
  },
  {
   "cell_type": "code",
   "execution_count": null,
   "id": "final-hearts",
   "metadata": {},
   "outputs": [],
   "source": []
  },
  {
   "cell_type": "code",
   "execution_count": null,
   "id": "female-maria",
   "metadata": {},
   "outputs": [],
   "source": []
  }
 ],
 "metadata": {
  "kernelspec": {
   "display_name": "Python 3",
   "language": "python",
   "name": "python3"
  },
  "language_info": {
   "codemirror_mode": {
    "name": "ipython",
    "version": 3
   },
   "file_extension": ".py",
   "mimetype": "text/x-python",
   "name": "python",
   "nbconvert_exporter": "python",
   "pygments_lexer": "ipython3",
   "version": "3.8.5"
  }
 },
 "nbformat": 4,
 "nbformat_minor": 5
}

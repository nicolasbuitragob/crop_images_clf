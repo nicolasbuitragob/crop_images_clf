{
 "cells": [
  {
   "cell_type": "code",
   "execution_count": 1,
   "id": "initial-tactics",
   "metadata": {},
   "outputs": [],
   "source": [
    "import os\n",
    "import numpy as np\n",
    "import zipfile\n",
    "import tensorflow as tf\n",
    "import matplotlib.pyplot as plt\n",
    "import pandas as pd\n",
    "from tensorflow import keras\n",
    "from tensorflow.keras import layers\n",
    "from tensorflow.keras.models import Sequential\n",
    "from sklearn.metrics import accuracy_score"
   ]
  },
  {
   "cell_type": "code",
   "execution_count": 2,
   "id": "cultural-trainer",
   "metadata": {},
   "outputs": [],
   "source": [
    "with zipfile.ZipFile('archive.zip','r') as f:\n",
    "    f.extractall('archive')"
   ]
  },
  {
   "cell_type": "code",
   "execution_count": 2,
   "id": "backed-latino",
   "metadata": {},
   "outputs": [],
   "source": [
    "crops = ['jute','maize','rice','sugarcane','wheat']\n",
    "path = 'archive/kag2'\n",
    "test_path = 'archive_test/test_crop_image'"
   ]
  },
  {
   "cell_type": "code",
   "execution_count": 3,
   "id": "hidden-shanghai",
   "metadata": {},
   "outputs": [],
   "source": [
    "img_height = 256 \n",
    "img_width = 256\n",
    "batch_size = 16\n",
    "num_classes = 5\n",
    "\n",
    "def load_data(path,dataset):\n",
    "    data = tf.keras.preprocessing.image_dataset_from_directory(\n",
    "        path,\n",
    "        validation_split = 0.2,\n",
    "        subset = dataset,\n",
    "        batch_size=batch_size, \n",
    "        image_size=(img_height,img_width),\n",
    "        shuffle=True, seed=0\n",
    "    )\n",
    "    return data\n"
   ]
  },
  {
   "cell_type": "code",
   "execution_count": 4,
   "id": "found-territory",
   "metadata": {},
   "outputs": [
    {
     "name": "stdout",
     "output_type": "stream",
     "text": [
      "Found 854 files belonging to 5 classes.\n",
      "Using 684 files for training.\n"
     ]
    }
   ],
   "source": [
    "train = load_data(path,'training')"
   ]
  },
  {
   "cell_type": "code",
   "execution_count": 5,
   "id": "above-heater",
   "metadata": {},
   "outputs": [
    {
     "name": "stdout",
     "output_type": "stream",
     "text": [
      "Found 854 files belonging to 5 classes.\n",
      "Using 170 files for validation.\n"
     ]
    }
   ],
   "source": [
    "dev = load_data(path,'validation')"
   ]
  },
  {
   "cell_type": "code",
   "execution_count": 6,
   "id": "annoying-functionality",
   "metadata": {},
   "outputs": [
    {
     "data": {
      "text/plain": [
       "['jute', 'maize', 'rice', 'sugarcane', 'wheat']"
      ]
     },
     "execution_count": 6,
     "metadata": {},
     "output_type": "execute_result"
    }
   ],
   "source": [
    "class_names = train.class_names\n",
    "class_names"
   ]
  },
  {
   "cell_type": "code",
   "execution_count": 7,
   "id": "purple-shanghai",
   "metadata": {},
   "outputs": [],
   "source": [
    "label_class = {}\n",
    "for i,label in enumerate(class_names):\n",
    "    label_class[label] = i"
   ]
  },
  {
   "cell_type": "code",
   "execution_count": 8,
   "id": "experimental-character",
   "metadata": {},
   "outputs": [],
   "source": [
    "AUTOTUNE = tf.data.AUTOTUNE\n",
    "train = train.cache().shuffle(1000).prefetch(buffer_size=AUTOTUNE)\n",
    "dev = dev.cache().prefetch(buffer_size=AUTOTUNE)"
   ]
  },
  {
   "cell_type": "code",
   "execution_count": 9,
   "id": "regulation-vegetarian",
   "metadata": {},
   "outputs": [],
   "source": [
    "opt = tf.keras.optimizers.Adam(learning_rate=0.0001, beta_1=0.9, beta_2=0.999, epsilon=1e-07, amsgrad=False,\n",
    "    name='Adam')\n",
    "initial_model = Sequential([\n",
    "  layers.experimental.preprocessing.Rescaling(1./255, input_shape=(img_height, img_width, 3)),\n",
    "  layers.Conv2D(16, 3, padding='same', activation='relu'),\n",
    "  layers.MaxPooling2D(),\n",
    "  layers.Conv2D(32, 3, padding='same', activation='relu'),\n",
    "  layers.MaxPooling2D(),\n",
    "  layers.Dropout(0.2),\n",
    "  layers.Flatten(),\n",
    "  layers.Dense(512, activation='relu'),\n",
    "  layers.Dense(128, activation='relu',\n",
    "               kernel_regularizer = tf.keras.regularizers.L2(0.1),\n",
    "               activity_regularizer = tf.keras.regularizers.L2(0.01)),\n",
    "  layers.Dense(num_classes,\n",
    "               kernel_regularizer = tf.keras.regularizers.L2(0.1),\n",
    "               activity_regularizer = tf.keras.regularizers.L2(0.01)),\n",
    "  \n",
    "])"
   ]
  },
  {
   "cell_type": "code",
   "execution_count": 10,
   "id": "urban-catering",
   "metadata": {},
   "outputs": [],
   "source": [
    "def compile_model(model,opt):\n",
    "    model.compile(optimizer = opt,\n",
    "                  loss = tf.keras.losses.SparseCategoricalCrossentropy(from_logits=True),\n",
    "                  metrics = ['accuracy'])\n",
    "    return "
   ]
  },
  {
   "cell_type": "code",
   "execution_count": 11,
   "id": "separated-token",
   "metadata": {},
   "outputs": [],
   "source": [
    "def train_model(model,epochs):\n",
    "    history = model.fit(\n",
    "            train,\n",
    "            validation_data = dev,\n",
    "            epochs = epochs\n",
    "        )\n",
    "    model.summary()\n",
    "    return history"
   ]
  },
  {
   "cell_type": "code",
   "execution_count": 12,
   "id": "legendary-associate",
   "metadata": {},
   "outputs": [],
   "source": [
    "def plot_curves(history,epochs):\n",
    "    acc = history.history['accuracy']\n",
    "    dev_acc = history.history['val_accuracy']\n",
    "    loss = history.history['loss']\n",
    "    dev_loss = history.history['val_loss']\n",
    "    epochs_range = range(epochs)\n",
    "    plt.figure(figsize=(8, 8))\n",
    "    plt.subplot(1, 2, 1)\n",
    "    plt.plot(epochs_range, acc, label='Training Accuracy')\n",
    "    plt.plot(epochs_range, dev_acc, label='Validation Accuracy')\n",
    "    plt.legend(loc='lower right')\n",
    "    plt.title('Training and Validation Accuracy')\n",
    "    plt.subplot(1, 2, 2)\n",
    "    plt.plot(epochs_range, loss, label='Training Loss')\n",
    "    plt.plot(epochs_range, dev_loss, label='Validation Loss')\n",
    "    plt.legend(loc='upper right')\n",
    "    plt.title('Training and Validation Loss')\n",
    "    plt.show()"
   ]
  },
  {
   "cell_type": "code",
   "execution_count": 13,
   "id": "clear-monthly",
   "metadata": {},
   "outputs": [],
   "source": [
    "def load_test_data():\n",
    "    with zipfile.ZipFile('archive_test.zip','r') as f_t:\n",
    "        f_t.extractall('archive_test')\n",
    "    test_data = pd.read_csv('archive_test/testdata.csv').iloc[:,1:]\n",
    "    path_kaggle = '/kaggle/input/testssss/test_crop_image/'\n",
    "    path_test_data = []\n",
    "    for i in test_data['testpath']:\n",
    "        path_test_data.append(os.path.relpath(i,path_kaggle))\n",
    "    test_data['image'] = path_test_data\n",
    "    return path_test_data,test_data"
   ]
  },
  {
   "cell_type": "code",
   "execution_count": 14,
   "id": "alike-feature",
   "metadata": {},
   "outputs": [],
   "source": [
    "def test_model(image_path,model):\n",
    "    img = tf.keras.preprocessing.image.load_img(\n",
    "            image_path,\n",
    "            target_size = (img_height,img_width)\n",
    "    )\n",
    "    img_array = keras.preprocessing.image.img_to_array(img)\n",
    "    img_tensor = tf.expand_dims(img_array, 0)\n",
    "    pred = model.predict(img_tensor)\n",
    "    score = tf.nn.softmax(pred)\n",
    "    class_name = class_names[np.argmax(score)]\n",
    "    confidence = 100*np.max(score)\n",
    "    pred_label = label_class[class_name]\n",
    "    return class_name,confidence,pred_label"
   ]
  },
  {
   "cell_type": "code",
   "execution_count": 15,
   "id": "unlike-least",
   "metadata": {},
   "outputs": [],
   "source": [
    "def acc_score(path_test_data,test_data,model):  \n",
    "    test_list = []\n",
    "    for test_file in path_test_data:\n",
    "        class_name,percentage,label = test_model(os.path.join(test_path,test_file),model)\n",
    "        test_list.append(label)\n",
    "    test_data['pred'] = test_list\n",
    "    y_true = test_data['croplabel']\n",
    "    y_pred = test_data['pred']    \n",
    "    acc = accuracy_score(y_true,y_pred)\n",
    "    return acc*100"
   ]
  },
  {
   "cell_type": "code",
   "execution_count": 16,
   "id": "environmental-rhythm",
   "metadata": {},
   "outputs": [],
   "source": [
    "def pipeline(epochs,model,opt):\n",
    "    compile_model(model,opt)\n",
    "    history = train_model(model,epochs)\n",
    "    plot_curves(history,epochs)\n",
    "    path_test_data,test_data = load_test_data()\n",
    "    acc = acc_score(path_test_data,test_data,model)\n",
    "    return print('Accuracy score in the test set: ',acc)"
   ]
  },
  {
   "cell_type": "markdown",
   "id": "breathing-fishing",
   "metadata": {},
   "source": [
    "### Data Augmentation"
   ]
  },
  {
   "cell_type": "code",
   "execution_count": 18,
   "id": "thirty-belly",
   "metadata": {},
   "outputs": [],
   "source": [
    "data_augmentation = tf.keras.Sequential([\n",
    "    layers.experimental.preprocessing.RandomRotation(0.2),\n",
    "    layers.experimental.preprocessing.RandomFlip(\"horizontal_and_vertical\")\n",
    "])"
   ]
  },
  {
   "cell_type": "code",
   "execution_count": 19,
   "id": "cordless-innocent",
   "metadata": {},
   "outputs": [],
   "source": [
    "opt_2 = tf.keras.optimizers.Adam(learning_rate=0.01, beta_1=0.9, beta_2=0.999, epsilon=1e-07, amsgrad=False,\n",
    "    name='Adam')\n",
    "opt_3 = tf.keras.optimizers.SGD(learning_rate = 0.01,name  = 'SGD')"
   ]
  },
  {
   "cell_type": "code",
   "execution_count": 20,
   "id": "adequate-buyer",
   "metadata": {},
   "outputs": [],
   "source": [
    "model_ag_data = tf.keras.Sequential([\n",
    "    data_augmentation,\n",
    "    layers.experimental.preprocessing.Rescaling(1./255, input_shape=(img_height, img_width, 3)),\n",
    "    layers.Conv2D(16, 3, padding='same', activation='relu'),\n",
    "    layers.MaxPooling2D(),\n",
    "    layers.Conv2D(32, 3, padding='same', activation='relu'),\n",
    "    layers.MaxPooling2D(),\n",
    "    layers.Conv2D(64, 3, padding='same', activation='relu'),\n",
    "    layers.MaxPooling2D(),\n",
    "    layers.Flatten(),\n",
    "    layers.Dropout(0.2),\n",
    "    layers.Dense(256, activation='relu'),\n",
    "    layers.Dropout(0.2),\n",
    "    layers.Dense(128, activation='relu'),\n",
    "    layers.Dense(num_classes,kernel_regularizer = tf.keras.regularizers.L2(0.01))    \n",
    "])\n"
   ]
  },
  {
   "cell_type": "code",
   "execution_count": 21,
   "id": "continued-headline",
   "metadata": {},
   "outputs": [
    {
     "name": "stdout",
     "output_type": "stream",
     "text": [
      "Epoch 1/100\n",
      "43/43 [==============================] - 6s 73ms/step - loss: 1.7214 - accuracy: 0.2190 - val_loss: 1.7126 - val_accuracy: 0.1941\n",
      "Epoch 2/100\n",
      "43/43 [==============================] - 2s 46ms/step - loss: 1.6875 - accuracy: 0.2390 - val_loss: 1.6478 - val_accuracy: 0.3647\n",
      "Epoch 3/100\n",
      "43/43 [==============================] - 2s 47ms/step - loss: 1.6379 - accuracy: 0.2959 - val_loss: 1.5651 - val_accuracy: 0.4176\n",
      "Epoch 4/100\n",
      "43/43 [==============================] - 2s 47ms/step - loss: 1.5755 - accuracy: 0.3564 - val_loss: 1.5591 - val_accuracy: 0.3353\n",
      "Epoch 5/100\n",
      "43/43 [==============================] - 2s 47ms/step - loss: 1.5441 - accuracy: 0.3525 - val_loss: 1.4183 - val_accuracy: 0.4706\n",
      "Epoch 6/100\n",
      "43/43 [==============================] - 2s 47ms/step - loss: 1.5137 - accuracy: 0.3950 - val_loss: 1.4924 - val_accuracy: 0.3824\n",
      "Epoch 7/100\n",
      "43/43 [==============================] - 2s 47ms/step - loss: 1.4142 - accuracy: 0.4126 - val_loss: 1.3635 - val_accuracy: 0.4882\n",
      "Epoch 8/100\n",
      "43/43 [==============================] - 2s 46ms/step - loss: 1.4061 - accuracy: 0.4386 - val_loss: 1.3966 - val_accuracy: 0.4412\n",
      "Epoch 9/100\n",
      "43/43 [==============================] - 2s 47ms/step - loss: 1.4216 - accuracy: 0.4155 - val_loss: 1.3134 - val_accuracy: 0.4765\n",
      "Epoch 10/100\n",
      "43/43 [==============================] - 2s 46ms/step - loss: 1.3654 - accuracy: 0.4740 - val_loss: 1.3031 - val_accuracy: 0.5176\n",
      "Epoch 11/100\n",
      "43/43 [==============================] - 2s 47ms/step - loss: 1.3521 - accuracy: 0.4708 - val_loss: 1.4678 - val_accuracy: 0.3353\n",
      "Epoch 12/100\n",
      "43/43 [==============================] - 2s 47ms/step - loss: 1.3028 - accuracy: 0.4728 - val_loss: 1.3403 - val_accuracy: 0.5353\n",
      "Epoch 13/100\n",
      "43/43 [==============================] - 2s 47ms/step - loss: 1.3583 - accuracy: 0.4495 - val_loss: 1.2705 - val_accuracy: 0.5647\n",
      "Epoch 14/100\n",
      "43/43 [==============================] - 2s 47ms/step - loss: 1.3021 - accuracy: 0.5255 - val_loss: 1.3626 - val_accuracy: 0.4941\n",
      "Epoch 15/100\n",
      "43/43 [==============================] - 2s 47ms/step - loss: 1.2967 - accuracy: 0.5409 - val_loss: 1.2673 - val_accuracy: 0.5706\n",
      "Epoch 16/100\n",
      "43/43 [==============================] - 2s 47ms/step - loss: 1.3068 - accuracy: 0.5167 - val_loss: 1.2270 - val_accuracy: 0.5588\n",
      "Epoch 17/100\n",
      "43/43 [==============================] - 2s 47ms/step - loss: 1.2661 - accuracy: 0.5063 - val_loss: 1.4271 - val_accuracy: 0.4294\n",
      "Epoch 18/100\n",
      "43/43 [==============================] - 2s 47ms/step - loss: 1.2560 - accuracy: 0.5051 - val_loss: 1.1590 - val_accuracy: 0.6059\n",
      "Epoch 19/100\n",
      "43/43 [==============================] - 2s 47ms/step - loss: 1.1544 - accuracy: 0.5883 - val_loss: 1.1490 - val_accuracy: 0.6412\n",
      "Epoch 20/100\n",
      "43/43 [==============================] - 2s 47ms/step - loss: 1.1283 - accuracy: 0.5974 - val_loss: 1.1561 - val_accuracy: 0.6118\n",
      "Epoch 21/100\n",
      "43/43 [==============================] - 2s 47ms/step - loss: 1.1883 - accuracy: 0.5455 - val_loss: 1.2919 - val_accuracy: 0.5471\n",
      "Epoch 22/100\n",
      "43/43 [==============================] - 2s 47ms/step - loss: 1.2470 - accuracy: 0.5455 - val_loss: 1.1229 - val_accuracy: 0.5941\n",
      "Epoch 23/100\n",
      "43/43 [==============================] - 2s 47ms/step - loss: 1.1802 - accuracy: 0.5837 - val_loss: 1.0796 - val_accuracy: 0.6471\n",
      "Epoch 24/100\n",
      "43/43 [==============================] - 2s 47ms/step - loss: 1.1879 - accuracy: 0.5596 - val_loss: 1.1988 - val_accuracy: 0.5824\n",
      "Epoch 25/100\n",
      "43/43 [==============================] - 2s 47ms/step - loss: 1.1407 - accuracy: 0.5736 - val_loss: 1.0960 - val_accuracy: 0.6588\n",
      "Epoch 26/100\n",
      "43/43 [==============================] - 2s 47ms/step - loss: 1.0746 - accuracy: 0.6089 - val_loss: 1.0602 - val_accuracy: 0.6235\n",
      "Epoch 27/100\n",
      "43/43 [==============================] - 2s 47ms/step - loss: 1.0886 - accuracy: 0.5924 - val_loss: 1.0769 - val_accuracy: 0.6529\n",
      "Epoch 28/100\n",
      "43/43 [==============================] - 2s 47ms/step - loss: 1.1773 - accuracy: 0.5672 - val_loss: 1.0783 - val_accuracy: 0.6294\n",
      "Epoch 29/100\n",
      "43/43 [==============================] - 2s 47ms/step - loss: 1.0487 - accuracy: 0.6130 - val_loss: 1.0940 - val_accuracy: 0.6941\n",
      "Epoch 30/100\n",
      "43/43 [==============================] - 2s 47ms/step - loss: 1.0270 - accuracy: 0.6351 - val_loss: 0.9898 - val_accuracy: 0.7176\n",
      "Epoch 31/100\n",
      "43/43 [==============================] - 2s 47ms/step - loss: 1.0359 - accuracy: 0.6422 - val_loss: 1.0591 - val_accuracy: 0.6353\n",
      "Epoch 32/100\n",
      "43/43 [==============================] - 2s 47ms/step - loss: 1.0754 - accuracy: 0.5930 - val_loss: 1.0110 - val_accuracy: 0.6647\n",
      "Epoch 33/100\n",
      "43/43 [==============================] - 2s 47ms/step - loss: 0.9641 - accuracy: 0.6532 - val_loss: 0.9952 - val_accuracy: 0.7000\n",
      "Epoch 34/100\n",
      "43/43 [==============================] - 2s 47ms/step - loss: 0.9652 - accuracy: 0.6707 - val_loss: 0.9850 - val_accuracy: 0.6765\n",
      "Epoch 35/100\n",
      "43/43 [==============================] - 2s 47ms/step - loss: 1.0036 - accuracy: 0.6370 - val_loss: 1.0059 - val_accuracy: 0.6471\n",
      "Epoch 36/100\n",
      "43/43 [==============================] - 2s 47ms/step - loss: 0.9850 - accuracy: 0.6429 - val_loss: 1.0443 - val_accuracy: 0.6647\n",
      "Epoch 37/100\n",
      "43/43 [==============================] - 2s 47ms/step - loss: 1.0114 - accuracy: 0.6566 - val_loss: 1.0345 - val_accuracy: 0.6941\n",
      "Epoch 38/100\n",
      "43/43 [==============================] - 2s 47ms/step - loss: 0.9859 - accuracy: 0.6619 - val_loss: 1.1119 - val_accuracy: 0.6059\n",
      "Epoch 39/100\n",
      "43/43 [==============================] - 2s 47ms/step - loss: 0.9723 - accuracy: 0.6477 - val_loss: 0.9180 - val_accuracy: 0.7235\n",
      "Epoch 40/100\n",
      "43/43 [==============================] - 2s 47ms/step - loss: 0.9235 - accuracy: 0.6886 - val_loss: 1.0318 - val_accuracy: 0.6647\n",
      "Epoch 41/100\n",
      "43/43 [==============================] - 2s 47ms/step - loss: 0.9379 - accuracy: 0.6547 - val_loss: 0.9228 - val_accuracy: 0.7176\n",
      "Epoch 42/100\n",
      "43/43 [==============================] - 2s 47ms/step - loss: 0.9665 - accuracy: 0.6322 - val_loss: 0.9631 - val_accuracy: 0.7000\n",
      "Epoch 43/100\n",
      "43/43 [==============================] - 2s 47ms/step - loss: 0.9529 - accuracy: 0.6759 - val_loss: 0.8597 - val_accuracy: 0.7353\n",
      "Epoch 44/100\n",
      "43/43 [==============================] - 2s 47ms/step - loss: 0.9602 - accuracy: 0.6634 - val_loss: 1.0016 - val_accuracy: 0.6588\n",
      "Epoch 45/100\n",
      "43/43 [==============================] - 2s 47ms/step - loss: 0.9462 - accuracy: 0.6740 - val_loss: 0.9924 - val_accuracy: 0.7118\n",
      "Epoch 46/100\n",
      "43/43 [==============================] - 2s 47ms/step - loss: 0.8319 - accuracy: 0.7210 - val_loss: 0.7992 - val_accuracy: 0.7706\n",
      "Epoch 47/100\n",
      "43/43 [==============================] - 2s 47ms/step - loss: 0.8459 - accuracy: 0.6987 - val_loss: 0.8582 - val_accuracy: 0.6941\n",
      "Epoch 48/100\n",
      "43/43 [==============================] - 2s 47ms/step - loss: 0.8399 - accuracy: 0.7014 - val_loss: 0.7460 - val_accuracy: 0.7647\n",
      "Epoch 49/100\n",
      "43/43 [==============================] - 2s 47ms/step - loss: 0.8139 - accuracy: 0.7233 - val_loss: 0.8962 - val_accuracy: 0.6824\n",
      "Epoch 50/100\n",
      "43/43 [==============================] - 2s 47ms/step - loss: 0.7365 - accuracy: 0.7552 - val_loss: 0.7431 - val_accuracy: 0.7824\n",
      "Epoch 51/100\n",
      "43/43 [==============================] - 2s 47ms/step - loss: 0.8324 - accuracy: 0.7018 - val_loss: 0.7468 - val_accuracy: 0.8118\n",
      "Epoch 52/100\n",
      "43/43 [==============================] - 2s 47ms/step - loss: 0.7685 - accuracy: 0.7470 - val_loss: 0.8576 - val_accuracy: 0.7294\n",
      "Epoch 53/100\n",
      "43/43 [==============================] - 2s 47ms/step - loss: 0.7091 - accuracy: 0.7557 - val_loss: 0.7731 - val_accuracy: 0.7353\n",
      "Epoch 54/100\n",
      "43/43 [==============================] - 2s 47ms/step - loss: 0.8163 - accuracy: 0.7402 - val_loss: 0.7652 - val_accuracy: 0.7706\n",
      "Epoch 55/100\n",
      "43/43 [==============================] - 2s 47ms/step - loss: 0.6724 - accuracy: 0.7868 - val_loss: 0.9277 - val_accuracy: 0.6471\n",
      "Epoch 56/100\n",
      "43/43 [==============================] - 2s 47ms/step - loss: 0.8038 - accuracy: 0.7088 - val_loss: 0.8250 - val_accuracy: 0.7294\n",
      "Epoch 57/100\n",
      "43/43 [==============================] - 2s 47ms/step - loss: 0.7490 - accuracy: 0.7805 - val_loss: 0.7231 - val_accuracy: 0.7882\n",
      "Epoch 58/100\n",
      "43/43 [==============================] - 2s 47ms/step - loss: 0.6985 - accuracy: 0.7493 - val_loss: 0.7968 - val_accuracy: 0.7059\n",
      "Epoch 59/100\n",
      "43/43 [==============================] - 2s 47ms/step - loss: 0.8052 - accuracy: 0.7130 - val_loss: 0.6458 - val_accuracy: 0.8235\n",
      "Epoch 60/100\n",
      "43/43 [==============================] - 2s 47ms/step - loss: 0.7084 - accuracy: 0.7783 - val_loss: 0.6769 - val_accuracy: 0.7941\n",
      "Epoch 61/100\n",
      "43/43 [==============================] - 2s 47ms/step - loss: 0.6915 - accuracy: 0.7783 - val_loss: 0.6793 - val_accuracy: 0.8235\n",
      "Epoch 62/100\n",
      "43/43 [==============================] - 2s 47ms/step - loss: 0.6742 - accuracy: 0.7788 - val_loss: 0.6114 - val_accuracy: 0.8353\n",
      "Epoch 63/100\n",
      "43/43 [==============================] - 2s 47ms/step - loss: 0.6300 - accuracy: 0.7838 - val_loss: 0.6490 - val_accuracy: 0.8118\n",
      "Epoch 64/100\n",
      "43/43 [==============================] - 2s 47ms/step - loss: 0.6015 - accuracy: 0.8013 - val_loss: 0.6342 - val_accuracy: 0.8294\n",
      "Epoch 65/100\n",
      "43/43 [==============================] - 2s 47ms/step - loss: 0.6417 - accuracy: 0.7954 - val_loss: 0.6169 - val_accuracy: 0.8353\n",
      "Epoch 66/100\n",
      "43/43 [==============================] - 2s 47ms/step - loss: 0.5508 - accuracy: 0.8405 - val_loss: 0.6909 - val_accuracy: 0.8353\n",
      "Epoch 67/100\n",
      "43/43 [==============================] - 2s 47ms/step - loss: 0.5649 - accuracy: 0.8033 - val_loss: 0.4973 - val_accuracy: 0.8706\n",
      "Epoch 68/100\n",
      "43/43 [==============================] - 2s 47ms/step - loss: 0.5431 - accuracy: 0.8273 - val_loss: 0.5067 - val_accuracy: 0.8706\n",
      "Epoch 69/100\n",
      "43/43 [==============================] - 2s 47ms/step - loss: 0.5317 - accuracy: 0.8433 - val_loss: 0.5344 - val_accuracy: 0.8294\n",
      "Epoch 70/100\n",
      "43/43 [==============================] - 2s 47ms/step - loss: 0.5569 - accuracy: 0.8142 - val_loss: 0.4886 - val_accuracy: 0.8588\n",
      "Epoch 71/100\n",
      "43/43 [==============================] - 2s 47ms/step - loss: 0.5304 - accuracy: 0.8258 - val_loss: 0.7879 - val_accuracy: 0.7471\n",
      "Epoch 72/100\n",
      "43/43 [==============================] - 2s 47ms/step - loss: 0.5654 - accuracy: 0.8075 - val_loss: 0.5109 - val_accuracy: 0.8647\n",
      "Epoch 73/100\n",
      "43/43 [==============================] - 2s 47ms/step - loss: 0.5056 - accuracy: 0.8578 - val_loss: 0.4259 - val_accuracy: 0.8882\n",
      "Epoch 74/100\n",
      "43/43 [==============================] - 2s 47ms/step - loss: 0.4868 - accuracy: 0.8487 - val_loss: 0.5020 - val_accuracy: 0.8765\n",
      "Epoch 75/100\n",
      "43/43 [==============================] - 2s 47ms/step - loss: 0.4569 - accuracy: 0.8697 - val_loss: 0.4093 - val_accuracy: 0.9235\n",
      "Epoch 76/100\n",
      "43/43 [==============================] - 2s 47ms/step - loss: 0.4093 - accuracy: 0.8867 - val_loss: 0.4722 - val_accuracy: 0.8824\n",
      "Epoch 77/100\n",
      "43/43 [==============================] - 2s 47ms/step - loss: 0.4764 - accuracy: 0.8696 - val_loss: 0.4429 - val_accuracy: 0.9059\n",
      "Epoch 78/100\n",
      "43/43 [==============================] - 2s 47ms/step - loss: 0.4371 - accuracy: 0.8667 - val_loss: 0.4640 - val_accuracy: 0.8647\n",
      "Epoch 79/100\n",
      "43/43 [==============================] - 2s 47ms/step - loss: 0.4694 - accuracy: 0.8614 - val_loss: 0.3642 - val_accuracy: 0.9235\n",
      "Epoch 80/100\n",
      "43/43 [==============================] - 2s 47ms/step - loss: 0.3583 - accuracy: 0.9086 - val_loss: 0.5465 - val_accuracy: 0.8412\n",
      "Epoch 81/100\n",
      "43/43 [==============================] - 2s 47ms/step - loss: 0.5294 - accuracy: 0.8274 - val_loss: 0.5256 - val_accuracy: 0.8118\n",
      "Epoch 82/100\n",
      "43/43 [==============================] - 2s 47ms/step - loss: 0.3356 - accuracy: 0.9218 - val_loss: 0.6964 - val_accuracy: 0.7647\n",
      "Epoch 83/100\n",
      "43/43 [==============================] - 2s 47ms/step - loss: 0.4102 - accuracy: 0.8825 - val_loss: 0.4862 - val_accuracy: 0.8471\n",
      "Epoch 84/100\n",
      "43/43 [==============================] - 2s 47ms/step - loss: 0.4443 - accuracy: 0.8665 - val_loss: 0.7429 - val_accuracy: 0.7000\n",
      "Epoch 85/100\n",
      "43/43 [==============================] - 2s 47ms/step - loss: 0.4086 - accuracy: 0.8726 - val_loss: 0.4448 - val_accuracy: 0.8824\n",
      "Epoch 86/100\n",
      "43/43 [==============================] - 2s 47ms/step - loss: 0.3601 - accuracy: 0.8970 - val_loss: 0.4185 - val_accuracy: 0.8882\n",
      "Epoch 87/100\n",
      "43/43 [==============================] - 2s 47ms/step - loss: 0.3573 - accuracy: 0.9010 - val_loss: 0.4719 - val_accuracy: 0.8941\n",
      "Epoch 88/100\n",
      "43/43 [==============================] - 2s 47ms/step - loss: 0.3557 - accuracy: 0.9066 - val_loss: 0.3676 - val_accuracy: 0.9235\n",
      "Epoch 89/100\n",
      "43/43 [==============================] - 2s 47ms/step - loss: 0.3689 - accuracy: 0.9036 - val_loss: 0.3463 - val_accuracy: 0.9176\n",
      "Epoch 90/100\n",
      "43/43 [==============================] - 2s 47ms/step - loss: 0.3575 - accuracy: 0.8865 - val_loss: 0.3130 - val_accuracy: 0.9412\n",
      "Epoch 91/100\n",
      "43/43 [==============================] - 2s 47ms/step - loss: 0.2612 - accuracy: 0.9362 - val_loss: 0.3367 - val_accuracy: 0.9294\n",
      "Epoch 92/100\n",
      "43/43 [==============================] - 2s 47ms/step - loss: 0.3227 - accuracy: 0.9103 - val_loss: 0.3600 - val_accuracy: 0.9118\n",
      "Epoch 93/100\n",
      "43/43 [==============================] - 2s 47ms/step - loss: 0.3249 - accuracy: 0.9098 - val_loss: 0.4361 - val_accuracy: 0.8706\n",
      "Epoch 94/100\n",
      "43/43 [==============================] - 2s 47ms/step - loss: 0.3091 - accuracy: 0.9228 - val_loss: 0.3251 - val_accuracy: 0.9353\n",
      "Epoch 95/100\n",
      "43/43 [==============================] - 2s 47ms/step - loss: 0.3251 - accuracy: 0.9061 - val_loss: 0.3139 - val_accuracy: 0.9471\n",
      "Epoch 96/100\n",
      "43/43 [==============================] - 2s 47ms/step - loss: 0.4887 - accuracy: 0.8729 - val_loss: 0.2917 - val_accuracy: 0.9471\n",
      "Epoch 97/100\n",
      "43/43 [==============================] - 2s 47ms/step - loss: 0.3680 - accuracy: 0.8899 - val_loss: 0.3425 - val_accuracy: 0.9235\n",
      "Epoch 98/100\n",
      "43/43 [==============================] - 2s 47ms/step - loss: 0.2611 - accuracy: 0.9353 - val_loss: 0.2969 - val_accuracy: 0.9412\n",
      "Epoch 99/100\n",
      "43/43 [==============================] - 2s 48ms/step - loss: 0.2315 - accuracy: 0.9412 - val_loss: 0.2921 - val_accuracy: 0.9294\n",
      "Epoch 100/100\n",
      "43/43 [==============================] - 2s 48ms/step - loss: 0.2490 - accuracy: 0.9230 - val_loss: 0.2392 - val_accuracy: 0.9706\n",
      "Model: \"sequential_2\"\n",
      "_________________________________________________________________\n",
      "Layer (type)                 Output Shape              Param #   \n",
      "=================================================================\n",
      "sequential_1 (Sequential)    (None, 256, 256, 3)       0         \n",
      "_________________________________________________________________\n",
      "rescaling_1 (Rescaling)      (None, 256, 256, 3)       0         \n",
      "_________________________________________________________________\n",
      "conv2d_2 (Conv2D)            (None, 256, 256, 16)      448       \n",
      "_________________________________________________________________\n",
      "max_pooling2d_2 (MaxPooling2 (None, 128, 128, 16)      0         \n",
      "_________________________________________________________________\n",
      "conv2d_3 (Conv2D)            (None, 128, 128, 32)      4640      \n",
      "_________________________________________________________________\n",
      "max_pooling2d_3 (MaxPooling2 (None, 64, 64, 32)        0         \n",
      "_________________________________________________________________\n",
      "conv2d_4 (Conv2D)            (None, 64, 64, 64)        18496     \n",
      "_________________________________________________________________\n",
      "max_pooling2d_4 (MaxPooling2 (None, 32, 32, 64)        0         \n",
      "_________________________________________________________________\n",
      "flatten_1 (Flatten)          (None, 65536)             0         \n",
      "_________________________________________________________________\n",
      "dropout_1 (Dropout)          (None, 65536)             0         \n",
      "_________________________________________________________________\n",
      "dense_3 (Dense)              (None, 256)               16777472  \n",
      "_________________________________________________________________\n",
      "dropout_2 (Dropout)          (None, 256)               0         \n",
      "_________________________________________________________________\n",
      "dense_4 (Dense)              (None, 128)               32896     \n",
      "_________________________________________________________________\n",
      "dense_5 (Dense)              (None, 5)                 645       \n",
      "=================================================================\n",
      "Total params: 16,834,597\n",
      "Trainable params: 16,834,597\n",
      "Non-trainable params: 0\n",
      "_________________________________________________________________\n"
     ]
    },
    {
     "data": {
      "image/png": "[encoded data removed]",
      "text/plain": [
       "<Figure size 576x576 with 2 Axes>"
      ]
     },
     "metadata": {
      "needs_background": "light"
     },
     "output_type": "display_data"
    },
    {
     "name": "stdout",
     "output_type": "stream",
     "text": [
      "Accuracy score in the test set:  66.66666666666666\n"
     ]
    }
   ],
   "source": [
    "pipeline(100,model_ag_data,opt_3)"
   ]
  },
  {
   "cell_type": "code",
   "execution_count": null,
   "id": "headed-mapping",
   "metadata": {},
   "outputs": [],
   "source": []
  },
  {
   "cell_type": "code",
   "execution_count": null,
   "id": "brilliant-wales",
   "metadata": {},
   "outputs": [],
   "source": []
  },
  {
   "cell_type": "code",
   "execution_count": null,
   "id": "broad-chest",
   "metadata": {},
   "outputs": [],
   "source": []
  },
  {
   "cell_type": "code",
   "execution_count": null,
   "id": "growing-sampling",
   "metadata": {},
   "outputs": [],
   "source": []
  },
  {
   "cell_type": "code",
   "execution_count": null,
   "id": "leading-surge",
   "metadata": {},
   "outputs": [],
   "source": []
  },
  {
   "cell_type": "code",
   "execution_count": null,
   "id": "infinite-summary",
   "metadata": {},
   "outputs": [],
   "source": []
  },
  {
   "cell_type": "code",
   "execution_count": null,
   "id": "comparative-robert",
   "metadata": {},
   "outputs": [],
   "source": []
  },
  {
   "cell_type": "code",
   "execution_count": null,
   "id": "dramatic-retailer",
   "metadata": {},
   "outputs": [],
   "source": []
  }
 ],
 "metadata": {
  "kernelspec": {
   "display_name": "Python 3",
   "language": "python",
   "name": "python3"
  },
  "language_info": {
   "codemirror_mode": {
    "name": "ipython",
    "version": 3
   },
   "file_extension": ".py",
   "mimetype": "text/x-python",
   "name": "python",
   "nbconvert_exporter": "python",
   "pygments_lexer": "ipython3",
   "version": "3.8.5"
  }
 },
 "nbformat": 4,
 "nbformat_minor": 5
}
